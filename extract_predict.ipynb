{
 "cells": [
  {
   "cell_type": "code",
   "execution_count": 1,
   "metadata": {},
   "outputs": [],
   "source": [
    "import re"
   ]
  },
  {
   "cell_type": "code",
   "execution_count": 2,
   "metadata": {},
   "outputs": [],
   "source": [
    "def extract_metrics(data: str):\n",
    "    # 解析数据\n",
    "    metrics = {\n",
    "        \"recall\": {},\n",
    "        \"mrr\": {},\n",
    "        \"ndcg\": {}\n",
    "    }\n",
    "    \n",
    "    for line in data.strip().split(\"\\n\"):\n",
    "        match = re.search(r'wandb:\\s+train/predict_(\\w+)@(\\d+)\\s+([\\d.]+)', line)\n",
    "        if match:\n",
    "            metric, k, value = match.groups()\n",
    "            if metric in metrics:\n",
    "                metrics[metric][int(k)] = round(float(value), 4) # 保留小数点后四位\n",
    "    \n",
    "    # 按照 recall 1-50, mrr 1-50, ndcg 1-50 顺序整理\n",
    "    result = []\n",
    "    for metric in [\"recall\", \"mrr\", \"ndcg\"]:\n",
    "        for k in sorted(metrics[metric]):\n",
    "            result.append(str(metrics[metric][k]))\n",
    "    \n",
    "    return \", \".join(result)"
   ]
  },
  {
   "cell_type": "code",
   "execution_count": 6,
   "metadata": {},
   "outputs": [
    {
     "name": "stdout",
     "output_type": "stream",
     "text": [
      "0.0176, 0.0433, 0.0689, 0.1074, 0.1923, 0.0176, 0.0267, 0.03, 0.0325, 0.0351, 0.0176, 0.0308, 0.0389, 0.0485, 0.0652\n"
     ]
    }
   ],
   "source": [
    "# 1 - 5e-7\n",
    "\n",
    "data = \"\"\"\n",
    "wandb:              train/predict_mrr@1 0.01763\n",
    "wandb:             train/predict_mrr@10 0.02998\n",
    "wandb:             train/predict_mrr@20 0.03249\n",
    "wandb:              train/predict_mrr@5 0.02674\n",
    "wandb:             train/predict_mrr@50 0.03512\n",
    "wandb:             train/predict_ndcg@1 0.01763\n",
    "wandb:            train/predict_ndcg@10 0.03894\n",
    "wandb:            train/predict_ndcg@20 0.04846\n",
    "wandb:             train/predict_ndcg@5 0.03083\n",
    "wandb:            train/predict_ndcg@50 0.06522\n",
    "wandb:           train/predict_recall@1 0.01763\n",
    "wandb:          train/predict_recall@10 0.06891\n",
    "wandb:          train/predict_recall@20 0.10737\n",
    "wandb:           train/predict_recall@5 0.04327\n",
    "wandb:          train/predict_recall@50 0.19231\n",
    "\"\"\"\n",
    "\n",
    "print(extract_metrics(data))\n"
   ]
  },
  {
   "cell_type": "code",
   "execution_count": 4,
   "metadata": {},
   "outputs": [
    {
     "name": "stdout",
     "output_type": "stream",
     "text": [
      "0.00962, 0.04006, 0.05929, 0.09936, 0.16026, 0.00962, 0.01918, 0.02179, 0.02458, 0.02644, 0.00962, 0.02429, 0.03055, 0.04069, 0.05265\n"
     ]
    }
   ],
   "source": [
    "# 1 - 1e-7\n",
    "\n",
    "data = \"\"\"\n",
    "wandb:              train/predict_mrr@1 0.00962\n",
    "wandb:             train/predict_mrr@10 0.02179\n",
    "wandb:             train/predict_mrr@20 0.02458\n",
    "wandb:              train/predict_mrr@5 0.01918\n",
    "wandb:             train/predict_mrr@50 0.02644\n",
    "wandb:             train/predict_ndcg@1 0.00962\n",
    "wandb:            train/predict_ndcg@10 0.03055\n",
    "wandb:            train/predict_ndcg@20 0.04069\n",
    "wandb:             train/predict_ndcg@5 0.02429\n",
    "wandb:            train/predict_ndcg@50 0.05265\n",
    "wandb:           train/predict_recall@1 0.00962\n",
    "wandb:          train/predict_recall@10 0.05929\n",
    "wandb:          train/predict_recall@20 0.09936\n",
    "wandb:           train/predict_recall@5 0.04006\n",
    "wandb:          train/predict_recall@50 0.16026\n",
    "\"\"\"\n",
    "\n",
    "print(extract_metrics(data))"
   ]
  },
  {
   "cell_type": "code",
   "execution_count": 7,
   "metadata": {},
   "outputs": [],
   "source": [
    "import re\n",
    "\n",
    "def parse_metrics(data: str):\n",
    "    # 解析数据\n",
    "    metrics = {\"recall\": {}, \"mrr\": {}, \"ndcg\": {}}\n",
    "    \n",
    "    for line in data.strip().split(\"\\n\"):\n",
    "        match = re.search(r'predict_(\\w+)@(\\d+)\\s*=\\s*([\\d.]+)', line)\n",
    "        if match:\n",
    "            metric, k, value = match.groups()\n",
    "            if metric in metrics:\n",
    "                metrics[metric][int(k)] = float(value)\n",
    "    \n",
    "    # 按 recall 1-50, mrr 1-50, ndcg 1-50 顺序整理\n",
    "    result = []\n",
    "    for metric in [\"recall\", \"mrr\", \"ndcg\"]:\n",
    "        for k in sorted(metrics[metric]):\n",
    "            result.append(str(metrics[metric][k]))\n",
    "    \n",
    "    return \", \".join(result)\n"
   ]
  },
  {
   "cell_type": "code",
   "execution_count": 5,
   "metadata": {},
   "outputs": [
    {
     "name": "stdout",
     "output_type": "stream",
     "text": [
      "0.0176, 0.0657, 0.101, 0.1587, 0.2436, 0.0176, 0.034, 0.0387, 0.0427, 0.0454, 0.0176, 0.0418, 0.0532, 0.0678, 0.0847\n"
     ]
    }
   ],
   "source": [
    "# 1 - 5e-6\n",
    "\n",
    "data = \"\"\"\n",
    "wandb:               train/predict_loss 7.52584\n",
    "wandb:              train/predict_mrr@1 0.01763\n",
    "wandb:             train/predict_mrr@10 0.03866\n",
    "wandb:             train/predict_mrr@20 0.04266\n",
    "wandb:              train/predict_mrr@5 0.03397\n",
    "wandb:             train/predict_mrr@50 0.0454\n",
    "wandb:             train/predict_ndcg@1 0.01763\n",
    "wandb:            train/predict_ndcg@10 0.05317\n",
    "wandb:            train/predict_ndcg@20 0.06776\n",
    "wandb:             train/predict_ndcg@5 0.04179\n",
    "wandb:            train/predict_ndcg@50 0.08467\n",
    "wandb:           train/predict_recall@1 0.01763\n",
    "wandb:          train/predict_recall@10 0.10096\n",
    "wandb:          train/predict_recall@20 0.15865\n",
    "wandb:           train/predict_recall@5 0.06571\n",
    "wandb:          train/predict_recall@50 0.24359\n",
    "\"\"\"\n",
    "\n",
    "# 输出整理后的数据\n",
    "print(extract_metrics(data))"
   ]
  },
  {
   "cell_type": "code",
   "execution_count": 7,
   "metadata": {},
   "outputs": [
    {
     "name": "stdout",
     "output_type": "stream",
     "text": [
      "0.0144, 0.0529, 0.0785, 0.1202, 0.2099, 0.0144, 0.0291, 0.0325, 0.0352, 0.0381, 0.0144, 0.0351, 0.0433, 0.0536, 0.0715\n"
     ]
    }
   ],
   "source": [
    "# 2 - 1e-6\n",
    "\n",
    "data = \"\"\"\n",
    "wandb:                       train/loss 7.4922\n",
    "wandb:               train/predict_loss 7.6276\n",
    "wandb:              train/predict_mrr@1 0.01442\n",
    "wandb:             train/predict_mrr@10 0.03246\n",
    "wandb:             train/predict_mrr@20 0.03522\n",
    "wandb:              train/predict_mrr@5 0.02914\n",
    "wandb:             train/predict_mrr@50 0.03814\n",
    "wandb:             train/predict_ndcg@1 0.01442\n",
    "wandb:            train/predict_ndcg@10 0.04326\n",
    "wandb:            train/predict_ndcg@20 0.05362\n",
    "wandb:             train/predict_ndcg@5 0.03507\n",
    "wandb:            train/predict_ndcg@50 0.07153\n",
    "wandb:           train/predict_recall@1 0.01442\n",
    "wandb:          train/predict_recall@10 0.07853\n",
    "wandb:          train/predict_recall@20 0.12019\n",
    "wandb:           train/predict_recall@5 0.05288\n",
    "wandb:          train/predict_recall@50 0.20994\n",
    "wandb:            train/predict_runtime 24.7803\n",
    "\"\"\"\n",
    "\n",
    "print(extract_metrics(data))"
   ]
  },
  {
   "cell_type": "code",
   "execution_count": 8,
   "metadata": {},
   "outputs": [
    {
     "name": "stdout",
     "output_type": "stream",
     "text": [
      "0.0144, 0.0673, 0.1042, 0.1474, 0.2484, 0.0144, 0.034, 0.0389, 0.042, 0.0452, 0.0144, 0.0423, 0.0542, 0.0652, 0.0852\n"
     ]
    }
   ],
   "source": [
    "# 2 - 5e-6\n",
    "\n",
    "data = \"\"\"\n",
    "wandb:                       train/loss 7.1719\n",
    "wandb:               train/predict_loss 7.52244\n",
    "wandb:              train/predict_mrr@1 0.01442\n",
    "wandb:             train/predict_mrr@10 0.03891\n",
    "wandb:             train/predict_mrr@20 0.04199\n",
    "wandb:              train/predict_mrr@5 0.03405\n",
    "wandb:             train/predict_mrr@50 0.04517\n",
    "wandb:             train/predict_ndcg@1 0.01442\n",
    "wandb:            train/predict_ndcg@10 0.0542\n",
    "wandb:            train/predict_ndcg@20 0.06523\n",
    "wandb:             train/predict_ndcg@5 0.04234\n",
    "wandb:            train/predict_ndcg@50 0.08521\n",
    "wandb:           train/predict_recall@1 0.01442\n",
    "wandb:          train/predict_recall@10 0.10417\n",
    "wandb:          train/predict_recall@20 0.14744\n",
    "wandb:           train/predict_recall@5 0.06731\n",
    "wandb:          train/predict_recall@50 0.2484\n",
    "wandb:            train/predict_runtime 24.6074\n",
    "wandb: train/predict_samples_per_second 25.358\n",
    "wandb:   train/predict_steps_per_second 3.17\n",
    "wandb:                       train_loss 7.46327\n",
    "wandb:                    train_runtime 5358.4897\n",
    "wandb:         train_samples_per_second 4.88\n",
    "wandb:           train_steps_per_second 0.305\n",
    "\"\"\"\n",
    "\n",
    "print(extract_metrics(data))"
   ]
  },
  {
   "cell_type": "code",
   "execution_count": 9,
   "metadata": {},
   "outputs": [
    {
     "name": "stdout",
     "output_type": "stream",
     "text": [
      "0.0128, 0.0433, 0.0625, 0.1026, 0.1843, 0.0128, 0.0245, 0.0271, 0.0299, 0.0323, 0.0128, 0.0292, 0.0354, 0.0456, 0.0615\n"
     ]
    }
   ],
   "source": [
    "# 4 - 1e-6\n",
    "\n",
    "data = \"\"\"\n",
    "wandb:               train/predict_loss 7.70994\n",
    "wandb:              train/predict_mrr@1 0.01282\n",
    "wandb:             train/predict_mrr@10 0.02708\n",
    "wandb:             train/predict_mrr@20 0.02985\n",
    "wandb:              train/predict_mrr@5 0.02447\n",
    "wandb:             train/predict_mrr@50 0.03232\n",
    "wandb:             train/predict_ndcg@1 0.01282\n",
    "wandb:            train/predict_ndcg@10 0.03543\n",
    "wandb:            train/predict_ndcg@20 0.04555\n",
    "wandb:             train/predict_ndcg@5 0.02917\n",
    "wandb:            train/predict_ndcg@50 0.06153\n",
    "wandb:           train/predict_recall@1 0.01282\n",
    "wandb:          train/predict_recall@10 0.0625\n",
    "wandb:          train/predict_recall@20 0.10256\n",
    "wandb:           train/predict_recall@5 0.04327\n",
    "wandb:          train/predict_recall@50 0.18429\n",
    "\"\"\"\n",
    "\n",
    "print(extract_metrics(data))"
   ]
  },
  {
   "cell_type": "code",
   "execution_count": 10,
   "metadata": {},
   "outputs": [
    {
     "name": "stdout",
     "output_type": "stream",
     "text": [
      "0.0144, 0.0673, 0.1042, 0.1474, 0.2484, 0.0144, 0.034, 0.0389, 0.042, 0.0452, 0.0144, 0.0423, 0.0542, 0.0652, 0.0852\n"
     ]
    }
   ],
   "source": [
    "# 4 - 5e-6\n",
    "\n",
    "data = \"\"\"\n",
    "wandb:                       train/loss 7.1719\n",
    "wandb:               train/predict_loss 7.52244\n",
    "wandb:              train/predict_mrr@1 0.01442\n",
    "wandb:             train/predict_mrr@10 0.03891\n",
    "wandb:             train/predict_mrr@20 0.04199\n",
    "wandb:              train/predict_mrr@5 0.03405\n",
    "wandb:             train/predict_mrr@50 0.04517\n",
    "wandb:             train/predict_ndcg@1 0.01442\n",
    "wandb:            train/predict_ndcg@10 0.0542\n",
    "wandb:            train/predict_ndcg@20 0.06523\n",
    "wandb:             train/predict_ndcg@5 0.04234\n",
    "wandb:            train/predict_ndcg@50 0.08521\n",
    "wandb:           train/predict_recall@1 0.01442\n",
    "wandb:          train/predict_recall@10 0.10417\n",
    "wandb:          train/predict_recall@20 0.14744\n",
    "wandb:           train/predict_recall@5 0.06731\n",
    "wandb:          train/predict_recall@50 0.2484\n",
    "\"\"\"\n",
    "\n",
    "print(extract_metrics(data))"
   ]
  },
  {
   "cell_type": "code",
   "execution_count": 12,
   "metadata": {},
   "outputs": [
    {
     "name": "stdout",
     "output_type": "stream",
     "text": [
      "0.0144, 0.0593, 0.1026, 0.1426, 0.2452, 0.0144, 0.0293, 0.0348, 0.0376, 0.0409, 0.0144, 0.0367, 0.0504, 0.0605, 0.0809\n"
     ]
    }
   ],
   "source": [
    "# 4 - 1e-5\n",
    "\n",
    "data = \"\"\"\n",
    "wandb:               train/predict_loss 7.49699\n",
    "wandb:              train/predict_mrr@1 0.01442\n",
    "wandb:             train/predict_mrr@10 0.03476\n",
    "wandb:             train/predict_mrr@20 0.03756\n",
    "wandb:              train/predict_mrr@5 0.02933\n",
    "wandb:             train/predict_mrr@50 0.04088\n",
    "wandb:             train/predict_ndcg@1 0.01442\n",
    "wandb:            train/predict_ndcg@10 0.05036\n",
    "wandb:            train/predict_ndcg@20 0.06051\n",
    "wandb:             train/predict_ndcg@5 0.0367\n",
    "wandb:            train/predict_ndcg@50 0.08095\n",
    "wandb:           train/predict_recall@1 0.01442\n",
    "wandb:          train/predict_recall@10 0.10256\n",
    "wandb:          train/predict_recall@20 0.14263\n",
    "wandb:           train/predict_recall@5 0.05929\n",
    "wandb:          train/predict_recall@50 0.24519\n",
    "wandb:            train/predict_runtime 24.5745\n",
    "\"\"\"\n",
    "\n",
    "print(extract_metrics(data))"
   ]
  },
  {
   "cell_type": "code",
   "execution_count": 13,
   "metadata": {},
   "outputs": [
    {
     "name": "stdout",
     "output_type": "stream",
     "text": [
      "0.0064, 0.0385, 0.0641, 0.0961, 0.1779, 0.0064, 0.0189, 0.0223, 0.0246, 0.027, 0.0064, 0.0238, 0.0321, 0.0403, 0.0561\n"
     ]
    }
   ],
   "source": [
    "# 8 - 1e-6\n",
    "\n",
    "data = \"\"\"\n",
    "wandb:               train/predict_loss 7.77244\n",
    "wandb:              train/predict_mrr@1 0.00641\n",
    "wandb:             train/predict_mrr@10 0.02234\n",
    "wandb:             train/predict_mrr@20 0.02462\n",
    "wandb:              train/predict_mrr@5 0.01894\n",
    "wandb:             train/predict_mrr@50 0.027\n",
    "wandb:             train/predict_ndcg@1 0.00641\n",
    "wandb:            train/predict_ndcg@10 0.03211\n",
    "wandb:            train/predict_ndcg@20 0.04028\n",
    "wandb:             train/predict_ndcg@5 0.02384\n",
    "wandb:            train/predict_ndcg@50 0.05609\n",
    "wandb:           train/predict_recall@1 0.00641\n",
    "wandb:          train/predict_recall@10 0.0641\n",
    "wandb:          train/predict_recall@20 0.09615\n",
    "wandb:           train/predict_recall@5 0.03846\n",
    "wandb:          train/predict_recall@50 0.17788\n",
    "wandb:            train/predict_runtime 24.3176\n",
    "wandb: train/predict_samples_per_second 25.66\n",
    "wandb:   train/predict_steps_per_second 3.208\n",
    "wandb:                       train_loss 8.17774\n",
    "wandb:                    train_runtime 5132.8686\n",
    "wandb:         train_samples_per_second 5.094\n",
    "wandb:           train_steps_per_second 0.079\n",
    "\"\"\"\n",
    "\n",
    "print(extract_metrics(data))"
   ]
  },
  {
   "cell_type": "code",
   "execution_count": 14,
   "metadata": {},
   "outputs": [
    {
     "name": "stdout",
     "output_type": "stream",
     "text": [
      "0.0208, 0.0529, 0.0849, 0.141, 0.2147, 0.0208, 0.0317, 0.0358, 0.0397, 0.0422, 0.0208, 0.0369, 0.0471, 0.0614, 0.0761\n"
     ]
    }
   ],
   "source": [
    "# 8 - 5e-6\n",
    "\n",
    "data = \"\"\"\n",
    "wandb:                       train/loss 7.4668\n",
    "wandb:               train/predict_loss 7.55789\n",
    "wandb:              train/predict_mrr@1 0.02083\n",
    "wandb:             train/predict_mrr@10 0.03577\n",
    "wandb:             train/predict_mrr@20 0.03973\n",
    "wandb:              train/predict_mrr@5 0.03168\n",
    "wandb:             train/predict_mrr@50 0.04217\n",
    "wandb:             train/predict_ndcg@1 0.02083\n",
    "wandb:            train/predict_ndcg@10 0.04708\n",
    "wandb:            train/predict_ndcg@20 0.06136\n",
    "wandb:             train/predict_ndcg@5 0.03691\n",
    "wandb:            train/predict_ndcg@50 0.07615\n",
    "wandb:           train/predict_recall@1 0.02083\n",
    "wandb:          train/predict_recall@10 0.08494\n",
    "wandb:          train/predict_recall@20 0.14103\n",
    "wandb:           train/predict_recall@5 0.05288\n",
    "wandb:          train/predict_recall@50 0.21474\n",
    "wandb:            train/predict_runtime 24.7592\n",
    "\"\"\"\n",
    "\n",
    "print(extract_metrics(data))"
   ]
  },
  {
   "cell_type": "code",
   "execution_count": 15,
   "metadata": {},
   "outputs": [
    {
     "name": "stdout",
     "output_type": "stream",
     "text": [
      "0.0128, 0.0577, 0.0865, 0.1426, 0.2212, 0.0128, 0.0288, 0.0329, 0.0367, 0.0392, 0.0128, 0.036, 0.0455, 0.0596, 0.0752\n"
     ]
    }
   ],
   "source": [
    "# 8 - 1e-5\n",
    "\n",
    "data = \"\"\"\n",
    "wandb:               train/predict_loss 7.53466\n",
    "wandb:              train/predict_mrr@1 0.01282\n",
    "wandb:             train/predict_mrr@10 0.03286\n",
    "wandb:             train/predict_mrr@20 0.03667\n",
    "wandb:              train/predict_mrr@5 0.02879\n",
    "wandb:             train/predict_mrr@50 0.0392\n",
    "wandb:             train/predict_ndcg@1 0.01282\n",
    "wandb:            train/predict_ndcg@10 0.0455\n",
    "wandb:            train/predict_ndcg@20 0.05959\n",
    "wandb:             train/predict_ndcg@5 0.03596\n",
    "wandb:            train/predict_ndcg@50 0.07522\n",
    "wandb:           train/predict_recall@1 0.01282\n",
    "wandb:          train/predict_recall@10 0.08654\n",
    "wandb:          train/predict_recall@20 0.14263\n",
    "wandb:           train/predict_recall@5 0.05769\n",
    "wandb:          train/predict_recall@50 0.22115\n",
    "wandb:            train/predict_runtime 25.2431\n",
    "\"\"\"\n",
    "\n",
    "print(extract_metrics(data))"
   ]
  },
  {
   "cell_type": "code",
   "execution_count": 16,
   "metadata": {},
   "outputs": [
    {
     "name": "stdout",
     "output_type": "stream",
     "text": [
      "0.0064, 0.0321, 0.0545, 0.0849, 0.1667, 0.0064, 0.0146, 0.0175, 0.0194, 0.022, 0.0064, 0.0189, 0.0261, 0.0335, 0.0496\n"
     ]
    }
   ],
   "source": [
    "# 8 - 5e-5\n",
    "\n",
    "data = \"\"\"\n",
    "wandb:                       train/loss 7.873\n",
    "wandb:               train/predict_loss 7.86478\n",
    "wandb:              train/predict_mrr@1 0.00641\n",
    "wandb:             train/predict_mrr@10 0.01752\n",
    "wandb:             train/predict_mrr@20 0.01945\n",
    "wandb:              train/predict_mrr@5 0.01464\n",
    "wandb:             train/predict_mrr@50 0.02198\n",
    "wandb:             train/predict_ndcg@1 0.00641\n",
    "wandb:            train/predict_ndcg@10 0.02605\n",
    "wandb:            train/predict_ndcg@20 0.03353\n",
    "wandb:             train/predict_ndcg@5 0.0189\n",
    "wandb:            train/predict_ndcg@50 0.04961\n",
    "wandb:           train/predict_recall@1 0.00641\n",
    "wandb:          train/predict_recall@10 0.05449\n",
    "wandb:          train/predict_recall@20 0.08494\n",
    "wandb:           train/predict_recall@5 0.03205\n",
    "wandb:          train/predict_recall@50 0.16667\n",
    "wandb:            train/predict_runtime 24.5033\n",
    "\"\"\"\n",
    "\n",
    "print(extract_metrics(data))"
   ]
  },
  {
   "cell_type": "code",
   "execution_count": 17,
   "metadata": {},
   "outputs": [
    {
     "name": "stdout",
     "output_type": "stream",
     "text": [
      "0.0032, 0.0128, 0.0305, 0.0529, 0.1314, 0.0032, 0.0055, 0.0079, 0.0094, 0.012, 0.0032, 0.0073, 0.013, 0.0186, 0.0343\n"
     ]
    }
   ],
   "source": [
    "# 1 - 1e-5\n",
    "\n",
    "data = \"\"\"\n",
    "wandb:               train/predict_loss 8.21414\n",
    "wandb:              train/predict_mrr@1 0.00321\n",
    "wandb:             train/predict_mrr@10 0.00791\n",
    "wandb:             train/predict_mrr@20 0.00941\n",
    "wandb:              train/predict_mrr@5 0.0055\n",
    "wandb:             train/predict_mrr@50 0.01201\n",
    "wandb:             train/predict_ndcg@1 0.00321\n",
    "wandb:            train/predict_ndcg@10 0.01301\n",
    "wandb:            train/predict_ndcg@20 0.0186\n",
    "wandb:             train/predict_ndcg@5 0.00725\n",
    "wandb:            train/predict_ndcg@50 0.03433\n",
    "wandb:           train/predict_recall@1 0.00321\n",
    "wandb:          train/predict_recall@10 0.03045\n",
    "wandb:          train/predict_recall@20 0.05288\n",
    "wandb:           train/predict_recall@5 0.01282\n",
    "wandb:          train/predict_recall@50 0.13141\n",
    "\"\"\"\n",
    "\n",
    "print(extract_metrics(data))"
   ]
  },
  {
   "cell_type": "code",
   "execution_count": 18,
   "metadata": {},
   "outputs": [
    {
     "name": "stdout",
     "output_type": "stream",
     "text": [
      "0.0176, 0.0545, 0.0849, 0.1555, 0.2276, 0.0176, 0.0318, 0.0356, 0.0403, 0.0426, 0.0176, 0.0374, 0.0471, 0.0647, 0.079\n"
     ]
    }
   ],
   "source": [
    "# 4 - 5e-6\n",
    "\n",
    "data = \"\"\"\n",
    "wandb:               train/predict_loss 7.53125\n",
    "wandb:              train/predict_mrr@1 0.01763\n",
    "wandb:             train/predict_mrr@10 0.03557\n",
    "wandb:             train/predict_mrr@20 0.0403\n",
    "wandb:              train/predict_mrr@5 0.03176\n",
    "wandb:             train/predict_mrr@50 0.04262\n",
    "wandb:             train/predict_ndcg@1 0.01763\n",
    "wandb:            train/predict_ndcg@10 0.04705\n",
    "wandb:            train/predict_ndcg@20 0.06467\n",
    "wandb:             train/predict_ndcg@5 0.03745\n",
    "wandb:            train/predict_ndcg@50 0.07902\n",
    "wandb:           train/predict_recall@1 0.01763\n",
    "wandb:          train/predict_recall@10 0.08494\n",
    "wandb:          train/predict_recall@20 0.15545\n",
    "wandb:           train/predict_recall@5 0.05449\n",
    "wandb:          train/predict_recall@50 0.22756\n",
    "wandb:            train/predict_runtime 24.6752\n",
    "\"\"\"\n",
    "\n",
    "print(extract_metrics(data))"
   ]
  },
  {
   "cell_type": "code",
   "execution_count": 19,
   "metadata": {},
   "outputs": [
    {
     "name": "stdout",
     "output_type": "stream",
     "text": [
      "0.0176, 0.0481, 0.0737, 0.1234, 0.2083, 0.0176, 0.0271, 0.0306, 0.0341, 0.0369, 0.0176, 0.0322, 0.0406, 0.0532, 0.0703\n"
     ]
    }
   ],
   "source": [
    "# 16 - 5e-6\n",
    "\n",
    "data = \"\"\"\n",
    "wandb:                       train/loss 7.5322\n",
    "wandb:               train/predict_loss 7.58654\n",
    "wandb:              train/predict_mrr@1 0.01763\n",
    "wandb:             train/predict_mrr@10 0.03058\n",
    "wandb:             train/predict_mrr@20 0.03406\n",
    "wandb:              train/predict_mrr@5 0.02708\n",
    "wandb:             train/predict_mrr@50 0.03694\n",
    "wandb:             train/predict_ndcg@1 0.01763\n",
    "wandb:            train/predict_ndcg@10 0.04059\n",
    "wandb:            train/predict_ndcg@20 0.05319\n",
    "wandb:             train/predict_ndcg@5 0.03222\n",
    "wandb:            train/predict_ndcg@50 0.07033\n",
    "wandb:           train/predict_recall@1 0.01763\n",
    "wandb:          train/predict_recall@10 0.07372\n",
    "wandb:          train/predict_recall@20 0.1234\n",
    "wandb:           train/predict_recall@5 0.04808\n",
    "wandb:          train/predict_recall@50 0.20833\n",
    "wandb:            train/predict_runtime 24.6093\n",
    "\"\"\"\n",
    "\n",
    "print(extract_metrics(data))"
   ]
  },
  {
   "cell_type": "code",
   "execution_count": 20,
   "metadata": {},
   "outputs": [
    {
     "name": "stdout",
     "output_type": "stream",
     "text": [
      "0.016, 0.0545, 0.0833, 0.1362, 0.2131, 0.016, 0.0297, 0.0334, 0.0369, 0.0394, 0.016, 0.0359, 0.045, 0.0582, 0.0736\n"
     ]
    }
   ],
   "source": [
    "# 16 - 1e-5\n",
    "\n",
    "data = \"\"\"\n",
    "wandb:               train/predict_loss 7.54187\n",
    "wandb:              train/predict_mrr@1 0.01603\n",
    "wandb:             train/predict_mrr@10 0.03337\n",
    "wandb:             train/predict_mrr@20 0.03693\n",
    "wandb:              train/predict_mrr@5 0.02975\n",
    "wandb:             train/predict_mrr@50 0.03943\n",
    "wandb:             train/predict_ndcg@1 0.01603\n",
    "wandb:            train/predict_ndcg@10 0.045\n",
    "wandb:            train/predict_ndcg@20 0.05823\n",
    "wandb:             train/predict_ndcg@5 0.03591\n",
    "wandb:            train/predict_ndcg@50 0.07358\n",
    "wandb:           train/predict_recall@1 0.01603\n",
    "wandb:          train/predict_recall@10 0.08333\n",
    "wandb:          train/predict_recall@20 0.13622\n",
    "wandb:           train/predict_recall@5 0.05449\n",
    "wandb:          train/predict_recall@50 0.21314\n",
    "wandb:            train/predict_runtime 24.4274\n",
    "wandb: train/predict_samples_per_second 25.545\n",
    "wandb:   train/predict_steps_per_second 3.193\n",
    "wandb:                       train_loss 7.59923\n",
    "wandb:                    train_runtime 5089.8191\n",
    "wandb:         train_samples_per_second 5.137\n",
    "wandb:           train_steps_per_second 0.04\n",
    "\"\"\"\n",
    "\n",
    "print(extract_metrics(data))"
   ]
  },
  {
   "cell_type": "code",
   "execution_count": 21,
   "metadata": {},
   "outputs": [
    {
     "name": "stdout",
     "output_type": "stream",
     "text": [
      "0.0064, 0.0336, 0.0561, 0.0785, 0.1555, 0.0064, 0.0152, 0.0185, 0.0199, 0.0224, 0.0064, 0.0197, 0.0272, 0.0328, 0.048\n"
     ]
    }
   ],
   "source": [
    "# 16 - 5e-5\n",
    "\n",
    "data = \"\"\"\n",
    "wandb:               train/predict_loss 7.73458\n",
    "wandb:              train/predict_mrr@1 0.00641\n",
    "wandb:             train/predict_mrr@10 0.01846\n",
    "wandb:             train/predict_mrr@20 0.01995\n",
    "wandb:              train/predict_mrr@5 0.01517\n",
    "wandb:             train/predict_mrr@50 0.02237\n",
    "wandb:             train/predict_ndcg@1 0.00641\n",
    "wandb:            train/predict_ndcg@10 0.02725\n",
    "wandb:            train/predict_ndcg@20 0.03283\n",
    "wandb:             train/predict_ndcg@5 0.0197\n",
    "wandb:            train/predict_ndcg@50 0.04804\n",
    "wandb:           train/predict_recall@1 0.00641\n",
    "wandb:          train/predict_recall@10 0.05609\n",
    "wandb:          train/predict_recall@20 0.07853\n",
    "wandb:           train/predict_recall@5 0.03365\n",
    "wandb:          train/predict_recall@50 0.15545\n",
    "wandb:            train/predict_runtime 24.2798\n",
    "\"\"\"\n",
    "\n",
    "print(extract_metrics(data))"
   ]
  },
  {
   "cell_type": "code",
   "execution_count": 23,
   "metadata": {},
   "outputs": [
    {
     "name": "stdout",
     "output_type": "stream",
     "text": [
      "0.0192, 0.0449, 0.0673, 0.1154, 0.2163, 0.0192, 0.0289, 0.0318, 0.035, 0.0384, 0.0192, 0.0329, 0.04, 0.052, 0.0724\n"
     ]
    }
   ],
   "source": [
    "# 32 - 1e-5\n",
    "\n",
    "data = \"\"\"\n",
    "wandb:                       train/loss 7.459\n",
    "wandb:               train/predict_loss 7.58574\n",
    "wandb:              train/predict_mrr@1 0.01923\n",
    "wandb:             train/predict_mrr@10 0.03175\n",
    "wandb:             train/predict_mrr@20 0.03498\n",
    "wandb:              train/predict_mrr@5 0.0289\n",
    "wandb:             train/predict_mrr@50 0.0384\n",
    "wandb:             train/predict_ndcg@1 0.01923\n",
    "wandb:            train/predict_ndcg@10 0.04001\n",
    "wandb:            train/predict_ndcg@20 0.05204\n",
    "wandb:             train/predict_ndcg@5 0.03291\n",
    "wandb:            train/predict_ndcg@50 0.07244\n",
    "wandb:           train/predict_recall@1 0.01923\n",
    "wandb:          train/predict_recall@10 0.06731\n",
    "wandb:          train/predict_recall@20 0.11538\n",
    "wandb:           train/predict_recall@5 0.04487\n",
    "wandb:          train/predict_recall@50 0.21635\n",
    "wandb:            train/predict_runtime 24.7681\n",
    "wandb: train/predict_samples_per_second 25.194\n",
    "wandb:   train/predict_steps_per_second 3.149\n",
    "wandb:                       train_loss 7.77849\n",
    "wandb:                    train_runtime 5048.5452\n",
    "wandb:         train_samples_per_second 5.179\n",
    "wandb:           train_steps_per_second 0.02\n",
    "\"\"\"\n",
    "\n",
    "print(extract_metrics(data))"
   ]
  },
  {
   "cell_type": "code",
   "execution_count": 24,
   "metadata": {},
   "outputs": [
    {
     "name": "stdout",
     "output_type": "stream",
     "text": [
      "0.0064, 0.0208, 0.0336, 0.0577, 0.1202, 0.0064, 0.0124, 0.014, 0.0156, 0.0176, 0.0064, 0.0146, 0.0185, 0.0246, 0.0369\n"
     ]
    }
   ],
   "source": [
    "# 32 - 5e-5\n",
    "\n",
    "data = \"\"\"\n",
    "wandb:               train/predict_loss 8.77905\n",
    "wandb:              train/predict_mrr@1 0.00641\n",
    "wandb:             train/predict_mrr@10 0.01397\n",
    "wandb:             train/predict_mrr@20 0.01564\n",
    "wandb:              train/predict_mrr@5 0.01242\n",
    "wandb:             train/predict_mrr@50 0.01756\n",
    "wandb:             train/predict_ndcg@1 0.00641\n",
    "wandb:            train/predict_ndcg@10 0.01854\n",
    "wandb:            train/predict_ndcg@20 0.02462\n",
    "wandb:             train/predict_ndcg@5 0.01456\n",
    "wandb:            train/predict_ndcg@50 0.0369\n",
    "wandb:           train/predict_recall@1 0.00641\n",
    "wandb:          train/predict_recall@10 0.03365\n",
    "wandb:          train/predict_recall@20 0.05769\n",
    "wandb:           train/predict_recall@5 0.02083\n",
    "wandb:          train/predict_recall@50 0.12019\n",
    "wandb:            train/predict_runtime 24.5979\n",
    "wandb: train/predict_samples_per_second 25.368\n",
    "\"\"\"\n",
    "\n",
    "print(extract_metrics(data))"
   ]
  },
  {
   "cell_type": "code",
   "execution_count": 3,
   "metadata": {},
   "outputs": [
    {
     "name": "stdout",
     "output_type": "stream",
     "text": [
      "0.0144, 0.0449, 0.0705, 0.101, 0.1619, 0.0144, 0.0251, 0.0285, 0.0304, 0.0323, 0.0144, 0.03, 0.0382, 0.0457, 0.0576\n"
     ]
    }
   ],
   "source": [
    "# 64 - 1e-5\n",
    "\n",
    "data = \"\"\"\n",
    "wandb:                       train/loss 7.5723\n",
    "wandb:               train/predict_loss 7.70513\n",
    "wandb:              train/predict_mrr@1 0.01442\n",
    "wandb:             train/predict_mrr@10 0.02847\n",
    "wandb:             train/predict_mrr@20 0.03044\n",
    "wandb:              train/predict_mrr@5 0.02513\n",
    "wandb:             train/predict_mrr@50 0.03228\n",
    "wandb:             train/predict_ndcg@1 0.01442\n",
    "wandb:            train/predict_ndcg@10 0.03823\n",
    "wandb:            train/predict_ndcg@20 0.04574\n",
    "wandb:             train/predict_ndcg@5 0.03002\n",
    "wandb:            train/predict_ndcg@50 0.05765\n",
    "wandb:           train/predict_recall@1 0.01442\n",
    "wandb:          train/predict_recall@10 0.07051\n",
    "wandb:          train/predict_recall@20 0.10096\n",
    "wandb:           train/predict_recall@5 0.04487\n",
    "wandb:          train/predict_recall@50 0.16186\n",
    "wandb:            train/predict_runtime 24.3692\n",
    "wandb: train/predict_samples_per_second 25.606\n",
    "wandb:   train/predict_steps_per_second 3.201\n",
    "wandb:                       train_loss 8.07011\n",
    "\"\"\"\n",
    "\n",
    "print(extract_metrics(data))"
   ]
  },
  {
   "cell_type": "code",
   "execution_count": 4,
   "metadata": {},
   "outputs": [
    {
     "name": "stdout",
     "output_type": "stream",
     "text": [
      "0.0176, 0.0545, 0.0849, 0.117, 0.1987, 0.0176, 0.0293, 0.0335, 0.0358, 0.0384, 0.0176, 0.0355, 0.0455, 0.0537, 0.0698\n"
     ]
    }
   ],
   "source": [
    "# 64 - 5e-5\n",
    "\n",
    "data = \"\"\"\n",
    "wandb:                       train/loss 7.3284\n",
    "wandb:               train/predict_loss 7.59956\n",
    "wandb:              train/predict_mrr@1 0.01763\n",
    "wandb:             train/predict_mrr@10 0.03353\n",
    "wandb:             train/predict_mrr@20 0.0358\n",
    "wandb:              train/predict_mrr@5 0.02933\n",
    "wandb:             train/predict_mrr@50 0.03835\n",
    "wandb:             train/predict_ndcg@1 0.01763\n",
    "wandb:            train/predict_ndcg@10 0.04551\n",
    "wandb:            train/predict_ndcg@20 0.05367\n",
    "wandb:             train/predict_ndcg@5 0.03552\n",
    "wandb:            train/predict_ndcg@50 0.06977\n",
    "wandb:           train/predict_recall@1 0.01763\n",
    "wandb:          train/predict_recall@10 0.08494\n",
    "wandb:          train/predict_recall@20 0.11699\n",
    "wandb:           train/predict_recall@5 0.05449\n",
    "wandb:          train/predict_recall@50 0.19872\n",
    "\"\"\"\n",
    "\n",
    "print(extract_metrics(data))"
   ]
  },
  {
   "cell_type": "code",
   "execution_count": 5,
   "metadata": {},
   "outputs": [
    {
     "name": "stdout",
     "output_type": "stream",
     "text": [
      "0.0128, 0.0449, 0.0625, 0.0881, 0.1555, 0.0128, 0.0229, 0.0251, 0.0268, 0.0289, 0.0128, 0.0283, 0.0338, 0.0402, 0.0535\n"
     ]
    }
   ],
   "source": [
    "# 128 - 5e-5\n",
    "\n",
    "data = \"\"\"\n",
    "wandb:                       train/loss 7.4072\n",
    "wandb:               train/predict_loss 7.68129\n",
    "wandb:              train/predict_mrr@1 0.01282\n",
    "wandb:             train/predict_mrr@10 0.02509\n",
    "wandb:             train/predict_mrr@20 0.02679\n",
    "wandb:              train/predict_mrr@5 0.02289\n",
    "wandb:             train/predict_mrr@50 0.02891\n",
    "wandb:             train/predict_ndcg@1 0.01282\n",
    "wandb:            train/predict_ndcg@10 0.0338\n",
    "wandb:            train/predict_ndcg@20 0.04018\n",
    "wandb:             train/predict_ndcg@5 0.02825\n",
    "wandb:            train/predict_ndcg@50 0.05349\n",
    "wandb:           train/predict_recall@1 0.01282\n",
    "wandb:          train/predict_recall@10 0.0625\n",
    "wandb:          train/predict_recall@20 0.08814\n",
    "wandb:           train/predict_recall@5 0.04487\n",
    "wandb:          train/predict_recall@50 0.15545\n",
    "wandb:            train/predict_runtime 24.4286\n",
    "\"\"\"\n",
    "\n",
    "print(extract_metrics(data))"
   ]
  },
  {
   "cell_type": "code",
   "execution_count": 6,
   "metadata": {},
   "outputs": [
    {
     "name": "stdout",
     "output_type": "stream",
     "text": [
      "0.0096, 0.0321, 0.0465, 0.0817, 0.1522, 0.0096, 0.0159, 0.0178, 0.0201, 0.0224, 0.0096, 0.0198, 0.0244, 0.0332, 0.0472\n"
     ]
    }
   ],
   "source": [
    "# 128 - 1e-4\n",
    "\n",
    "data = \"\"\"\n",
    "wandb:                  train/grad_norm 4.02771\n",
    "wandb:              train/learning_rate 0.0001\n",
    "wandb:                       train/loss 7.4531\n",
    "wandb:               train/predict_loss 7.70954\n",
    "wandb:              train/predict_mrr@1 0.00962\n",
    "wandb:             train/predict_mrr@10 0.01781\n",
    "wandb:             train/predict_mrr@20 0.02013\n",
    "wandb:              train/predict_mrr@5 0.01595\n",
    "wandb:             train/predict_mrr@50 0.02238\n",
    "wandb:             train/predict_ndcg@1 0.00962\n",
    "wandb:            train/predict_ndcg@10 0.02443\n",
    "wandb:            train/predict_ndcg@20 0.03318\n",
    "wandb:             train/predict_ndcg@5 0.01983\n",
    "wandb:            train/predict_ndcg@50 0.0472\n",
    "wandb:           train/predict_recall@1 0.00962\n",
    "wandb:          train/predict_recall@10 0.04647\n",
    "wandb:          train/predict_recall@20 0.08173\n",
    "wandb:           train/predict_recall@5 0.03205\n",
    "wandb:          train/predict_recall@50 0.15224\n",
    "wandb:            train/predict_runtime 24.536\n",
    "wandb: train/predict_samples_per_second 25.432\n",
    "wandb:   train/predict_steps_per_second 3.179\n",
    "wandb:                       train_loss 8.32534\n",
    "wandb:                    train_runtime 4676.0576\n",
    "\"\"\"\n",
    "\n",
    "print(extract_metrics(data))"
   ]
  }
 ],
 "metadata": {
  "kernelspec": {
   "display_name": "mfz_trl",
   "language": "python",
   "name": "python3"
  },
  "language_info": {
   "codemirror_mode": {
    "name": "ipython",
    "version": 3
   },
   "file_extension": ".py",
   "mimetype": "text/x-python",
   "name": "python",
   "nbconvert_exporter": "python",
   "pygments_lexer": "ipython3",
   "version": "3.9.21"
  }
 },
 "nbformat": 4,
 "nbformat_minor": 2
}
