{
 "cells": [
  {
   "cell_type": "markdown",
   "metadata": {},
   "source": [
    "## filter"
   ]
  },
  {
   "cell_type": "code",
   "execution_count": 1,
   "metadata": {},
   "outputs": [],
   "source": [
    "import re"
   ]
  },
  {
   "cell_type": "code",
   "execution_count": 2,
   "metadata": {},
   "outputs": [],
   "source": [
    "def extract_metrics(data: str):\n",
    "    # 解析数据\n",
    "    metrics = {\n",
    "        \"recall\": {},\n",
    "        \"mrr\": {},\n",
    "        \"ndcg\": {}\n",
    "    }\n",
    "    \n",
    "    for line in data.strip().split(\"\\n\"):\n",
    "        match = re.search(r'wandb:\\s+train/predict_(\\w+)@(\\d+)\\s+([\\d.]+)', line)\n",
    "        if match:\n",
    "            metric, k, value = match.groups()\n",
    "            if metric in metrics:\n",
    "                metrics[metric][int(k)] = round(float(value), 4) # 保留小数点后四位\n",
    "    \n",
    "    # 按照 recall 1-50, mrr 1-50, ndcg 1-50 顺序整理\n",
    "    result = []\n",
    "    for metric in [\"recall\", \"mrr\", \"ndcg\"]:\n",
    "        for k in sorted(metrics[metric]):\n",
    "            result.append(str(metrics[metric][k]))\n",
    "    \n",
    "    return \", \".join(result)"
   ]
  },
  {
   "cell_type": "code",
   "execution_count": 4,
   "metadata": {},
   "outputs": [
    {
     "data": {
      "text/plain": [
       "'0.0181, 0.0588, 0.094, 0.1484, 0.2308, 0.0181, 0.0318, 0.0364, 0.0402, 0.0427, 0.0181, 0.0384, 0.0497, 0.0635, 0.0797'"
      ]
     },
     "execution_count": 4,
     "metadata": {},
     "output_type": "execute_result"
    }
   ],
   "source": [
    "# lr=5e-6, gas=16, bs=4\n",
    "\n",
    "data = \"\"\"\n",
    "wandb:                       train/loss 6.834\n",
    "wandb:               train/predict_loss 7.63146\n",
    "wandb:              train/predict_mrr@1 0.01813\n",
    "wandb:             train/predict_mrr@10 0.03638\n",
    "wandb:             train/predict_mrr@20 0.04018\n",
    "wandb:              train/predict_mrr@5 0.03177\n",
    "wandb:             train/predict_mrr@50 0.04271\n",
    "wandb:             train/predict_ndcg@1 0.01813\n",
    "wandb:            train/predict_ndcg@10 0.04971\n",
    "wandb:            train/predict_ndcg@20 0.06351\n",
    "wandb:             train/predict_ndcg@5 0.03843\n",
    "wandb:            train/predict_ndcg@50 0.07969\n",
    "wandb:           train/predict_recall@1 0.01813\n",
    "wandb:          train/predict_recall@10 0.09396\n",
    "wandb:          train/predict_recall@20 0.14835\n",
    "wandb:           train/predict_recall@5 0.05879\n",
    "wandb:          train/predict_recall@50 0.23077\n",
    "wandb:            train/predict_runtime 123.2537\n",
    "wandb: train/predict_samples_per_second 14.766\n",
    "wandb:   train/predict_steps_per_second 1.85\n",
    "wandb:                       train_loss 7.83732\n",
    "wandb:                    train_runtime 6564.7283\n",
    "wandb:         train_samples_per_second 2.799\n",
    "wandb:           train_steps_per_second 0.022\n",
    "\"\"\"\n",
    "\n",
    "extract_metrics(data)"
   ]
  },
  {
   "cell_type": "code",
   "execution_count": 8,
   "metadata": {},
   "outputs": [
    {
     "data": {
      "text/plain": [
       "'0.017, 0.067, 0.1033, 0.1434, 0.2357, 0.017, 0.0341, 0.0389, 0.0417, 0.0447, 0.017, 0.0422, 0.0539, 0.0641, 0.0824'"
      ]
     },
     "execution_count": 8,
     "metadata": {},
     "output_type": "execute_result"
    }
   ],
   "source": [
    "# lr=5e-6, gas=4, bs=4, epoch=1\n",
    "\n",
    "data = \"\"\"\n",
    "wandb:               train/predict_loss 7.71655\n",
    "wandb:              train/predict_mrr@1 0.01703\n",
    "wandb:             train/predict_mrr@10 0.03893\n",
    "wandb:             train/predict_mrr@20 0.04172\n",
    "wandb:              train/predict_mrr@5 0.0341\n",
    "wandb:             train/predict_mrr@50 0.04468\n",
    "wandb:             train/predict_ndcg@1 0.01703\n",
    "wandb:            train/predict_ndcg@10 0.05392\n",
    "wandb:            train/predict_ndcg@20 0.06407\n",
    "wandb:             train/predict_ndcg@5 0.04221\n",
    "wandb:            train/predict_ndcg@50 0.08243\n",
    "wandb:           train/predict_recall@1 0.01703\n",
    "wandb:          train/predict_recall@10 0.1033\n",
    "wandb:          train/predict_recall@20 0.14341\n",
    "wandb:           train/predict_recall@5 0.06703\n",
    "wandb:          train/predict_recall@50 0.23571\n",
    "wandb:            train/predict_runtime 120.9738\n",
    "wandb: train/predict_samples_per_second 15.045\n",
    "\"\"\"\n",
    "\n",
    "extract_metrics(data)"
   ]
  },
  {
   "cell_type": "code",
   "execution_count": 9,
   "metadata": {},
   "outputs": [
    {
     "data": {
      "text/plain": [
       "'0.0187, 0.0517, 0.0742, 0.1198, 0.1973, 0.0187, 0.0297, 0.0326, 0.0358, 0.0383, 0.0187, 0.0352, 0.0423, 0.0539, 0.0692'"
      ]
     },
     "execution_count": 9,
     "metadata": {},
     "output_type": "execute_result"
    }
   ],
   "source": [
    "# lr=1e-6, gas=4, bs=4, epoch=1\n",
    "\n",
    "data = \"\"\"\n",
    "wandb:                       train/loss 8.1445\n",
    "wandb:               train/predict_loss 7.72033\n",
    "wandb:              train/predict_mrr@1 0.01868\n",
    "wandb:             train/predict_mrr@10 0.03261\n",
    "wandb:             train/predict_mrr@20 0.03581\n",
    "wandb:              train/predict_mrr@5 0.02973\n",
    "wandb:             train/predict_mrr@50 0.03827\n",
    "wandb:             train/predict_ndcg@1 0.01868\n",
    "wandb:            train/predict_ndcg@10 0.0423\n",
    "wandb:            train/predict_ndcg@20 0.05387\n",
    "wandb:             train/predict_ndcg@5 0.03515\n",
    "wandb:            train/predict_ndcg@50 0.06922\n",
    "wandb:           train/predict_recall@1 0.01868\n",
    "wandb:          train/predict_recall@10 0.07418\n",
    "wandb:          train/predict_recall@20 0.11978\n",
    "wandb:           train/predict_recall@5 0.05165\n",
    "wandb:          train/predict_recall@50 0.19725\n",
    "wandb:            train/predict_runtime 121.9311\n",
    "wandb: train/predict_samples_per_second 14.926\n",
    "wandb:   train/predict_steps_per_second 1.87\n",
    "wandb:                       train_loss 8.20834\n",
    "wandb:                    train_runtime 6747.3813\n",
    "wandb:         train_samples_per_second 2.723\n",
    "\"\"\"\n",
    "\n",
    "extract_metrics(data)"
   ]
  },
  {
   "cell_type": "markdown",
   "metadata": {},
   "source": [
    "## filter_user"
   ]
  },
  {
   "cell_type": "code",
   "execution_count": 3,
   "metadata": {},
   "outputs": [
    {
     "data": {
      "text/plain": [
       "'0.0105, 0.0598, 0.0919, 0.1682, 0.2549, 0.0105, 0.0267, 0.0307, 0.036, 0.0387, 0.0105, 0.0348, 0.0449, 0.0642, 0.0814'"
      ]
     },
     "execution_count": 3,
     "metadata": {},
     "output_type": "execute_result"
    }
   ],
   "source": [
    "# lr=5e-6, gas=4, bs=4\n",
    "\n",
    "data = \"\"\"\n",
    "wandb:                       train/loss 6.6016\n",
    "wandb:               train/predict_loss 7.48954\n",
    "wandb:              train/predict_mrr@1 0.01046\n",
    "wandb:             train/predict_mrr@10 0.03071\n",
    "wandb:             train/predict_mrr@20 0.03596\n",
    "wandb:              train/predict_mrr@5 0.02667\n",
    "wandb:             train/predict_mrr@50 0.03873\n",
    "wandb:             train/predict_ndcg@1 0.01046\n",
    "wandb:            train/predict_ndcg@10 0.04495\n",
    "wandb:            train/predict_ndcg@20 0.06418\n",
    "wandb:             train/predict_ndcg@5 0.0348\n",
    "wandb:            train/predict_ndcg@50 0.08138\n",
    "wandb:           train/predict_recall@1 0.01046\n",
    "wandb:          train/predict_recall@10 0.09193\n",
    "wandb:          train/predict_recall@20 0.16816\n",
    "wandb:           train/predict_recall@5 0.05979\n",
    "wandb:          train/predict_recall@50 0.25486\n",
    "wandb:            train/predict_runtime 114.9731\n",
    "wandb: train/predict_samples_per_second 11.638\n",
    "wandb:   train/predict_steps_per_second 1.461\n",
    "wandb:                       train_loss 7.64995\n",
    "wandb:                    train_runtime 5138.1786\n",
    "wandb:         train_samples_per_second 2.095\n",
    "wandb:           train_steps_per_second 0.065\n",
    "\"\"\"\n",
    "\n",
    "extract_metrics(data)"
   ]
  },
  {
   "cell_type": "code",
   "execution_count": 4,
   "metadata": {},
   "outputs": [
    {
     "data": {
      "text/plain": [
       "'0.0187, 0.0463, 0.0807, 0.1241, 0.2003, 0.0187, 0.0285, 0.033, 0.0359, 0.0382, 0.0187, 0.0329, 0.044, 0.0548, 0.0697'"
      ]
     },
     "execution_count": 4,
     "metadata": {},
     "output_type": "execute_result"
    }
   ],
   "source": [
    "# lr=5e-6, gas=4, bs=4\n",
    "data = \"\"\"\n",
    "wandb:                      train/epoch 1\n",
    "wandb:                train/global_step 1346\n",
    "wandb:                  train/grad_norm 46.14608\n",
    "wandb:              train/learning_rate 0.0\n",
    "wandb:                       train/loss 7.0938\n",
    "wandb:               train/predict_loss 7.62948\n",
    "wandb:              train/predict_mrr@1 0.01868\n",
    "wandb:             train/predict_mrr@10 0.03301\n",
    "wandb:             train/predict_mrr@20 0.03593\n",
    "wandb:              train/predict_mrr@5 0.02849\n",
    "wandb:             train/predict_mrr@50 0.03823\n",
    "wandb:             train/predict_ndcg@1 0.01868\n",
    "wandb:            train/predict_ndcg@10 0.04397\n",
    "wandb:            train/predict_ndcg@20 0.05481\n",
    "wandb:             train/predict_ndcg@5 0.03291\n",
    "wandb:            train/predict_ndcg@50 0.0697\n",
    "wandb:           train/predict_recall@1 0.01868\n",
    "wandb:          train/predict_recall@10 0.08072\n",
    "wandb:          train/predict_recall@20 0.12407\n",
    "wandb:           train/predict_recall@5 0.04634\n",
    "wandb:          train/predict_recall@50 0.2003\n",
    "\"\"\"\n",
    "\n",
    "extract_metrics(data)"
   ]
  }
 ],
 "metadata": {
  "kernelspec": {
   "display_name": "mfz_trl",
   "language": "python",
   "name": "python3"
  },
  "language_info": {
   "codemirror_mode": {
    "name": "ipython",
    "version": 3
   },
   "file_extension": ".py",
   "mimetype": "text/x-python",
   "name": "python",
   "nbconvert_exporter": "python",
   "pygments_lexer": "ipython3",
   "version": "3.9.21"
  }
 },
 "nbformat": 4,
 "nbformat_minor": 2
}
