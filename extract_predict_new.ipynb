{
 "cells": [
  {
   "cell_type": "code",
   "execution_count": 1,
   "metadata": {},
   "outputs": [],
   "source": [
    "import re"
   ]
  },
  {
   "cell_type": "code",
   "execution_count": 3,
   "metadata": {},
   "outputs": [],
   "source": [
    "def extract_metrics(data: str):\n",
    "    # 解析数据\n",
    "    metrics = {\n",
    "        \"recall\": {},\n",
    "        \"mrr\": {},\n",
    "        \"ndcg\": {}\n",
    "    }\n",
    "    \n",
    "    for line in data.strip().split(\"\\n\"):\n",
    "        match = re.search(r'wandb:\\s+train/predict_(\\w+)@(\\d+)\\s+([\\d.]+)', line)\n",
    "        if match:\n",
    "            metric, k, value = match.groups()\n",
    "            if metric in metrics:\n",
    "                metrics[metric][int(k)] = round(float(value), 4) # 保留小数点后四位\n",
    "    \n",
    "    # 按照 recall 1-50, mrr 1-50, ndcg 1-50 顺序整理\n",
    "    result = []\n",
    "    for metric in [\"recall\", \"mrr\", \"ndcg\"]:\n",
    "        for k in sorted(metrics[metric]):\n",
    "            result.append(str(metrics[metric][k]))\n",
    "    \n",
    "    return \", \".join(result)"
   ]
  },
  {
   "cell_type": "code",
   "execution_count": 5,
   "metadata": {},
   "outputs": [
    {
     "name": "stdout",
     "output_type": "stream",
     "text": [
      "0.0262, 0.0743, 0.1166, 0.156, 0.2332, 0.0262, 0.0431, 0.0487, 0.0516, 0.054, 0.0262, 0.0508, 0.0645, 0.0746, 0.0899\n"
     ]
    }
   ],
   "source": [
    "# 1 - 1e-6\n",
    "\n",
    "data = \"\"\"\n",
    "wandb:               train/predict_loss 7.53936\n",
    "wandb:              train/predict_mrr@1 0.02624\n",
    "wandb:             train/predict_mrr@10 0.04874\n",
    "wandb:             train/predict_mrr@20 0.05157\n",
    "wandb:              train/predict_mrr@5 0.0431\n",
    "wandb:             train/predict_mrr@50 0.05403\n",
    "wandb:             train/predict_ndcg@1 0.02624\n",
    "wandb:            train/predict_ndcg@10 0.06451\n",
    "wandb:            train/predict_ndcg@20 0.07459\n",
    "wandb:             train/predict_ndcg@5 0.05085\n",
    "wandb:            train/predict_ndcg@50 0.08992\n",
    "wandb:           train/predict_recall@1 0.02624\n",
    "wandb:          train/predict_recall@10 0.11662\n",
    "wandb:          train/predict_recall@20 0.15598\n",
    "wandb:           train/predict_recall@5 0.07434\n",
    "wandb:          train/predict_recall@50 0.23324\n",
    "wandb:            train/predict_runtime 25.6633\n",
    "wandb: train/predict_samples_per_second 26.731\n",
    "wandb:   train/predict_steps_per_second 3.351\n",
    "wandb:                       train_loss 7.62746\n",
    "wandb:                    train_runtime 6074.3743\n",
    "\"\"\"\n",
    "\n",
    "print(extract_metrics(data))"
   ]
  },
  {
   "cell_type": "code",
   "execution_count": 6,
   "metadata": {},
   "outputs": [
    {
     "name": "stdout",
     "output_type": "stream",
     "text": [
      "0.019, 0.0627, 0.1035, 0.1385, 0.207, 0.019, 0.0321, 0.0374, 0.0397, 0.0417, 0.019, 0.0396, 0.0526, 0.0613, 0.0746\n"
     ]
    }
   ],
   "source": [
    "# 1 - 5e-7\n",
    "\n",
    "data = \"\"\"\n",
    "wandb:                       train/loss 7.3281\n",
    "wandb:               train/predict_loss 7.64185\n",
    "wandb:              train/predict_mrr@1 0.01895\n",
    "wandb:             train/predict_mrr@10 0.03742\n",
    "wandb:             train/predict_mrr@20 0.0397\n",
    "wandb:              train/predict_mrr@5 0.03214\n",
    "wandb:             train/predict_mrr@50 0.04171\n",
    "wandb:             train/predict_ndcg@1 0.01895\n",
    "wandb:            train/predict_ndcg@10 0.0526\n",
    "wandb:            train/predict_ndcg@20 0.06127\n",
    "wandb:             train/predict_ndcg@5 0.03957\n",
    "wandb:            train/predict_ndcg@50 0.07455\n",
    "wandb:           train/predict_recall@1 0.01895\n",
    "wandb:          train/predict_recall@10 0.1035\n",
    "wandb:          train/predict_recall@20 0.13848\n",
    "wandb:           train/predict_recall@5 0.06268\n",
    "wandb:          train/predict_recall@50 0.207\n",
    "wandb:            train/predict_runtime 25.6917\n",
    "\"\"\"\n",
    "\n",
    "print(extract_metrics(data))"
   ]
  },
  {
   "cell_type": "code",
   "execution_count": 7,
   "metadata": {},
   "outputs": [
    {
     "name": "stdout",
     "output_type": "stream",
     "text": [
      "0.0306, 0.0962, 0.1341, 0.188, 0.2653, 0.0306, 0.0524, 0.0573, 0.0611, 0.0635, 0.0306, 0.0631, 0.0753, 0.0889, 0.1042\n"
     ]
    }
   ],
   "source": [
    "# 1 - 5e-6\n",
    "\n",
    "data = \"\"\"\n",
    "wandb:                      train/epoch 1\n",
    "wandb:                train/global_step 3343\n",
    "wandb:                  train/grad_norm 45.71592\n",
    "wandb:              train/learning_rate 1e-05\n",
    "wandb:                       train/loss 6.3125\n",
    "wandb:               train/predict_loss 7.46374\n",
    "wandb:              train/predict_mrr@1 0.03061\n",
    "wandb:             train/predict_mrr@10 0.05734\n",
    "wandb:             train/predict_mrr@20 0.06105\n",
    "wandb:              train/predict_mrr@5 0.05236\n",
    "wandb:             train/predict_mrr@50 0.06351\n",
    "wandb:             train/predict_ndcg@1 0.03061\n",
    "wandb:            train/predict_ndcg@10 0.07532\n",
    "wandb:            train/predict_ndcg@20 0.08891\n",
    "wandb:             train/predict_ndcg@5 0.06313\n",
    "wandb:            train/predict_ndcg@50 0.10424\n",
    "wandb:           train/predict_recall@1 0.03061\n",
    "wandb:          train/predict_recall@10 0.13411\n",
    "wandb:          train/predict_recall@20 0.18805\n",
    "wandb:           train/predict_recall@5 0.09621\n",
    "wandb:          train/predict_recall@50 0.26531\n",
    "wandb:            train/predict_runtime 25.9373\n",
    "wandb: train/predict_samples_per_second 26.448\n",
    "\"\"\"\n",
    "\n",
    "print(extract_metrics(data))"
   ]
  },
  {
   "cell_type": "code",
   "execution_count": 8,
   "metadata": {},
   "outputs": [
    {
     "name": "stdout",
     "output_type": "stream",
     "text": [
      "0.0204, 0.0758, 0.1122, 0.1531, 0.2114, 0.0204, 0.0382, 0.043, 0.0458, 0.0475, 0.0204, 0.0474, 0.0592, 0.0693, 0.0807\n"
     ]
    }
   ],
   "source": [
    "# 2 - 1e-6\n",
    "\n",
    "data = \"\"\"\n",
    "wandb:                       train/loss 7.2422\n",
    "wandb:               train/predict_loss 7.57152\n",
    "wandb:              train/predict_mrr@1 0.02041\n",
    "wandb:             train/predict_mrr@10 0.04303\n",
    "wandb:             train/predict_mrr@20 0.04576\n",
    "wandb:              train/predict_mrr@5 0.03822\n",
    "wandb:             train/predict_mrr@50 0.04751\n",
    "wandb:             train/predict_ndcg@1 0.02041\n",
    "wandb:            train/predict_ndcg@10 0.05915\n",
    "wandb:            train/predict_ndcg@20 0.06933\n",
    "wandb:             train/predict_ndcg@5 0.04742\n",
    "wandb:            train/predict_ndcg@50 0.0807\n",
    "wandb:           train/predict_recall@1 0.02041\n",
    "wandb:          train/predict_recall@10 0.11224\n",
    "wandb:          train/predict_recall@20 0.15306\n",
    "wandb:           train/predict_recall@5 0.0758\n",
    "wandb:          train/predict_recall@50 0.21137\n",
    "wandb:            train/predict_runtime 25.05\n",
    "\"\"\"\n",
    "\n",
    "print(extract_metrics(data))"
   ]
  },
  {
   "cell_type": "code",
   "execution_count": 4,
   "metadata": {},
   "outputs": [
    {
     "name": "stdout",
     "output_type": "stream",
     "text": [
      "0.035, 0.0904, 0.137, 0.1808, 0.2566, 0.035, 0.0534, 0.0596, 0.0624, 0.0649, 0.035, 0.0625, 0.0776, 0.0882, 0.1034\n"
     ]
    }
   ],
   "source": [
    "# 2 - 5e-6\n",
    "\n",
    "data = \"\"\"\n",
    "wandb:               train/predict_loss 7.45445\n",
    "wandb:              train/predict_mrr@1 0.03499\n",
    "wandb:             train/predict_mrr@10 0.05964\n",
    "wandb:             train/predict_mrr@20 0.06237\n",
    "wandb:              train/predict_mrr@5 0.05345\n",
    "wandb:             train/predict_mrr@50 0.06486\n",
    "wandb:             train/predict_ndcg@1 0.03499\n",
    "wandb:            train/predict_ndcg@10 0.07756\n",
    "wandb:            train/predict_ndcg@20 0.08824\n",
    "wandb:             train/predict_ndcg@5 0.06251\n",
    "wandb:            train/predict_ndcg@50 0.10341\n",
    "wandb:           train/predict_recall@1 0.03499\n",
    "wandb:          train/predict_recall@10 0.13703\n",
    "wandb:          train/predict_recall@20 0.18076\n",
    "wandb:           train/predict_recall@5 0.09038\n",
    "wandb:          train/predict_recall@50 0.25656\n",
    "wandb:            train/predict_runtime 25.1426\n",
    "wandb: train/predict_samples_per_second 27.284\n",
    "\"\"\"\n",
    "\n",
    "print(extract_metrics(data))"
   ]
  },
  {
   "cell_type": "code",
   "execution_count": 5,
   "metadata": {},
   "outputs": [
    {
     "name": "stdout",
     "output_type": "stream",
     "text": [
      "0.019, 0.0539, 0.0846, 0.1166, 0.188, 0.019, 0.0303, 0.0345, 0.0367, 0.039, 0.019, 0.0361, 0.046, 0.0542, 0.0684\n"
     ]
    }
   ],
   "source": [
    "# 4 - 1e-6\n",
    "\n",
    "data = \"\"\"\n",
    "wandb:                      train/epoch 0.9991\n",
    "wandb:                train/global_step 835\n",
    "wandb:                  train/grad_norm 32.22339\n",
    "wandb:              train/learning_rate 0.0\n",
    "wandb:                       train/loss 7.3672\n",
    "wandb:               train/predict_loss 7.65561\n",
    "wandb:              train/predict_mrr@1 0.01895\n",
    "wandb:             train/predict_mrr@10 0.03445\n",
    "wandb:             train/predict_mrr@20 0.0367\n",
    "wandb:              train/predict_mrr@5 0.03034\n",
    "wandb:             train/predict_mrr@50 0.03901\n",
    "wandb:             train/predict_ndcg@1 0.01895\n",
    "wandb:            train/predict_ndcg@10 0.04602\n",
    "wandb:            train/predict_ndcg@20 0.05417\n",
    "wandb:             train/predict_ndcg@5 0.03611\n",
    "wandb:            train/predict_ndcg@50 0.0684\n",
    "wandb:           train/predict_recall@1 0.01895\n",
    "wandb:          train/predict_recall@10 0.08455\n",
    "wandb:          train/predict_recall@20 0.11662\n",
    "wandb:           train/predict_recall@5 0.05394\n",
    "wandb:          train/predict_recall@50 0.18805\n",
    "wandb:            train/predict_runtime 25.0011\n",
    "wandb: train/predict_samples_per_second 27.439\n",
    "wandb:   train/predict_steps_per_second 3.44\n",
    "wandb:                       train_loss 7.92487\n",
    "wandb:                    train_runtime 4894.9986\n",
    "wandb:         train_samples_per_second 5.463\n",
    "wandb:           train_steps_per_second 0.171\n",
    "\"\"\"\n",
    "\n",
    "print(extract_metrics(data))"
   ]
  },
  {
   "cell_type": "code",
   "execution_count": 6,
   "metadata": {},
   "outputs": [
    {
     "name": "stdout",
     "output_type": "stream",
     "text": [
      "0.0335, 0.086, 0.1283, 0.1662, 0.2595, 0.0335, 0.05, 0.0555, 0.0581, 0.061, 0.0335, 0.0588, 0.0724, 0.0819, 0.1003\n"
     ]
    }
   ],
   "source": [
    "# 4 - 5e-6\n",
    "\n",
    "data = \"\"\"\n",
    "wandb:                       train/loss 6.9609\n",
    "wandb:               train/predict_loss 7.47467\n",
    "wandb:              train/predict_mrr@1 0.03353\n",
    "wandb:             train/predict_mrr@10 0.05552\n",
    "wandb:             train/predict_mrr@20 0.05807\n",
    "wandb:              train/predict_mrr@5 0.04995\n",
    "wandb:             train/predict_mrr@50 0.06101\n",
    "wandb:             train/predict_ndcg@1 0.03353\n",
    "wandb:            train/predict_ndcg@10 0.07238\n",
    "wandb:            train/predict_ndcg@20 0.08185\n",
    "wandb:             train/predict_ndcg@5 0.05877\n",
    "wandb:            train/predict_ndcg@50 0.10029\n",
    "wandb:           train/predict_recall@1 0.03353\n",
    "wandb:          train/predict_recall@10 0.12828\n",
    "wandb:          train/predict_recall@20 0.16618\n",
    "wandb:           train/predict_recall@5 0.08601\n",
    "wandb:          train/predict_recall@50 0.25948\n",
    "wandb:            train/predict_runtime 25.1132\n",
    "wandb: train/predict_samples_per_second 27.316\n",
    "wandb:   train/predict_steps_per_second 3.424\n",
    "wandb:                       train_loss 7.49882\n",
    "wandb:                    train_runtime 4902.4247\n",
    "wandb:         train_samples_per_second 5.454\n",
    "wandb:           train_steps_per_second 0.17\n",
    "\"\"\"\n",
    "\n",
    "print(extract_metrics(data))"
   ]
  },
  {
   "cell_type": "code",
   "execution_count": 7,
   "metadata": {},
   "outputs": [
    {
     "name": "stdout",
     "output_type": "stream",
     "text": [
      "0.0306, 0.0889, 0.1326, 0.1764, 0.2595, 0.0306, 0.0502, 0.0561, 0.0589, 0.0614, 0.0306, 0.0598, 0.074, 0.0847, 0.1009\n"
     ]
    }
   ],
   "source": [
    "# 4 - 1e-5\n",
    "\n",
    "data = \"\"\"\n",
    "wandb:               train/predict_loss 7.45882\n",
    "wandb:              train/predict_mrr@1 0.03061\n",
    "wandb:             train/predict_mrr@10 0.0561\n",
    "wandb:             train/predict_mrr@20 0.05892\n",
    "wandb:              train/predict_mrr@5 0.05022\n",
    "wandb:             train/predict_mrr@50 0.06139\n",
    "wandb:             train/predict_ndcg@1 0.03061\n",
    "wandb:            train/predict_ndcg@10 0.07396\n",
    "wandb:            train/predict_ndcg@20 0.08474\n",
    "wandb:             train/predict_ndcg@5 0.05976\n",
    "wandb:            train/predict_ndcg@50 0.10092\n",
    "wandb:           train/predict_recall@1 0.03061\n",
    "wandb:          train/predict_recall@10 0.13265\n",
    "wandb:          train/predict_recall@20 0.17638\n",
    "wandb:           train/predict_recall@5 0.08892\n",
    "wandb:          train/predict_recall@50 0.25948\n",
    "wandb:            train/predict_runtime 26.5689\n",
    "\"\"\"\n",
    "\n",
    "print(extract_metrics(data))"
   ]
  },
  {
   "cell_type": "code",
   "execution_count": 8,
   "metadata": {},
   "outputs": [
    {
     "name": "stdout",
     "output_type": "stream",
     "text": [
      "0.0306, 0.0846, 0.1239, 0.1647, 0.2332, 0.0306, 0.048, 0.0531, 0.0558, 0.058, 0.0306, 0.0569, 0.0696, 0.0797, 0.0934\n"
     ]
    }
   ],
   "source": [
    "# 8 - 5e-6\n",
    "\n",
    "data = \"\"\"\n",
    "wandb:               train/predict_loss 7.50784\n",
    "wandb:              train/predict_mrr@1 0.03061\n",
    "wandb:             train/predict_mrr@10 0.05312\n",
    "wandb:             train/predict_mrr@20 0.05583\n",
    "wandb:              train/predict_mrr@5 0.04798\n",
    "wandb:             train/predict_mrr@50 0.05805\n",
    "wandb:             train/predict_ndcg@1 0.03061\n",
    "wandb:            train/predict_ndcg@10 0.06955\n",
    "wandb:            train/predict_ndcg@20 0.07972\n",
    "wandb:             train/predict_ndcg@5 0.05694\n",
    "wandb:            train/predict_ndcg@50 0.09338\n",
    "wandb:           train/predict_recall@1 0.03061\n",
    "wandb:          train/predict_recall@10 0.12391\n",
    "wandb:          train/predict_recall@20 0.16472\n",
    "wandb:           train/predict_recall@5 0.08455\n",
    "wandb:          train/predict_recall@50 0.23324\n",
    "wandb:            train/predict_runtime 27.7107\n",
    "\"\"\"\n",
    "\n",
    "print(extract_metrics(data))"
   ]
  },
  {
   "cell_type": "code",
   "execution_count": 5,
   "metadata": {},
   "outputs": [
    {
     "name": "stdout",
     "output_type": "stream",
     "text": [
      "0.0248, 0.0846, 0.1239, 0.1808, 0.2434, 0.0248, 0.0457, 0.0509, 0.0547, 0.0568, 0.0248, 0.0553, 0.068, 0.0822, 0.0948\n"
     ]
    }
   ],
   "source": [
    "# 8 - 1e-5\n",
    "\n",
    "data = \"\"\"\n",
    "wandb:               train/predict_loss 7.45882\n",
    "wandb:              train/predict_mrr@1 0.02478\n",
    "wandb:             train/predict_mrr@10 0.05086\n",
    "wandb:             train/predict_mrr@20 0.0547\n",
    "wandb:              train/predict_mrr@5 0.04568\n",
    "wandb:             train/predict_mrr@50 0.05676\n",
    "wandb:             train/predict_ndcg@1 0.02478\n",
    "wandb:            train/predict_ndcg@10 0.06797\n",
    "wandb:            train/predict_ndcg@20 0.08221\n",
    "wandb:             train/predict_ndcg@5 0.05531\n",
    "wandb:            train/predict_ndcg@50 0.09476\n",
    "wandb:           train/predict_recall@1 0.02478\n",
    "wandb:          train/predict_recall@10 0.12391\n",
    "wandb:          train/predict_recall@20 0.18076\n",
    "wandb:           train/predict_recall@5 0.08455\n",
    "wandb:          train/predict_recall@50 0.24344\n",
    "wandb:            train/predict_runtime 27.3504\n",
    "wandb: train/predict_samples_per_second 25.082\n",
    "wandb:   train/predict_steps_per_second 3.144\n",
    "wandb:                       train_loss 7.48349\n",
    "wandb:                    train_runtime 5049.1253\n",
    "wandb:         train_samples_per_second 5.296\n",
    "wandb:           train_steps_per_second 0.083\n",
    "\"\"\"\n",
    "\n",
    "print(extract_metrics(data))"
   ]
  },
  {
   "cell_type": "code",
   "execution_count": 7,
   "metadata": {},
   "outputs": [
    {
     "name": "stdout",
     "output_type": "stream",
     "text": [
      "0.0233, 0.0671, 0.0991, 0.1414, 0.2143, 0.0233, 0.0386, 0.043, 0.0461, 0.0483, 0.0233, 0.0457, 0.0561, 0.067, 0.0813\n"
     ]
    }
   ],
   "source": [
    "# 16 - 5e-6\n",
    "\n",
    "data = \"\"\"\n",
    "wandb:               train/predict_loss 7.58856\n",
    "wandb:              train/predict_mrr@1 0.02332\n",
    "wandb:             train/predict_mrr@10 0.043\n",
    "wandb:             train/predict_mrr@20 0.04605\n",
    "wandb:              train/predict_mrr@5 0.03865\n",
    "wandb:             train/predict_mrr@50 0.04832\n",
    "wandb:             train/predict_ndcg@1 0.02332\n",
    "wandb:            train/predict_ndcg@10 0.05614\n",
    "wandb:            train/predict_ndcg@20 0.06697\n",
    "wandb:             train/predict_ndcg@5 0.04571\n",
    "wandb:            train/predict_ndcg@50 0.08134\n",
    "wandb:           train/predict_recall@1 0.02332\n",
    "wandb:          train/predict_recall@10 0.09913\n",
    "wandb:          train/predict_recall@20 0.1414\n",
    "wandb:           train/predict_recall@5 0.06706\n",
    "wandb:          train/predict_recall@50 0.21429\n",
    "wandb:            train/predict_runtime 26.6928\n",
    "\"\"\"\n",
    "\n",
    "print(extract_metrics(data))"
   ]
  },
  {
   "cell_type": "code",
   "execution_count": 4,
   "metadata": {},
   "outputs": [
    {
     "name": "stdout",
     "output_type": "stream",
     "text": [
      "0.0262, 0.0743, 0.1122, 0.1589, 0.2318, 0.0262, 0.0421, 0.047, 0.0502, 0.0526, 0.0262, 0.05, 0.0622, 0.0738, 0.0884\n"
     ]
    }
   ],
   "source": [
    "# 16 - 1e-5\n",
    "\n",
    "data = \"\"\"\n",
    "wandb:                      train/epoch 0.99551\n",
    "wandb:                train/global_step 208\n",
    "wandb:                  train/grad_norm 14.48255\n",
    "wandb:              train/learning_rate 1e-05\n",
    "wandb:                       train/loss 7.208\n",
    "wandb:               train/predict_loss 7.5246\n",
    "wandb:              train/predict_mrr@1 0.02624\n",
    "wandb:             train/predict_mrr@10 0.04704\n",
    "wandb:             train/predict_mrr@20 0.05015\n",
    "wandb:              train/predict_mrr@5 0.0421\n",
    "wandb:             train/predict_mrr@50 0.05256\n",
    "wandb:             train/predict_ndcg@1 0.02624\n",
    "wandb:            train/predict_ndcg@10 0.06218\n",
    "wandb:            train/predict_ndcg@20 0.07381\n",
    "wandb:             train/predict_ndcg@5 0.05005\n",
    "wandb:            train/predict_ndcg@50 0.08843\n",
    "wandb:           train/predict_recall@1 0.02624\n",
    "wandb:          train/predict_recall@10 0.11224\n",
    "wandb:          train/predict_recall@20 0.15889\n",
    "wandb:           train/predict_recall@5 0.07434\n",
    "wandb:          train/predict_recall@50 0.23178\n",
    "wandb:            train/predict_runtime 25.3082\n",
    "\"\"\"\n",
    "\n",
    "print(extract_metrics(data))"
   ]
  },
  {
   "cell_type": "code",
   "execution_count": 4,
   "metadata": {},
   "outputs": [
    {
     "name": "stdout",
     "output_type": "stream",
     "text": [
      "0.0248, 0.086, 0.1181, 0.1808, 0.2653, 0.0248, 0.0442, 0.0485, 0.0528, 0.0555, 0.0248, 0.0545, 0.0648, 0.0806, 0.0974\n"
     ]
    }
   ],
   "source": [
    "# 2 - 1e-5\n",
    "\n",
    "data = \"\"\"\n",
    "wandb:               train/predict_loss 7.48506\n",
    "wandb:              train/predict_mrr@1 0.02478\n",
    "wandb:             train/predict_mrr@10 0.04847\n",
    "wandb:             train/predict_mrr@20 0.0528\n",
    "wandb:              train/predict_mrr@5 0.04424\n",
    "wandb:             train/predict_mrr@50 0.05548\n",
    "wandb:             train/predict_ndcg@1 0.02478\n",
    "wandb:            train/predict_ndcg@10 0.06479\n",
    "wandb:            train/predict_ndcg@20 0.08061\n",
    "wandb:             train/predict_ndcg@5 0.05447\n",
    "wandb:            train/predict_ndcg@50 0.09736\n",
    "wandb:           train/predict_recall@1 0.02478\n",
    "wandb:          train/predict_recall@10 0.11808\n",
    "wandb:          train/predict_recall@20 0.18076\n",
    "wandb:           train/predict_recall@5 0.08601\n",
    "wandb:          train/predict_recall@50 0.26531\n",
    "\"\"\"\n",
    "\n",
    "print(extract_metrics(data))"
   ]
  },
  {
   "cell_type": "code",
   "execution_count": 5,
   "metadata": {},
   "outputs": [
    {
     "name": "stdout",
     "output_type": "stream",
     "text": [
      "0.0073, 0.0408, 0.0671, 0.0918, 0.1472, 0.0073, 0.0187, 0.0223, 0.0238, 0.0256, 0.0073, 0.0241, 0.0327, 0.0388, 0.0498\n"
     ]
    }
   ],
   "source": [
    "# 16 - 5e-5\n",
    "\n",
    "data = \"\"\"\n",
    "wandb:               train/predict_loss 7.72631\n",
    "wandb:              train/predict_mrr@1 0.00729\n",
    "wandb:             train/predict_mrr@10 0.02231\n",
    "wandb:             train/predict_mrr@20 0.02385\n",
    "wandb:              train/predict_mrr@5 0.01866\n",
    "wandb:             train/predict_mrr@50 0.02563\n",
    "wandb:             train/predict_ndcg@1 0.00729\n",
    "wandb:            train/predict_ndcg@10 0.03274\n",
    "wandb:            train/predict_ndcg@20 0.03879\n",
    "wandb:             train/predict_ndcg@5 0.02411\n",
    "wandb:            train/predict_ndcg@50 0.04981\n",
    "wandb:           train/predict_recall@1 0.00729\n",
    "wandb:          train/predict_recall@10 0.06706\n",
    "wandb:          train/predict_recall@20 0.09184\n",
    "wandb:           train/predict_recall@5 0.04082\n",
    "wandb:          train/predict_recall@50 0.14723\n",
    "wandb:            train/predict_runtime 26.1123\n",
    "wandb: train/predict_samples_per_second 26.271\n",
    "wandb:   train/predict_steps_per_second 3.293\n",
    "wandb:                       train_loss 7.85202\n",
    "wandb:                    train_runtime 4812.0079\n",
    "wandb:         train_samples_per_second 5.557\n",
    "wandb:           train_steps_per_second 0.043\n",
    "\"\"\"\n",
    "\n",
    "print(extract_metrics(data))"
   ]
  },
  {
   "cell_type": "code",
   "execution_count": 6,
   "metadata": {},
   "outputs": [
    {
     "name": "stdout",
     "output_type": "stream",
     "text": [
      "0.019, 0.0758, 0.1093, 0.1429, 0.2318, 0.019, 0.0379, 0.0424, 0.0447, 0.0474, 0.019, 0.0472, 0.0581, 0.0666, 0.0839\n"
     ]
    }
   ],
   "source": [
    "# 32 - 1e-5\n",
    "\n",
    "data = \"\"\"\n",
    "wandb:               train/predict_loss 7.53754\n",
    "wandb:              train/predict_mrr@1 0.01895\n",
    "wandb:             train/predict_mrr@10 0.04241\n",
    "wandb:             train/predict_mrr@20 0.04475\n",
    "wandb:              train/predict_mrr@5 0.03785\n",
    "wandb:             train/predict_mrr@50 0.0474\n",
    "wandb:             train/predict_ndcg@1 0.01895\n",
    "wandb:            train/predict_ndcg@10 0.0581\n",
    "wandb:            train/predict_ndcg@20 0.0666\n",
    "wandb:             train/predict_ndcg@5 0.04718\n",
    "wandb:            train/predict_ndcg@50 0.08393\n",
    "wandb:           train/predict_recall@1 0.01895\n",
    "wandb:          train/predict_recall@10 0.10933\n",
    "wandb:          train/predict_recall@20 0.14286\n",
    "wandb:           train/predict_recall@5 0.0758\n",
    "wandb:          train/predict_recall@50 0.23178\n",
    "wandb:            train/predict_runtime 25.3417\n",
    "wandb: train/predict_samples_per_second 27.07\n",
    "wandb:   train/predict_steps_per_second 3.394\n",
    "wandb:                       train_loss 7.75324\n",
    "\"\"\"\n",
    "\n",
    "print(extract_metrics(data))"
   ]
  },
  {
   "cell_type": "code",
   "execution_count": 7,
   "metadata": {},
   "outputs": [
    {
     "name": "stdout",
     "output_type": "stream",
     "text": [
      "0.0204, 0.0671, 0.0889, 0.137, 0.2216, 0.0204, 0.0367, 0.0396, 0.0427, 0.0455, 0.0204, 0.0442, 0.0512, 0.0632, 0.0801\n"
     ]
    }
   ],
   "source": [
    "# 32 - 5e-5\n",
    "\n",
    "data = \"\"\"\n",
    "wandb:               train/predict_loss 7.58582\n",
    "wandb:              train/predict_mrr@1 0.02041\n",
    "wandb:             train/predict_mrr@10 0.0396\n",
    "wandb:             train/predict_mrr@20 0.04274\n",
    "wandb:              train/predict_mrr@5 0.03671\n",
    "wandb:             train/predict_mrr@50 0.04554\n",
    "wandb:             train/predict_ndcg@1 0.02041\n",
    "wandb:            train/predict_ndcg@10 0.05124\n",
    "wandb:            train/predict_ndcg@20 0.06316\n",
    "wandb:             train/predict_ndcg@5 0.0442\n",
    "wandb:            train/predict_ndcg@50 0.0801\n",
    "wandb:           train/predict_recall@1 0.02041\n",
    "wandb:          train/predict_recall@10 0.08892\n",
    "wandb:          train/predict_recall@20 0.13703\n",
    "wandb:           train/predict_recall@5 0.06706\n",
    "wandb:          train/predict_recall@50 0.22157\n",
    "wandb:            train/predict_runtime 25.3675\n",
    "\"\"\"\n",
    "\n",
    "print(extract_metrics(data))\n"
   ]
  },
  {
   "cell_type": "code",
   "execution_count": 8,
   "metadata": {},
   "outputs": [
    {
     "name": "stdout",
     "output_type": "stream",
     "text": [
      "0.0102, 0.0466, 0.0831, 0.1326, 0.2041, 0.0102, 0.0231, 0.0279, 0.0312, 0.0334, 0.0102, 0.0289, 0.0407, 0.053, 0.067\n"
     ]
    }
   ],
   "source": [
    "# 64 - 5e-5\n",
    "\n",
    "data = \"\"\"\n",
    "wandb:               train/predict_loss 7.60313\n",
    "wandb:              train/predict_mrr@1 0.0102\n",
    "wandb:             train/predict_mrr@10 0.0279\n",
    "wandb:             train/predict_mrr@20 0.0312\n",
    "wandb:              train/predict_mrr@5 0.02306\n",
    "wandb:             train/predict_mrr@50 0.03338\n",
    "wandb:             train/predict_ndcg@1 0.0102\n",
    "wandb:            train/predict_ndcg@10 0.04069\n",
    "wandb:            train/predict_ndcg@20 0.05304\n",
    "wandb:             train/predict_ndcg@5 0.02892\n",
    "wandb:            train/predict_ndcg@50 0.06703\n",
    "wandb:           train/predict_recall@1 0.0102\n",
    "wandb:          train/predict_recall@10 0.08309\n",
    "wandb:          train/predict_recall@20 0.13265\n",
    "wandb:           train/predict_recall@5 0.04665\n",
    "wandb:          train/predict_recall@50 0.20408\n",
    "\"\"\"\n",
    "\n",
    "print(extract_metrics(data))"
   ]
  },
  {
   "cell_type": "code",
   "execution_count": 3,
   "metadata": {},
   "outputs": [
    {
     "name": "stdout",
     "output_type": "stream",
     "text": [
      "0.0145, 0.0683, 0.1076, 0.1541, 0.2209, 0.0145, 0.0328, 0.0379, 0.041, 0.043, 0.0145, 0.0415, 0.0541, 0.0658, 0.0788\n"
     ]
    }
   ],
   "source": [
    "# 新数据(Qwen)\n",
    "\n",
    "# 1 - 1e-6\n",
    "\n",
    "data = \"\"\"\n",
    "wandb:               train/predict_loss 7.59157\n",
    "wandb:              train/predict_mrr@1 0.01453\n",
    "wandb:             train/predict_mrr@10 0.0379\n",
    "wandb:             train/predict_mrr@20 0.04104\n",
    "wandb:              train/predict_mrr@5 0.03275\n",
    "wandb:             train/predict_mrr@50 0.04304\n",
    "wandb:             train/predict_ndcg@1 0.01453\n",
    "wandb:            train/predict_ndcg@10 0.05413\n",
    "wandb:            train/predict_ndcg@20 0.06578\n",
    "wandb:             train/predict_ndcg@5 0.04152\n",
    "wandb:            train/predict_ndcg@50 0.0788\n",
    "wandb:           train/predict_recall@1 0.01453\n",
    "wandb:          train/predict_recall@10 0.10756\n",
    "wandb:          train/predict_recall@20 0.15407\n",
    "wandb:           train/predict_recall@5 0.06831\n",
    "wandb:          train/predict_recall@50 0.22093\n",
    "wandb:            train/predict_runtime 17.0051\n",
    "wandb: train/predict_samples_per_second 40.459\n",
    "wandb:   train/predict_steps_per_second 5.057\n",
    "wandb:                       train_loss 7.74529\n",
    "wandb:                    train_runtime 5272.1581\n",
    "wandb:         train_samples_per_second 5.083\n",
    "wandb:           train_steps_per_second 0.635\n",
    "\"\"\"\n",
    "\n",
    "print(extract_metrics(data))"
   ]
  },
  {
   "cell_type": "code",
   "execution_count": 4,
   "metadata": {},
   "outputs": [
    {
     "name": "stdout",
     "output_type": "stream",
     "text": [
      "0.0131, 0.0552, 0.0858, 0.1177, 0.1962, 0.0131, 0.028, 0.0321, 0.0342, 0.0366, 0.0131, 0.0347, 0.0447, 0.0526, 0.068\n"
     ]
    }
   ],
   "source": [
    "# 2 - 1e-6\n",
    "\n",
    "data = \"\"\"\n",
    "wandb:                  train/grad_norm 26.937\n",
    "wandb:              train/learning_rate 0.0\n",
    "wandb:                       train/loss 7.9688\n",
    "wandb:               train/predict_loss 7.63463\n",
    "wandb:              train/predict_mrr@1 0.01308\n",
    "wandb:             train/predict_mrr@10 0.0321\n",
    "wandb:             train/predict_mrr@20 0.03421\n",
    "wandb:              train/predict_mrr@5 0.02798\n",
    "wandb:             train/predict_mrr@50 0.03659\n",
    "wandb:             train/predict_ndcg@1 0.01308\n",
    "wandb:            train/predict_ndcg@10 0.04466\n",
    "wandb:            train/predict_ndcg@20 0.05261\n",
    "wandb:             train/predict_ndcg@5 0.03473\n",
    "wandb:            train/predict_ndcg@50 0.06797\n",
    "wandb:           train/predict_recall@1 0.01308\n",
    "wandb:          train/predict_recall@10 0.08576\n",
    "wandb:          train/predict_recall@20 0.11773\n",
    "wandb:           train/predict_recall@5 0.05523\n",
    "wandb:          train/predict_recall@50 0.19622\n",
    "\"\"\"\n",
    "\n",
    "print(extract_metrics(data))\n",
    "\n"
   ]
  },
  {
   "cell_type": "code",
   "execution_count": 4,
   "metadata": {},
   "outputs": [
    {
     "name": "stdout",
     "output_type": "stream",
     "text": [
      "0.016, 0.0509, 0.0683, 0.0988, 0.157, 0.016, 0.0268, 0.0294, 0.0317, 0.0335, 0.016, 0.0327, 0.0386, 0.0465, 0.058\n"
     ]
    }
   ],
   "source": [
    "# 4 - 1e-6\n",
    "\n",
    "data = \"\"\"\n",
    "wandb:                       train/loss 7.4023\n",
    "wandb:               train/predict_loss 7.68423\n",
    "wandb:              train/predict_mrr@1 0.01599\n",
    "wandb:             train/predict_mrr@10 0.02941\n",
    "wandb:             train/predict_mrr@20 0.03166\n",
    "wandb:              train/predict_mrr@5 0.02682\n",
    "wandb:             train/predict_mrr@50 0.03348\n",
    "wandb:             train/predict_ndcg@1 0.01599\n",
    "wandb:            train/predict_ndcg@10 0.0386\n",
    "wandb:            train/predict_ndcg@20 0.04647\n",
    "wandb:             train/predict_ndcg@5 0.03269\n",
    "wandb:            train/predict_ndcg@50 0.05796\n",
    "wandb:           train/predict_recall@1 0.01599\n",
    "wandb:          train/predict_recall@10 0.06831\n",
    "wandb:          train/predict_recall@20 0.09884\n",
    "wandb:           train/predict_recall@5 0.05087\n",
    "wandb:          train/predict_recall@50 0.15698\n",
    "wandb:            train/predict_runtime 16.7915\n",
    "wandb: train/predict_samples_per_second 40.973\n",
    "wandb:   train/predict_steps_per_second 5.122\n",
    "wandb:                       train_loss 8.1028\n",
    "wandb:                    train_runtime 2573.4131\n",
    "wandb:         train_samples_per_second 10.414\n",
    "wandb:           train_steps_per_second 0.325\n",
    "\"\"\"\n",
    "\n",
    "print(extract_metrics(data))\n"
   ]
  },
  {
   "cell_type": "code",
   "execution_count": 3,
   "metadata": {},
   "outputs": [
    {
     "name": "stdout",
     "output_type": "stream",
     "text": [
      "0.0116, 0.0712, 0.1177, 0.1642, 0.2442, 0.0116, 0.0321, 0.0381, 0.0412, 0.0438, 0.0116, 0.0418, 0.0566, 0.0682, 0.0841\n"
     ]
    }
   ],
   "source": [
    "# 4 - 5e-6\n",
    "\n",
    "data = \"\"\"\n",
    "wandb:               train/predict_loss 7.48165\n",
    "wandb:              train/predict_mrr@1 0.01163\n",
    "wandb:             train/predict_mrr@10 0.03812\n",
    "wandb:             train/predict_mrr@20 0.04116\n",
    "wandb:              train/predict_mrr@5 0.03207\n",
    "wandb:             train/predict_mrr@50 0.04376\n",
    "wandb:             train/predict_ndcg@1 0.01163\n",
    "wandb:            train/predict_ndcg@10 0.05664\n",
    "wandb:            train/predict_ndcg@20 0.06817\n",
    "wandb:             train/predict_ndcg@5 0.04176\n",
    "wandb:            train/predict_ndcg@50 0.08412\n",
    "wandb:           train/predict_recall@1 0.01163\n",
    "wandb:          train/predict_recall@10 0.11773\n",
    "wandb:          train/predict_recall@20 0.16424\n",
    "wandb:           train/predict_recall@5 0.07122\n",
    "wandb:          train/predict_recall@50 0.24419\n",
    "wandb:            train/predict_runtime 16.2421\n",
    "wandb: train/predict_samples_per_second 42.359\n",
    "wandb:   train/predict_steps_per_second 5.295\n",
    "wandb:                       train_loss 7.58607\n",
    "wandb:                    train_runtime 2853.2199\n",
    "wandb:         train_samples_per_second 9.393\n",
    "wandb:           train_steps_per_second 0.293\n",
    "\"\"\"\n",
    "\n",
    "print(extract_metrics(data))"
   ]
  },
  {
   "cell_type": "code",
   "execution_count": 9,
   "metadata": {},
   "outputs": [
    {
     "name": "stdout",
     "output_type": "stream",
     "text": [
      "0.0145, 0.0581, 0.1076, 0.1526, 0.2311, 0.0145, 0.0294, 0.0358, 0.0389, 0.0413, 0.0145, 0.0365, 0.0523, 0.0636, 0.0791\n"
     ]
    }
   ],
   "source": [
    "# 8 - 5e-6\n",
    "\n",
    "data = \"\"\"\n",
    "wandb:                       train/loss 7.4121\n",
    "wandb:               train/predict_loss 7.51962\n",
    "wandb:              train/predict_mrr@1 0.01453\n",
    "wandb:             train/predict_mrr@10 0.03581\n",
    "wandb:             train/predict_mrr@20 0.03887\n",
    "wandb:              train/predict_mrr@5 0.02936\n",
    "wandb:             train/predict_mrr@50 0.04134\n",
    "wandb:             train/predict_ndcg@1 0.01453\n",
    "wandb:            train/predict_ndcg@10 0.05228\n",
    "wandb:            train/predict_ndcg@20 0.06359\n",
    "wandb:             train/predict_ndcg@5 0.03645\n",
    "wandb:            train/predict_ndcg@50 0.07911\n",
    "wandb:           train/predict_recall@1 0.01453\n",
    "wandb:          train/predict_recall@10 0.10756\n",
    "wandb:          train/predict_recall@20 0.15262\n",
    "wandb:           train/predict_recall@5 0.05814\n",
    "wandb:          train/predict_recall@50 0.2311\n",
    "wandb:            train/predict_runtime 17.9034\n",
    "wandb: train/predict_samples_per_second 38.428\n",
    "wandb:   train/predict_steps_per_second 4.804\n",
    "wandb:                       train_loss 7.68341\n",
    "wandb:                    train_runtime 2511.1749\n",
    "wandb:         train_samples_per_second 10.672\n",
    "wandb:           train_steps_per_second 0.166\n",
    "\"\"\"\n",
    "\n",
    "print(extract_metrics(data))"
   ]
  },
  {
   "cell_type": "code",
   "execution_count": 3,
   "metadata": {},
   "outputs": [
    {
     "name": "stdout",
     "output_type": "stream",
     "text": [
      "0.0116, 0.0625, 0.0959, 0.1599, 0.2384, 0.0116, 0.0275, 0.032, 0.0364, 0.0389, 0.0116, 0.0361, 0.0469, 0.0631, 0.0786\n"
     ]
    }
   ],
   "source": [
    "# 8 - 1e-5\n",
    "\n",
    "data = \"\"\"\n",
    "wandb:              train/learning_rate 1e-05\n",
    "wandb:                       train/loss 7.3086\n",
    "wandb:               train/predict_loss 7.49491\n",
    "wandb:              train/predict_mrr@1 0.01163\n",
    "wandb:             train/predict_mrr@10 0.03202\n",
    "wandb:             train/predict_mrr@20 0.03641\n",
    "wandb:              train/predict_mrr@5 0.02754\n",
    "wandb:             train/predict_mrr@50 0.03891\n",
    "wandb:             train/predict_ndcg@1 0.01163\n",
    "wandb:            train/predict_ndcg@10 0.04695\n",
    "wandb:            train/predict_ndcg@20 0.06307\n",
    "wandb:             train/predict_ndcg@5 0.03612\n",
    "wandb:            train/predict_ndcg@50 0.07864\n",
    "wandb:           train/predict_recall@1 0.01163\n",
    "wandb:          train/predict_recall@10 0.09593\n",
    "wandb:          train/predict_recall@20 0.15988\n",
    "wandb:           train/predict_recall@5 0.0625\n",
    "wandb:          train/predict_recall@50 0.23837\n",
    "wandb:            train/predict_runtime 17.384\n",
    "wandb: train/predict_samples_per_second 39.577\n",
    "wandb:   train/predict_steps_per_second 4.947\n",
    "wandb:                       train_loss 7.57469\n",
    "wandb:                    train_runtime 2727.7652\n",
    "wandb:         train_samples_per_second 9.825\n",
    "wandb:           train_steps_per_second 0.153\n",
    "\"\"\"\n",
    "\n",
    "print(extract_metrics(data))"
   ]
  },
  {
   "cell_type": "code",
   "execution_count": 4,
   "metadata": {},
   "outputs": [
    {
     "name": "stdout",
     "output_type": "stream",
     "text": [
      "0.0131, 0.0551, 0.0784, 0.1321, 0.2119, 0.0131, 0.0258, 0.0289, 0.0326, 0.035, 0.0131, 0.033, 0.0404, 0.054, 0.0697\n"
     ]
    }
   ],
   "source": [
    "## 0325更新数据\n",
    "\n",
    "# 1 - 1e-6\n",
    "\n",
    "data = \"\"\"\n",
    "wandb:                       train/loss 7.7031\n",
    "wandb:               train/predict_loss 7.65493\n",
    "wandb:              train/predict_mrr@1 0.01306\n",
    "wandb:             train/predict_mrr@10 0.02888\n",
    "wandb:             train/predict_mrr@20 0.03255\n",
    "wandb:              train/predict_mrr@5 0.02579\n",
    "wandb:             train/predict_mrr@50 0.03502\n",
    "wandb:             train/predict_ndcg@1 0.01306\n",
    "wandb:            train/predict_ndcg@10 0.04045\n",
    "wandb:            train/predict_ndcg@20 0.05396\n",
    "wandb:             train/predict_ndcg@5 0.03295\n",
    "wandb:            train/predict_ndcg@50 0.06966\n",
    "wandb:           train/predict_recall@1 0.01306\n",
    "wandb:          train/predict_recall@10 0.07837\n",
    "wandb:          train/predict_recall@20 0.13208\n",
    "wandb:           train/predict_recall@5 0.05515\n",
    "wandb:          train/predict_recall@50 0.2119\n",
    "wandb:            train/predict_runtime 17.2251\n",
    "\"\"\"\n",
    "\n",
    "print(extract_metrics(data))\n"
   ]
  },
  {
   "cell_type": "code",
   "execution_count": 5,
   "metadata": {},
   "outputs": [
    {
     "name": "stdout",
     "output_type": "stream",
     "text": [
      "0.0174, 0.0566, 0.1031, 0.1509, 0.2511, 0.0174, 0.03, 0.0364, 0.0395, 0.0426, 0.0174, 0.0365, 0.0517, 0.0636, 0.0833\n"
     ]
    }
   ],
   "source": [
    "# 1 - 5e-6\n",
    "data = \"\"\"\n",
    "wandb:                       train/loss 7.6562\n",
    "wandb:               train/predict_loss 7.56114\n",
    "wandb:              train/predict_mrr@1 0.01742\n",
    "wandb:             train/predict_mrr@10 0.03642\n",
    "wandb:             train/predict_mrr@20 0.03954\n",
    "wandb:              train/predict_mrr@5 0.03004\n",
    "wandb:             train/predict_mrr@50 0.0426\n",
    "wandb:             train/predict_ndcg@1 0.01742\n",
    "wandb:            train/predict_ndcg@10 0.05175\n",
    "wandb:            train/predict_ndcg@20 0.06361\n",
    "wandb:             train/predict_ndcg@5 0.03655\n",
    "wandb:            train/predict_ndcg@50 0.08328\n",
    "wandb:           train/predict_recall@1 0.01742\n",
    "wandb:          train/predict_recall@10 0.10305\n",
    "wandb:          train/predict_recall@20 0.15094\n",
    "wandb:           train/predict_recall@5 0.0566\n",
    "wandb:          train/predict_recall@50 0.25109\n",
    "\"\"\"\n",
    "\n",
    "print(extract_metrics(data))"
   ]
  },
  {
   "cell_type": "code",
   "execution_count": 6,
   "metadata": {},
   "outputs": [
    {
     "name": "stdout",
     "output_type": "stream",
     "text": [
      "0.0116, 0.0464, 0.0914, 0.1393, 0.2163, 0.0116, 0.0224, 0.0281, 0.0314, 0.0337, 0.0116, 0.0283, 0.0425, 0.0546, 0.0696\n"
     ]
    }
   ],
   "source": [
    "# 2 - 1e-6\n",
    "\n",
    "data = \"\"\"\n",
    "wandb:                       train/loss 7.7109\n",
    "wandb:               train/predict_loss 7.63253\n",
    "wandb:              train/predict_mrr@1 0.01161\n",
    "wandb:             train/predict_mrr@10 0.0281\n",
    "wandb:             train/predict_mrr@20 0.03141\n",
    "wandb:              train/predict_mrr@5 0.02242\n",
    "wandb:             train/predict_mrr@50 0.03367\n",
    "wandb:             train/predict_ndcg@1 0.01161\n",
    "wandb:            train/predict_ndcg@10 0.04253\n",
    "wandb:            train/predict_ndcg@20 0.05462\n",
    "wandb:             train/predict_ndcg@5 0.0283\n",
    "wandb:            train/predict_ndcg@50 0.06955\n",
    "wandb:           train/predict_recall@1 0.01161\n",
    "wandb:          train/predict_recall@10 0.09144\n",
    "wandb:          train/predict_recall@20 0.13933\n",
    "wandb:           train/predict_recall@5 0.04644\n",
    "wandb:          train/predict_recall@50 0.21626\n",
    "wandb:            train/predict_runtime 16.7603\n",
    "wandb: train/predict_samples_per_second 41.109\n",
    "wandb:   train/predict_steps_per_second 5.191\n",
    "wandb:                       train_loss 7.87493\n",
    "wandb:                    train_runtime 3137.4575\n",
    "wandb:         train_samples_per_second 8.53\n",
    "wandb:           train_steps_per_second 0.533\n",
    "\"\"\"\n",
    "\n",
    "print(extract_metrics(data))"
   ]
  },
  {
   "cell_type": "code",
   "execution_count": 6,
   "metadata": {},
   "outputs": [
    {
     "name": "stdout",
     "output_type": "stream",
     "text": [
      "0.0101, 0.0347, 0.0708, 0.1185, 0.185, 0.0101, 0.0188, 0.0233, 0.0267, 0.0289, 0.0101, 0.0227, 0.0341, 0.0463, 0.0595\n"
     ]
    }
   ],
   "source": [
    "# 新数据（DeepSeek）\n",
    "\n",
    "# 1 - 5e-7\n",
    "\n",
    "data = \"\"\"\n",
    "wandb:              train/learning_rate 0.0\n",
    "wandb:                       train/loss 7.5156\n",
    "wandb:               train/predict_loss 7.74729\n",
    "wandb:              train/predict_mrr@1 0.01012\n",
    "wandb:             train/predict_mrr@10 0.02332\n",
    "wandb:             train/predict_mrr@20 0.02673\n",
    "wandb:              train/predict_mrr@5 0.01879\n",
    "wandb:             train/predict_mrr@50 0.02889\n",
    "wandb:             train/predict_ndcg@1 0.01012\n",
    "wandb:            train/predict_ndcg@10 0.0341\n",
    "wandb:            train/predict_ndcg@20 0.04628\n",
    "wandb:             train/predict_ndcg@5 0.02271\n",
    "wandb:            train/predict_ndcg@50 0.05955\n",
    "wandb:           train/predict_recall@1 0.01012\n",
    "wandb:          train/predict_recall@10 0.07081\n",
    "wandb:          train/predict_recall@20 0.1185\n",
    "wandb:           train/predict_recall@5 0.03468\n",
    "wandb:          train/predict_recall@50 0.18497\n",
    "wandb:            train/predict_runtime 17.5363\n",
    "wandb: train/predict_samples_per_second 39.461\n",
    "wandb:   train/predict_steps_per_second 4.961\n",
    "wandb:                       train_loss 7.971\n",
    "wandb:                    train_runtime 3533.0826\n",
    "wandb:         train_samples_per_second 7.597\n",
    "wandb:           train_steps_per_second 0.95\n",
    "\"\"\"\n",
    "\n",
    "print(extract_metrics(data))"
   ]
  },
  {
   "cell_type": "code",
   "execution_count": 4,
   "metadata": {},
   "outputs": [
    {
     "name": "stdout",
     "output_type": "stream",
     "text": [
      "0.0145, 0.0552, 0.0916, 0.1294, 0.1962, 0.0145, 0.0272, 0.032, 0.0346, 0.0369, 0.0145, 0.034, 0.0457, 0.0552, 0.0688\n"
     ]
    }
   ],
   "source": [
    "# 使用Qwen2.5-7B-Instruct模型\n",
    "\n",
    "data = \"\"\"\n",
    "wandb:               train/predict_loss 7.70203\n",
    "wandb:              train/predict_mrr@1 0.01453\n",
    "wandb:             train/predict_mrr@10 0.03198\n",
    "wandb:             train/predict_mrr@20 0.03456\n",
    "wandb:              train/predict_mrr@5 0.0272\n",
    "wandb:             train/predict_mrr@50 0.03685\n",
    "wandb:             train/predict_ndcg@1 0.01453\n",
    "wandb:            train/predict_ndcg@10 0.04572\n",
    "wandb:            train/predict_ndcg@20 0.05521\n",
    "wandb:             train/predict_ndcg@5 0.03404\n",
    "wandb:            train/predict_ndcg@50 0.06876\n",
    "wandb:           train/predict_recall@1 0.01453\n",
    "wandb:          train/predict_recall@10 0.09157\n",
    "wandb:          train/predict_recall@20 0.12936\n",
    "wandb:           train/predict_recall@5 0.05523\n",
    "wandb:          train/predict_recall@50 0.19622\n",
    "wandb:            train/predict_runtime 17.1406\n",
    "\"\"\"\n",
    "\n",
    "print(extract_metrics(data))\n",
    "\n"
   ]
  },
  {
   "cell_type": "code",
   "execution_count": 3,
   "metadata": {},
   "outputs": [
    {
     "name": "stdout",
     "output_type": "stream",
     "text": [
      "0.0133, 0.0592, 0.1036, 0.1598, 0.2278, 0.0133, 0.0285, 0.0343, 0.0381, 0.0402, 0.0133, 0.036, 0.0503, 0.0644, 0.0777\n"
     ]
    }
   ],
   "source": [
    "# 0326更新数据\n",
    "data = \"\"\"\n",
    "wandb:                       train/loss 7.125\n",
    "wandb:               train/predict_loss 7.58543\n",
    "wandb:              train/predict_mrr@1 0.01331\n",
    "wandb:             train/predict_mrr@10 0.03431\n",
    "wandb:             train/predict_mrr@20 0.03811\n",
    "wandb:              train/predict_mrr@5 0.02848\n",
    "wandb:             train/predict_mrr@50 0.04021\n",
    "wandb:             train/predict_ndcg@1 0.01331\n",
    "wandb:            train/predict_ndcg@10 0.05026\n",
    "wandb:            train/predict_ndcg@20 0.06435\n",
    "wandb:             train/predict_ndcg@5 0.03599\n",
    "wandb:            train/predict_ndcg@50 0.07774\n",
    "wandb:           train/predict_recall@1 0.01331\n",
    "wandb:          train/predict_recall@10 0.10355\n",
    "wandb:          train/predict_recall@20 0.15976\n",
    "wandb:           train/predict_recall@5 0.05917\n",
    "wandb:          train/predict_recall@50 0.22781\n",
    "wandb:            train/predict_runtime 17.4182\n",
    "\"\"\"\n",
    "\n",
    "print(extract_metrics(data))\n"
   ]
  },
  {
   "cell_type": "markdown",
   "metadata": {},
   "source": [
    "## 点击保留user + recommender"
   ]
  },
  {
   "cell_type": "code",
   "execution_count": 3,
   "metadata": {},
   "outputs": [
    {
     "name": "stdout",
     "output_type": "stream",
     "text": [
      "0.0082, 0.0319, 0.0495, 0.0835, 0.1555, 0.0082, 0.0169, 0.0191, 0.0214, 0.0236, 0.0082, 0.0206, 0.0261, 0.0347, 0.0488\n"
     ]
    }
   ],
   "source": [
    "# 4 - 1e-6 - 1 epoch\n",
    "\n",
    "data = \"\"\"\n",
    "wandb:                       train/loss 7.6953\n",
    "wandb:               train/predict_loss 7.79677\n",
    "wandb:              train/predict_mrr@1 0.00824\n",
    "wandb:             train/predict_mrr@10 0.01905\n",
    "wandb:             train/predict_mrr@20 0.02135\n",
    "wandb:              train/predict_mrr@5 0.01686\n",
    "wandb:             train/predict_mrr@50 0.02358\n",
    "wandb:             train/predict_ndcg@1 0.00824\n",
    "wandb:            train/predict_ndcg@10 0.02611\n",
    "wandb:            train/predict_ndcg@20 0.03465\n",
    "wandb:             train/predict_ndcg@5 0.02058\n",
    "wandb:            train/predict_ndcg@50 0.04882\n",
    "wandb:           train/predict_recall@1 0.00824\n",
    "wandb:          train/predict_recall@10 0.04945\n",
    "wandb:          train/predict_recall@20 0.08352\n",
    "wandb:           train/predict_recall@5 0.03187\n",
    "wandb:          train/predict_recall@50 0.15549\n",
    "wandb:            train/predict_runtime 46.6808\n",
    "\"\"\"\n",
    "\n",
    "print(extract_metrics(data))\n"
   ]
  },
  {
   "cell_type": "code",
   "execution_count": 6,
   "metadata": {},
   "outputs": [
    {
     "name": "stdout",
     "output_type": "stream",
     "text": [
      "0.004, 0.023, 0.042, 0.0745, 0.1467, 0.004, 0.0094, 0.0119, 0.014, 0.0162, 0.004, 0.0127, 0.0188, 0.0268, 0.041\n"
     ]
    }
   ],
   "source": [
    "data = \"\"\"\n",
    "wandb:                       train/loss 7.9219\n",
    "wandb:               train/predict_loss 7.78167\n",
    "wandb:              train/predict_mrr@1 0.00397\n",
    "wandb:             train/predict_mrr@10 0.01194\n",
    "wandb:             train/predict_mrr@20 0.014\n",
    "wandb:              train/predict_mrr@5 0.0094\n",
    "wandb:             train/predict_mrr@50 0.01621\n",
    "wandb:             train/predict_ndcg@1 0.00397\n",
    "wandb:            train/predict_ndcg@10 0.01884\n",
    "wandb:            train/predict_ndcg@20 0.02682\n",
    "wandb:             train/predict_ndcg@5 0.01268\n",
    "wandb:            train/predict_ndcg@50 0.04098\n",
    "wandb:           train/predict_recall@1 0.00397\n",
    "wandb:          train/predict_recall@10 0.04203\n",
    "wandb:          train/predict_recall@20 0.07454\n",
    "wandb:           train/predict_recall@5 0.023\n",
    "wandb:          train/predict_recall@50 0.14671\n",
    "wandb:            train/predict_runtime 33.9192\n",
    "wandb: train/predict_samples_per_second 37.177\n",
    "wandb:   train/predict_steps_per_second 4.658\n",
    "wandb:                       train_loss 8.02426\n",
    "wandb:                    train_runtime 1617.2116\n",
    "\"\"\"\n",
    "\n",
    "print(extract_metrics(data))"
   ]
  },
  {
   "cell_type": "markdown",
   "metadata": {},
   "source": [
    "## 交互记录+偏好分析的匹配"
   ]
  },
  {
   "cell_type": "markdown",
   "metadata": {},
   "source": [
    "### filter"
   ]
  },
  {
   "cell_type": "code",
   "execution_count": 4,
   "metadata": {},
   "outputs": [
    {
     "name": "stdout",
     "output_type": "stream",
     "text": [
      "0.0731, 0.1802, 0.2412, 0.306, 0.3868, 0.0731, 0.1109, 0.1191, 0.1236, 0.1262, 0.0731, 0.1281, 0.1478, 0.1643, 0.1803\n"
     ]
    }
   ],
   "source": [
    "# 4 5e-6 1 epoch gas=16\n",
    "\n",
    "data = \"\"\"\n",
    "wandb:                       train/loss 6.8115\n",
    "wandb:               train/predict_loss 6.88039\n",
    "wandb:              train/predict_mrr@1 0.07308\n",
    "wandb:             train/predict_mrr@10 0.11907\n",
    "wandb:             train/predict_mrr@20 0.12359\n",
    "wandb:              train/predict_mrr@5 0.11089\n",
    "wandb:             train/predict_mrr@50 0.12618\n",
    "wandb:             train/predict_ndcg@1 0.07308\n",
    "wandb:            train/predict_ndcg@10 0.14784\n",
    "wandb:            train/predict_ndcg@20 0.16426\n",
    "wandb:             train/predict_ndcg@5 0.12808\n",
    "wandb:            train/predict_ndcg@50 0.18032\n",
    "wandb:           train/predict_recall@1 0.07308\n",
    "wandb:          train/predict_recall@10 0.24121\n",
    "wandb:          train/predict_recall@20 0.30604\n",
    "wandb:           train/predict_recall@5 0.18022\n",
    "wandb:          train/predict_recall@50 0.38681\n",
    "wandb:            train/predict_runtime 123.4255\n",
    "\"\"\"\n",
    "\n",
    "print(extract_metrics(data))"
   ]
  }
 ],
 "metadata": {
  "kernelspec": {
   "display_name": "mfz_trl",
   "language": "python",
   "name": "python3"
  },
  "language_info": {
   "codemirror_mode": {
    "name": "ipython",
    "version": 3
   },
   "file_extension": ".py",
   "mimetype": "text/x-python",
   "name": "python",
   "nbconvert_exporter": "python",
   "pygments_lexer": "ipython3",
   "version": "3.9.21"
  }
 },
 "nbformat": 4,
 "nbformat_minor": 2
}
