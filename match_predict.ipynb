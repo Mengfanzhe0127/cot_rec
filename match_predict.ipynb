{
 "cells": [
  {
   "cell_type": "code",
   "execution_count": 2,
   "metadata": {},
   "outputs": [],
   "source": [
    "import re"
   ]
  },
  {
   "cell_type": "markdown",
   "metadata": {},
   "source": [
    "## 对于predict放到train中的情况"
   ]
  },
  {
   "cell_type": "code",
   "execution_count": 2,
   "metadata": {},
   "outputs": [],
   "source": [
    "def extract_metrics(data: str):\n",
    "    # 解析数据\n",
    "    metrics = {\n",
    "        \"recall\": {},\n",
    "        \"mrr\": {},\n",
    "        \"ndcg\": {}\n",
    "    }\n",
    "    \n",
    "    for line in data.strip().split(\"\\n\"):\n",
    "        match = re.search(r'wandb:\\s+train/predict_(\\w+)@(\\d+)\\s+([\\d.]+)', line)\n",
    "        if match:\n",
    "            metric, k, value = match.groups()\n",
    "            if metric in metrics:\n",
    "                metrics[metric][int(k)] = round(float(value), 4) # 保留小数点后四位\n",
    "    \n",
    "    # 按照 recall 1-50, mrr 1-50, ndcg 1-50 顺序整理\n",
    "    result = []\n",
    "    for metric in [\"recall\", \"mrr\", \"ndcg\"]:\n",
    "        for k in sorted(metrics[metric]):\n",
    "            result.append(str(metrics[metric][k]))\n",
    "    \n",
    "    return \", \".join(result)"
   ]
  },
  {
   "cell_type": "markdown",
   "metadata": {},
   "source": [
    "## predict独立的情况"
   ]
  },
  {
   "cell_type": "code",
   "execution_count": 1,
   "metadata": {},
   "outputs": [],
   "source": [
    "import re\n",
    "\n",
    "def extract_metrics(data: str):\n",
    "    # 解析数据\n",
    "    metrics = {\n",
    "        \"recall\": {},\n",
    "        \"mrr\": {},\n",
    "        \"ndcg\": {}\n",
    "    }\n",
    "    \n",
    "    for line in data.strip().split(\"\\n\"):\n",
    "        match = re.search(r'wandb:\\s+test/(\\w+)@(\\d+)\\s+([\\d.]+)', line)\n",
    "        if match:\n",
    "            metric, k, value = match.groups()\n",
    "            if metric in metrics:\n",
    "                metrics[metric][int(k)] = round(float(value), 4) # 保留小数点后四位\n",
    "    \n",
    "    # 按照 recall 1-50, mrr 1-50, ndcg 1-50 顺序整理\n",
    "    result = []\n",
    "    for metric in [\"recall\", \"mrr\", \"ndcg\"]:\n",
    "        for k in sorted(metrics[metric]):\n",
    "            result.append(str(metrics[metric][k]))\n",
    "    \n",
    "    return \", \".join(result)"
   ]
  },
  {
   "cell_type": "markdown",
   "metadata": {},
   "source": [
    "## filter_user"
   ]
  },
  {
   "cell_type": "code",
   "execution_count": 5,
   "metadata": {},
   "outputs": [
    {
     "data": {
      "text/plain": [
       "'0.0149, 0.0725, 0.1308, 0.2063, 0.3191, 0.0149, 0.0335, 0.0414, 0.0467, 0.0502, 0.0149, 0.043, 0.062, 0.0811, 0.1034'"
      ]
     },
     "execution_count": 5,
     "metadata": {},
     "output_type": "execute_result"
    }
   ],
   "source": [
    "# lr=5e-6, bs=2, num_negative_samples=32, gas=4\n",
    "\n",
    "data = \"\"\"\n",
    "wandb:              train/learning_rate 1e-05\n",
    "wandb:                       train/loss 2.9293\n",
    "wandb:               train/predict_loss 6.83972\n",
    "wandb:              train/predict_mrr@1 0.01495\n",
    "wandb:             train/predict_mrr@10 0.0414\n",
    "wandb:             train/predict_mrr@20 0.04666\n",
    "wandb:              train/predict_mrr@5 0.03346\n",
    "wandb:             train/predict_mrr@50 0.05017\n",
    "wandb:             train/predict_ndcg@1 0.01495\n",
    "wandb:            train/predict_ndcg@10 0.06204\n",
    "wandb:            train/predict_ndcg@20 0.08114\n",
    "wandb:             train/predict_ndcg@5 0.04302\n",
    "wandb:            train/predict_ndcg@50 0.1034\n",
    "wandb:           train/predict_recall@1 0.01495\n",
    "wandb:          train/predict_recall@10 0.13079\n",
    "wandb:          train/predict_recall@20 0.20628\n",
    "wandb:           train/predict_recall@5 0.0725\n",
    "wandb:          train/predict_recall@50 0.31913\n",
    "wandb:            train/predict_runtime 186.5982\n",
    "\"\"\"\n",
    "\n",
    "extract_metrics(data)"
   ]
  },
  {
   "cell_type": "code",
   "execution_count": 7,
   "metadata": {},
   "outputs": [
    {
     "data": {
      "text/plain": [
       "'0.0045, 0.0277, 0.0508, 0.0852, 0.151, 0.0045, 0.0122, 0.0151, 0.0175, 0.0195, 0.0045, 0.016, 0.0233, 0.032, 0.0449'"
      ]
     },
     "execution_count": 7,
     "metadata": {},
     "output_type": "execute_result"
    }
   ],
   "source": [
    "# lr=1e-6, bs=2, num_neg_samples=32, gas=1\n",
    "\n",
    "data = \"\"\"\n",
    "wandb:                test/loss 7.66796                                                                                            \n",
    "wandb:               test/mrr@1 0.00448                                                                                            \n",
    "wandb:              test/mrr@10 0.01512                                                                                            \n",
    "wandb:              test/mrr@20 0.01747                                                                                            \n",
    "wandb:               test/mrr@5 0.01223                                                                                            \n",
    "wandb:              test/mrr@50 0.01949\n",
    "wandb:              test/ndcg@1 0.00448\n",
    "wandb:             test/ndcg@10 0.02331\n",
    "wandb:             test/ndcg@20 0.03196\n",
    "wandb:              test/ndcg@5 0.01603\n",
    "wandb:             test/ndcg@50 0.04488\n",
    "wandb:            test/recall@1 0.00448\n",
    "wandb:           test/recall@10 0.05082\n",
    "wandb:           test/recall@20 0.0852\n",
    "wandb:            test/recall@5 0.02765\n",
    "wandb:           test/recall@50 0.15097\n",
    "\"\"\"\n",
    "\n",
    "extract_metrics(data)\n"
   ]
  },
  {
   "cell_type": "code",
   "execution_count": 5,
   "metadata": {},
   "outputs": [
    {
     "data": {
      "text/plain": [
       "'0.0149, 0.0785, 0.1285, 0.1958, 0.3019, 0.0149, 0.0341, 0.0407, 0.0454, 0.0486, 0.0149, 0.0449, 0.061, 0.0781, 0.0989'"
      ]
     },
     "execution_count": 5,
     "metadata": {},
     "output_type": "execute_result"
    }
   ],
   "source": [
    "# lr=1e-5, bs=2, num_neg_samples=64, gas=8\n",
    "\n",
    "data = \"\"\"\n",
    "wandb:    eval/steps_per_second 1.812\n",
    "wandb:                test/loss 6.92125\n",
    "wandb:               test/mrr@1 0.01495\n",
    "wandb:              test/mrr@10 0.04068\n",
    "wandb:              test/mrr@20 0.0454\n",
    "wandb:               test/mrr@5 0.03413\n",
    "wandb:              test/mrr@50 0.04865\n",
    "wandb:              test/ndcg@1 0.01495\n",
    "wandb:             test/ndcg@10 0.06098\n",
    "wandb:             test/ndcg@20 0.07806\n",
    "wandb:              test/ndcg@5 0.04493\n",
    "wandb:             test/ndcg@50 0.09889\n",
    "wandb:            test/recall@1 0.01495\n",
    "wandb:           test/recall@10 0.12855\n",
    "wandb:           test/recall@20 0.19581\n",
    "wandb:            test/recall@5 0.07848\n",
    "wandb:           test/recall@50 0.30194\n",
    "wandb:             test/runtime 181.0884\n",
    "wandb:  test/samples_per_second 7.389\n",
    "wandb:    test/steps_per_second 1.85\n",
    "wandb:               total_flos 0\n",
    "wandb:              train/epoch 0.99889\n",
    "wandb:        train/global_step 336\n",
    "wandb:          train/grad_norm 8.87292\n",
    "wandb:      train/learning_rate 1e-05\n",
    "wandb:               train/loss 3.9673\n",
    "wandb:               train_loss 3.22661\n",
    "wandb:            train_runtime 17893.3513\n",
    "wandb: train_samples_per_second 0.602\n",
    "wandb:   train_steps_per_second 0.019\n",
    "\"\"\"\n",
    "\n",
    "extract_metrics(data)"
   ]
  },
  {
   "cell_type": "code",
   "execution_count": 7,
   "metadata": {},
   "outputs": [
    {
     "data": {
      "text/plain": [
       "'0.0112, 0.083, 0.136, 0.2145, 0.3303, 0.0112, 0.0352, 0.0423, 0.0477, 0.0513, 0.0112, 0.0469, 0.0642, 0.0838, 0.1067'"
      ]
     },
     "execution_count": 7,
     "metadata": {},
     "output_type": "execute_result"
    }
   ],
   "source": [
    "# lr=5e-6, bs=2, num_neg_samples=64, gas=4\n",
    "\n",
    "data = \"\"\"\n",
    "wandb:                test/loss 6.8446\n",
    "wandb:               test/mrr@1 0.01121\n",
    "wandb:              test/mrr@10 0.04235\n",
    "wandb:              test/mrr@20 0.04766\n",
    "wandb:               test/mrr@5 0.03519\n",
    "wandb:              test/mrr@50 0.05127\n",
    "wandb:              test/ndcg@1 0.01121\n",
    "wandb:             test/ndcg@10 0.06418\n",
    "wandb:             test/ndcg@20 0.08384\n",
    "wandb:              test/ndcg@5 0.04694\n",
    "wandb:             test/ndcg@50 0.10669\n",
    "wandb:            test/recall@1 0.01121\n",
    "wandb:           test/recall@10 0.13602\n",
    "wandb:           test/recall@20 0.2145\n",
    "wandb:            test/recall@5 0.08296\n",
    "wandb:           test/recall@50 0.33034\n",
    "wandb:             test/runtime 202.1424\n",
    "\"\"\"\n",
    "\n",
    "extract_metrics(data)"
   ]
  },
  {
   "cell_type": "code",
   "execution_count": 4,
   "metadata": {},
   "outputs": [
    {
     "data": {
      "text/plain": [
       "'0.0149, 0.0732, 0.133, 0.207, 0.3199, 0.0149, 0.0346, 0.0426, 0.0476, 0.0513, 0.0149, 0.0441, 0.0635, 0.082, 0.1046'"
      ]
     },
     "execution_count": 4,
     "metadata": {},
     "output_type": "execute_result"
    }
   ],
   "source": [
    "# lr=5e-6, bs=2, num_neg_samples=64, gas=8\n",
    "\n",
    "data = \"\"\"\n",
    "wandb:                test/loss 6.82661\n",
    "wandb:               test/mrr@1 0.01495\n",
    "wandb:              test/mrr@10 0.04259\n",
    "wandb:              test/mrr@20 0.04759\n",
    "wandb:               test/mrr@5 0.03457\n",
    "wandb:              test/mrr@50 0.05128\n",
    "wandb:              test/ndcg@1 0.01495\n",
    "wandb:             test/ndcg@10 0.06348\n",
    "wandb:             test/ndcg@20 0.08202\n",
    "wandb:              test/ndcg@5 0.0441\n",
    "wandb:             test/ndcg@50 0.10458\n",
    "wandb:            test/recall@1 0.01495\n",
    "wandb:           test/recall@10 0.13303\n",
    "wandb:           test/recall@20 0.20703\n",
    "wandb:            test/recall@5 0.07324\n",
    "wandb:           test/recall@50 0.31988\n",
    "wandb:             test/runtime 185.6406\n",
    "\"\"\"\n",
    "\n",
    "extract_metrics(data)"
   ]
  },
  {
   "cell_type": "code",
   "execution_count": 6,
   "metadata": {},
   "outputs": [
    {
     "data": {
      "text/plain": [
       "'0.0146, 0.0746, 0.1231, 0.19, 0.2885, 0.0146, 0.0346, 0.041, 0.0454, 0.0486, 0.0146, 0.0445, 0.06, 0.0766, 0.0964'"
      ]
     },
     "execution_count": 6,
     "metadata": {},
     "output_type": "execute_result"
    }
   ],
   "source": [
    "# phi4, lr=5e-6, bs=2, num_neg_samples=32, gas=4\n",
    "\n",
    "data = \"\"\"\n",
    "wandb:                test/loss 6.99885                                                                                                      \n",
    "wandb:               test/mrr@1 0.01462                                                                                                      \n",
    "wandb:              test/mrr@10 0.04098                                                                                                      \n",
    "wandb:              test/mrr@20 0.04536                                                                                                      \n",
    "wandb:               test/mrr@5 0.03463                                                                                                      \n",
    "wandb:              test/mrr@50 0.04861                                                                                                      \n",
    "wandb:              test/ndcg@1 0.01462                                                                                                      \n",
    "wandb:             test/ndcg@10 0.06003                                                                                                      \n",
    "wandb:             test/ndcg@20 0.07661                                                                                                      \n",
    "wandb:              test/ndcg@5 0.04448                                                                                                      \n",
    "wandb:             test/ndcg@50 0.09635                                                                                                      \n",
    "wandb:            test/recall@1 0.01462                                                                                                      \n",
    "wandb:           test/recall@10 0.12308                                                                                                      \n",
    "wandb:           test/recall@20 0.19                                                                                                         \n",
    "wandb:            test/recall@5 0.07462                               \n",
    "wandb:           test/recall@50 0.28846                               \n",
    "wandb:             test/runtime 174.0181                              \n",
    "wandb:  test/samples_per_second 7.47      \n",
    "wandb:    test/steps_per_second 1.868\n",
    "\"\"\"\n",
    "\n",
    "extract_metrics(data)"
   ]
  },
  {
   "cell_type": "code",
   "execution_count": 7,
   "metadata": {},
   "outputs": [
    {
     "data": {
      "text/plain": [
       "'0.0169, 0.0754, 0.1239, 0.21, 0.3315, 0.0169, 0.0364, 0.0427, 0.0489, 0.0527, 0.0169, 0.0459, 0.0615, 0.0835, 0.1076'"
      ]
     },
     "execution_count": 7,
     "metadata": {},
     "output_type": "execute_result"
    }
   ],
   "source": [
    "# qwen 32b标注, lr=5e-6, bs=2, num_neg_samples=32, gas=4\n",
    "\n",
    "data = \"\"\"\n",
    "wandb:                test/loss 6.85888                                                                                                      \n",
    "wandb:               test/mrr@1 0.01692                                                                                                      \n",
    "wandb:              test/mrr@10 0.04271                                                                                                      \n",
    "wandb:              test/mrr@20 0.04886                                                                                                      \n",
    "wandb:               test/mrr@5 0.03637                                                                                                      \n",
    "wandb:              test/mrr@50 0.05271                                                                                                      \n",
    "wandb:              test/ndcg@1 0.01692                                                                                                      \n",
    "wandb:             test/ndcg@10 0.06148\n",
    "wandb:             test/ndcg@20 0.08348\n",
    "wandb:              test/ndcg@5 0.04594\n",
    "wandb:             test/ndcg@50 0.10757\n",
    "wandb:            test/recall@1 0.01692\n",
    "wandb:           test/recall@10 0.12385\n",
    "wandb:           test/recall@20 0.21\n",
    "wandb:            test/recall@5 0.07538\n",
    "wandb:           test/recall@50 0.33154\n",
    "wandb:             test/runtime 250.2515\n",
    "\"\"\"\n",
    "\n",
    "extract_metrics(data)"
   ]
  },
  {
   "cell_type": "code",
   "execution_count": 11,
   "metadata": {},
   "outputs": [
    {
     "data": {
      "text/plain": [
       "'0.0123, 0.0808, 0.1361, 0.2108, 0.3246, 0.0123, 0.0355, 0.0426, 0.0477, 0.0512, 0.0123, 0.0466, 0.0642, 0.083, 0.1053'"
      ]
     },
     "execution_count": 11,
     "metadata": {},
     "output_type": "execute_result"
    }
   ],
   "source": [
    "# gemma标注, lr=5e-6, bs=2, num_neg_samples=32, gas=4\n",
    "\n",
    "data = \"\"\"\n",
    "wandb:                test/loss 6.88364                                                                                                      \n",
    "wandb:               test/mrr@1 0.01231                                                                                                      \n",
    "wandb:              test/mrr@10 0.04258                                                                                                      \n",
    "wandb:              test/mrr@20 0.04772                                                                                                      \n",
    "wandb:               test/mrr@5 0.0355                                                                                                       \n",
    "wandb:              test/mrr@50 0.05117\n",
    "wandb:              test/ndcg@1 0.01231\n",
    "wandb:             test/ndcg@10 0.06422\n",
    "wandb:             test/ndcg@20 0.08303\n",
    "wandb:              test/ndcg@5 0.04663\n",
    "wandb:             test/ndcg@50 0.10532\n",
    "wandb:            test/recall@1 0.01231\n",
    "wandb:           test/recall@10 0.13615\n",
    "wandb:           test/recall@20 0.21077\n",
    "wandb:            test/recall@5 0.08077\n",
    "wandb:           test/recall@50 0.32462\n",
    "wandb:             test/runtime 170.0957\n",
    "\"\"\"\n",
    "\n",
    "extract_metrics(data)"
   ]
  },
  {
   "cell_type": "code",
   "execution_count": 12,
   "metadata": {},
   "outputs": [
    {
     "data": {
      "text/plain": [
       "'0.0169, 0.0738, 0.1292, 0.2008, 0.3208, 0.0169, 0.0352, 0.0424, 0.0473, 0.0512, 0.0169, 0.0447, 0.0623, 0.0804, 0.1043'"
      ]
     },
     "execution_count": 12,
     "metadata": {},
     "output_type": "execute_result"
    }
   ],
   "source": [
    "# lr=5e-6, bs=2, num_neg_samples=32, gas=4\n",
    "\n",
    "data = \"\"\"\n",
    "wandb:                test/loss 6.87585                                                                                                      \n",
    "wandb:               test/mrr@1 0.01692                                                                                                      \n",
    "wandb:              test/mrr@10 0.04237                                                                                                      \n",
    "wandb:              test/mrr@20 0.04733                                                                                                      \n",
    "wandb:               test/mrr@5 0.03524                                                                                                      \n",
    "wandb:              test/mrr@50 0.05123\n",
    "wandb:              test/ndcg@1 0.01692\n",
    "wandb:             test/ndcg@10 0.06233\n",
    "wandb:             test/ndcg@20 0.08042\n",
    "wandb:              test/ndcg@5 0.04468\n",
    "wandb:             test/ndcg@50 0.10435\n",
    "wandb:            test/recall@1 0.01692\n",
    "wandb:           test/recall@10 0.12923\n",
    "wandb:           test/recall@20 0.20077\n",
    "wandb:            test/recall@5 0.07385\n",
    "wandb:           test/recall@50 0.32077\n",
    "wandb:             test/runtime 193.2848\n",
    "\"\"\"\n",
    "\n",
    "extract_metrics(data)"
   ]
  },
  {
   "cell_type": "markdown",
   "metadata": {},
   "source": [
    "## gte-1.5B"
   ]
  },
  {
   "cell_type": "code",
   "execution_count": 3,
   "metadata": {},
   "outputs": [
    {
     "data": {
      "text/plain": [
       "'0.0115, 0.0831, 0.1431, 0.2108, 0.3338, 0.0115, 0.0346, 0.0427, 0.0473, 0.0512, 0.0115, 0.0465, 0.066, 0.083, 0.1074'"
      ]
     },
     "execution_count": 3,
     "metadata": {},
     "output_type": "execute_result"
    }
   ],
   "source": [
    "# lr=5e-6, num_negative_samples=32, bs=16, gas=4, lr_scheduler_type inverse_sqrt, warmup_ratio=0.2, weight_decay=0.001\n",
    "\n",
    "data = \"\"\"\n",
    "wandb:                test/loss 6.84031                                                                                                 \n",
    "wandb:               test/mrr@1 0.01154                                                                                                 \n",
    "wandb:              test/mrr@10 0.04271                                                                                                 \n",
    "wandb:              test/mrr@20 0.04731                                                                                                 \n",
    "wandb:               test/mrr@5 0.03462\n",
    "wandb:              test/mrr@50 0.05125\n",
    "wandb:              test/ndcg@1 0.01154\n",
    "wandb:             test/ndcg@10 0.06599\n",
    "wandb:             test/ndcg@20 0.08299\n",
    "wandb:              test/ndcg@5 0.0465\n",
    "wandb:             test/ndcg@50 0.10744\n",
    "wandb:            test/recall@1 0.01154\n",
    "wandb:           test/recall@10 0.14308\n",
    "wandb:           test/recall@20 0.21077\n",
    "wandb:            test/recall@5 0.08308\n",
    "wandb:           test/recall@50 0.33385\n",
    "wandb:             test/runtime 93.9027\n",
    "\"\"\"\n",
    "\n",
    "extract_metrics(data)"
   ]
  },
  {
   "cell_type": "code",
   "execution_count": 4,
   "metadata": {},
   "outputs": [
    {
     "data": {
      "text/plain": [
       "'0.0131, 0.06, 0.1046, 0.1615, 0.2515, 0.0131, 0.0284, 0.0343, 0.0382, 0.041, 0.0131, 0.0362, 0.0505, 0.0648, 0.0826'"
      ]
     },
     "execution_count": 4,
     "metadata": {},
     "output_type": "execute_result"
    }
   ],
   "source": [
    "# lr=1e-6, constant\n",
    "\n",
    "data = \"\"\"\n",
    "wandb:                test/loss 7.16428                                                                                                 \n",
    "wandb:               test/mrr@1 0.01308                                                                                                 \n",
    "wandb:              test/mrr@10 0.03429                                                                                                 \n",
    "wandb:              test/mrr@20 0.03816                                                                                                 \n",
    "wandb:               test/mrr@5 0.02844\n",
    "wandb:              test/mrr@50 0.041\n",
    "wandb:              test/ndcg@1 0.01308\n",
    "wandb:             test/ndcg@10 0.05051\n",
    "wandb:             test/ndcg@20 0.06481\n",
    "wandb:              test/ndcg@5 0.03618\n",
    "wandb:             test/ndcg@50 0.0826\n",
    "wandb:            test/recall@1 0.01308\n",
    "wandb:           test/recall@10 0.10462\n",
    "wandb:           test/recall@20 0.16154\n",
    "wandb:            test/recall@5 0.06\n",
    "wandb:           test/recall@50 0.25154\n",
    "wandb:             test/runtime 97.4869\n",
    "wandb:  test/samples_per_second 13.335\n",
    "wandb:    test/steps_per_second 0.841\n",
    "wandb:               total_flos 0\n",
    "wandb:              train/epoch 1\n",
    "wandb:        train/global_step 668\n",
    "wandb:          train/grad_norm 22.88761\n",
    "wandb:      train/learning_rate 0.0\n",
    "wandb:               train/loss 2.1781\n",
    "wandb:               train_loss 2.94727\n",
    "wandb:            train_runtime 5248.9053\n",
    "wandb: train_samples_per_second 2.036\n",
    "wandb:   train_steps_per_second 0.127\n",
    "\"\"\"\n",
    "\n",
    "extract_metrics(data)"
   ]
  },
  {
   "cell_type": "code",
   "execution_count": 13,
   "metadata": {},
   "outputs": [
    {
     "data": {
      "text/plain": [
       "'0.0146, 0.0592, 0.1023, 0.1638, 0.2515, 0.0146, 0.0291, 0.0348, 0.039, 0.0418, 0.0146, 0.0365, 0.0503, 0.0658, 0.0832'"
      ]
     },
     "execution_count": 13,
     "metadata": {},
     "output_type": "execute_result"
    }
   ],
   "source": [
    "# lr=1e-6, constant, neg_samples=64\n",
    "\n",
    "data = \"\"\"\n",
    "wandb:                test/loss 7.16127                                                                                                                            \n",
    "wandb:               test/mrr@1 0.01462                                                                                                                            \n",
    "wandb:              test/mrr@10 0.03476                                                                                                                            \n",
    "wandb:              test/mrr@20 0.03896                                          \n",
    "wandb:               test/mrr@5 0.0291                                           \n",
    "wandb:              test/mrr@50 0.04175                                          \n",
    "wandb:              test/ndcg@1 0.01462                                          \n",
    "wandb:             test/ndcg@10 0.05033                                          \n",
    "wandb:             test/ndcg@20 0.06579                                          \n",
    "wandb:              test/ndcg@5 0.03649                                          \n",
    "wandb:             test/ndcg@50 0.08319                                          \n",
    "wandb:            test/recall@1 0.01462                                          \n",
    "wandb:           test/recall@10 0.10231                                          \n",
    "wandb:           test/recall@20 0.16385                                          \n",
    "wandb:            test/recall@5 0.05923                                          \n",
    "wandb:           test/recall@50 0.25154                                          \n",
    "wandb:             test/runtime 61.1096\n",
    "\"\"\"\n",
    "\n",
    "extract_metrics(data)"
   ]
  },
  {
   "cell_type": "code",
   "execution_count": 14,
   "metadata": {},
   "outputs": [
    {
     "data": {
      "text/plain": [
       "'0.0154, 0.06, 0.1108, 0.1631, 0.2569, 0.0154, 0.0303, 0.0369, 0.0405, 0.0435, 0.0154, 0.0377, 0.0538, 0.067, 0.0856'"
      ]
     },
     "execution_count": 14,
     "metadata": {},
     "output_type": "execute_result"
    }
   ],
   "source": [
    "# lr=1e-6, constant, neg_samples=96\n",
    "\n",
    "data = \"\"\"\n",
    "wandb:    eval/steps_per_second 1.608\n",
    "wandb:                test/loss 7.14913\n",
    "wandb:               test/mrr@1 0.01538\n",
    "wandb:              test/mrr@10 0.03686\n",
    "wandb:              test/mrr@20 0.04046\n",
    "wandb:               test/mrr@5 0.03035\n",
    "wandb:              test/mrr@50 0.04345\n",
    "wandb:              test/ndcg@1 0.01538\n",
    "wandb:             test/ndcg@10 0.0538\n",
    "wandb:             test/ndcg@20 0.067\n",
    "wandb:              test/ndcg@5 0.03765\n",
    "wandb:             test/ndcg@50 0.0856\n",
    "wandb:            test/recall@1 0.01538\n",
    "wandb:           test/recall@10 0.11077\n",
    "wandb:           test/recall@20 0.16308\n",
    "wandb:            test/recall@5 0.06\n",
    "wandb:           test/recall@50 0.25692\n",
    "wandb:             test/runtime 50.6674\n",
    "wandb:  test/samples_per_second 25.658\n",
    "\"\"\"\n",
    "\n",
    "extract_metrics(data)"
   ]
  },
  {
   "cell_type": "code",
   "execution_count": 5,
   "metadata": {},
   "outputs": [
    {
     "data": {
      "text/plain": [
       "'0.0162, 0.0846, 0.1392, 0.2069, 0.32, 0.0162, 0.0382, 0.0456, 0.0502, 0.0539, 0.0162, 0.0496, 0.0673, 0.0843, 0.1069'"
      ]
     },
     "execution_count": 5,
     "metadata": {},
     "output_type": "execute_result"
    }
   ],
   "source": [
    "# lr=5e-6, num_negative_samples=128, bs=8, gas=4, lr_scheduler_type inverse_sqrt, warmup_ratio=0.2, weight_decay=0.001\n",
    "\n",
    "data = \"\"\"\n",
    "wandb:                test/loss 6.84322\n",
    "wandb:               test/mrr@1 0.01615\n",
    "wandb:              test/mrr@10 0.04557\n",
    "wandb:              test/mrr@20 0.05019\n",
    "wandb:               test/mrr@5 0.03821\n",
    "wandb:              test/mrr@50 0.05389\n",
    "wandb:              test/ndcg@1 0.01615\n",
    "wandb:             test/ndcg@10 0.0673\n",
    "wandb:             test/ndcg@20 0.08432\n",
    "wandb:              test/ndcg@5 0.04957\n",
    "wandb:             test/ndcg@50 0.10692\n",
    "wandb:            test/recall@1 0.01615\n",
    "wandb:           test/recall@10 0.13923\n",
    "wandb:           test/recall@20 0.20692\n",
    "wandb:            test/recall@5 0.08462\n",
    "wandb:           test/recall@50 0.32\n",
    "wandb:             test/runtime 106.6008\n",
    "wandb:  test/samples_per_second 12.195\n",
    "wandb:    test/steps_per_second 0.769\n",
    "wandb:               total_flos 0\n",
    "wandb:              train/epoch 1\n",
    "wandb:        train/global_step 167\n",
    "wandb:          train/grad_norm 15.56251\n",
    "wandb:      train/learning_rate 0.0\n",
    "wandb:               train/loss 3.6105\n",
    "wandb:               train_loss 3.93329\n",
    "wandb:            train_runtime 8192.4939\n",
    "wandb: train_samples_per_second 1.304\n",
    "wandb:   train_steps_per_second 0.02\n",
    "\"\"\"\n",
    "\n",
    "extract_metrics(data)"
   ]
  },
  {
   "cell_type": "code",
   "execution_count": 8,
   "metadata": {},
   "outputs": [
    {
     "data": {
      "text/plain": [
       "'0.0131, 0.0815, 0.1308, 0.1961, 0.3192, 0.0131, 0.0361, 0.0427, 0.0471, 0.051, 0.0131, 0.0473, 0.0632, 0.0796, 0.104'"
      ]
     },
     "execution_count": 8,
     "metadata": {},
     "output_type": "execute_result"
    }
   ],
   "source": [
    "# lr=5e-6, num_negative_samples=96, bs=8, gas=8, lr_scheduler_type cosine_with_min_lr, warmup_ratio=0.3, weight_decay=0.001, min_lr=1e-7, max_grad_norm=0.5\n",
    "\n",
    "data = \"\"\"\n",
    "wandb:                test/loss 6.87735                                                                                                      \n",
    "wandb:               test/mrr@1 0.01308                                                                                                      \n",
    "wandb:              test/mrr@10 0.0427                                                                                                       \n",
    "wandb:              test/mrr@20 0.04713                                                                                                      \n",
    "wandb:               test/mrr@5 0.03609                                                                                                      \n",
    "wandb:              test/mrr@50 0.05105\n",
    "wandb:              test/ndcg@1 0.01308\n",
    "wandb:             test/ndcg@10 0.06321\n",
    "wandb:             test/ndcg@20 0.07961\n",
    "wandb:              test/ndcg@5 0.04725\n",
    "wandb:             test/ndcg@50 0.10402\n",
    "wandb:            test/recall@1 0.01308\n",
    "wandb:           test/recall@10 0.13077\n",
    "wandb:           test/recall@20 0.19615\n",
    "wandb:            test/recall@5 0.08154\n",
    "wandb:           test/recall@50 0.31923\n",
    "wandb:             test/runtime 138.3797\n",
    "\"\"\"\n",
    "\n",
    "extract_metrics(data)"
   ]
  },
  {
   "cell_type": "code",
   "execution_count": 10,
   "metadata": {},
   "outputs": [
    {
     "data": {
      "text/plain": [
       "'0.0138, 0.0831, 0.1338, 0.2031, 0.3323, 0.0138, 0.0379, 0.0444, 0.0492, 0.0533, 0.0138, 0.049, 0.0652, 0.0827, 0.1083'"
      ]
     },
     "execution_count": 10,
     "metadata": {},
     "output_type": "execute_result"
    }
   ],
   "source": [
    "# lr=5e-6, num_negative_samples=96, bs=8, gas=8, lr_scheduler_type cosine_with_restarts（两次）, warmup_ratio=0.1, weight_decay=0.01, max_grad_norm=0.5\n",
    "\n",
    "data = \"\"\"\n",
    "wandb:                test/loss 6.87788                                                                                                      \n",
    "wandb:               test/mrr@1 0.01385                                                                                                      \n",
    "wandb:              test/mrr@10 0.04439                                                                                                      \n",
    "wandb:              test/mrr@20 0.04922\n",
    "wandb:               test/mrr@5 0.03785\n",
    "wandb:              test/mrr@50 0.05327\n",
    "wandb:              test/ndcg@1 0.01385\n",
    "wandb:             test/ndcg@10 0.06521\n",
    "wandb:             test/ndcg@20 0.08274\n",
    "wandb:              test/ndcg@5 0.04902\n",
    "wandb:             test/ndcg@50 0.10827\n",
    "wandb:            test/recall@1 0.01385\n",
    "wandb:           test/recall@10 0.13385\n",
    "wandb:           test/recall@20 0.20308\n",
    "wandb:            test/recall@5 0.08308\n",
    "wandb:           test/recall@50 0.33231\n",
    "\"\"\"\n",
    "\n",
    "extract_metrics(data)"
   ]
  },
  {
   "cell_type": "markdown",
   "metadata": {},
   "source": [
    "## like和dislike放在一起"
   ]
  },
  {
   "cell_type": "code",
   "execution_count": 3,
   "metadata": {},
   "outputs": [
    {
     "data": {
      "text/plain": [
       "'0.0135, 0.0867, 0.1517, 0.2167, 0.3244, 0.0135, 0.0364, 0.0448, 0.0491, 0.0524, 0.0135, 0.0487, 0.0694, 0.0856, 0.1068'"
      ]
     },
     "execution_count": 3,
     "metadata": {},
     "output_type": "execute_result"
    }
   ],
   "source": [
    "# lr=5e-6, bs=2, num_neg_samples=32, gas=4，文本内有like/dislike划分\n",
    "\n",
    "data = \"\"\"\n",
    "wandb:                test/loss 6.80229                                                                                                 \n",
    "wandb:               test/mrr@1 0.01345                                                                                                 \n",
    "wandb:              test/mrr@10 0.0448                                                                                                  \n",
    "wandb:              test/mrr@20 0.04907                                                                                                 \n",
    "wandb:               test/mrr@5 0.03637                                                                                                 \n",
    "wandb:              test/mrr@50 0.05244                                                                                                 \n",
    "wandb:              test/ndcg@1 0.01345\n",
    "wandb:             test/ndcg@10 0.06944\n",
    "wandb:             test/ndcg@20 0.08558\n",
    "wandb:              test/ndcg@5 0.04866\n",
    "wandb:             test/ndcg@50 0.10683\n",
    "wandb:            test/recall@1 0.01345\n",
    "wandb:           test/recall@10 0.15172\n",
    "wandb:           test/recall@20 0.21674\n",
    "wandb:            test/recall@5 0.0867\n",
    "wandb:           test/recall@50 0.32436\n",
    "\"\"\"\n",
    "\n",
    "extract_metrics(data)"
   ]
  },
  {
   "cell_type": "code",
   "execution_count": 3,
   "metadata": {},
   "outputs": [
    {
     "data": {
      "text/plain": [
       "'0.0112, 0.0844, 0.13, 0.207, 0.3273, 0.0112, 0.0344, 0.0403, 0.0456, 0.0494, 0.0112, 0.0466, 0.0612, 0.0807, 0.1045'"
      ]
     },
     "execution_count": 3,
     "metadata": {},
     "output_type": "execute_result"
    }
   ],
   "source": [
    "# lr=5e-6, bs=2, num_neg_samples=32, gas=4，文本内有like/dislike划分，第二次测试\n",
    "\n",
    "data = \"\"\"\n",
    "wandb:                test/loss 6.84522\n",
    "wandb:               test/mrr@1 0.01121\n",
    "wandb:              test/mrr@10 0.04025\n",
    "wandb:              test/mrr@20 0.04564\n",
    "wandb:               test/mrr@5 0.03438\n",
    "wandb:              test/mrr@50 0.04941\n",
    "wandb:              test/ndcg@1 0.01121\n",
    "wandb:             test/ndcg@10 0.06116\n",
    "wandb:             test/ndcg@20 0.08068\n",
    "wandb:              test/ndcg@5 0.04663\n",
    "wandb:             test/ndcg@50 0.10445\n",
    "wandb:            test/recall@1 0.01121\n",
    "wandb:           test/recall@10 0.13004\n",
    "wandb:           test/recall@20 0.20703\n",
    "wandb:            test/recall@5 0.08445\n",
    "wandb:           test/recall@50 0.32735\n",
    "\"\"\"\n",
    "\n",
    "extract_metrics(data)\n"
   ]
  },
  {
   "cell_type": "code",
   "execution_count": 6,
   "metadata": {},
   "outputs": [
    {
     "data": {
      "text/plain": [
       "'0.0105, 0.0755, 0.1398, 0.2093, 0.3259, 0.0105, 0.0314, 0.04, 0.0449, 0.0485, 0.0105, 0.0422, 0.063, 0.0806, 0.1037'"
      ]
     },
     "execution_count": 6,
     "metadata": {},
     "output_type": "execute_result"
    }
   ],
   "source": [
    "# lr=5e-6, bs=2, num_neg_samples=32, gas=4，文本内有like/dislike划分，第三次测试\n",
    "\n",
    "data = \"\"\"\n",
    "wandb:               test/mrr@1 0.01046\n",
    "wandb:              test/mrr@10 0.04002\n",
    "wandb:              test/mrr@20 0.04486\n",
    "wandb:               test/mrr@5 0.03137\n",
    "wandb:              test/mrr@50 0.04851\n",
    "wandb:              test/ndcg@1 0.01046\n",
    "wandb:             test/ndcg@10 0.06304\n",
    "wandb:             test/ndcg@20 0.08063\n",
    "wandb:              test/ndcg@5 0.04218\n",
    "wandb:             test/ndcg@50 0.10367\n",
    "wandb:            test/recall@1 0.01046\n",
    "wandb:           test/recall@10 0.13976\n",
    "wandb:           test/recall@20 0.20927\n",
    "wandb:            test/recall@5 0.07549\n",
    "wandb:           test/recall@50 0.32586\n",
    "\"\"\"\n",
    "\n",
    "extract_metrics(data)"
   ]
  },
  {
   "cell_type": "code",
   "execution_count": 5,
   "metadata": {},
   "outputs": [
    {
     "data": {
      "text/plain": [
       "'0.009, 0.0643, 0.1241, 0.204, 0.3102, 0.009, 0.0284, 0.0364, 0.0418, 0.0452, 0.009, 0.0372, 0.0566, 0.0766, 0.0978'"
      ]
     },
     "execution_count": 5,
     "metadata": {},
     "output_type": "execute_result"
    }
   ],
   "source": [
    "# lr=5e-6, bs=2, num_neg_samples=32, gas=4，文本内无like/dislike，只有movies和attributes（分别包含like和dislike的数据）\n",
    "\n",
    "data = \"\"\"\n",
    "wandb:                test/loss 6.94579\n",
    "wandb:               test/mrr@1 0.00897\n",
    "wandb:              test/mrr@10 0.03635\n",
    "wandb:              test/mrr@20 0.04176\n",
    "wandb:               test/mrr@5 0.02835\n",
    "wandb:              test/mrr@50 0.04521\n",
    "wandb:              test/ndcg@1 0.00897\n",
    "wandb:             test/ndcg@10 0.05659\n",
    "wandb:             test/ndcg@20 0.07663\n",
    "wandb:              test/ndcg@5 0.03724\n",
    "wandb:             test/ndcg@50 0.09782\n",
    "wandb:            test/recall@1 0.00897\n",
    "wandb:           test/recall@10 0.12407\n",
    "wandb:           test/recall@20 0.20404\n",
    "wandb:            test/recall@5 0.06428\n",
    "wandb:           test/recall@50 0.31016\n",
    "wandb:             test/runtime 111.0837\n",
    "wandb:  test/samples_per_second 12.045\n",
    "\"\"\"\n",
    "\n",
    "extract_metrics(data)"
   ]
  },
  {
   "cell_type": "markdown",
   "metadata": {},
   "source": [
    "## 7b生成数据测试"
   ]
  },
  {
   "cell_type": "code",
   "execution_count": 4,
   "metadata": {},
   "outputs": [
    {
     "data": {
      "text/plain": [
       "'0.0158, 0.0709, 0.1207, 0.1902, 0.286, 0.0158, 0.0336, 0.0402, 0.0449, 0.0479, 0.0158, 0.0427, 0.0588, 0.0762, 0.0952'"
      ]
     },
     "execution_count": 4,
     "metadata": {},
     "output_type": "execute_result"
    }
   ],
   "source": [
    "# lr=5e-6, bs=2, num_neg_samples=32, gas=4，原版qwen 7b产生\n",
    "\n",
    "data = \"\"\"\n",
    "wandb:                test/loss 6.98243                                                                                                 \n",
    "wandb:               test/mrr@1 0.01585                                                                                                 \n",
    "wandb:              test/mrr@10 0.04021                                                                                                 \n",
    "wandb:              test/mrr@20 0.04491                                                                                                 \n",
    "wandb:               test/mrr@5 0.03361                                                                                                 \n",
    "wandb:              test/mrr@50 0.04795                                                                                                 \n",
    "wandb:              test/ndcg@1 0.01585                                                                                                 \n",
    "wandb:             test/ndcg@10 0.05879                                                                                                 \n",
    "wandb:             test/ndcg@20 0.0762                                                                                                  \n",
    "wandb:              test/ndcg@5 0.04273                                                                                                 \n",
    "wandb:             test/ndcg@50 0.09517                                                                                                 \n",
    "wandb:            test/recall@1 0.01585                                                                                                 \n",
    "wandb:           test/recall@10 0.12075                                                                                                 \n",
    "wandb:           test/recall@20 0.19019                                                                                                 \n",
    "wandb:            test/recall@5 0.07094                                                                                                 \n",
    "wandb:           test/recall@50 0.28604                                                                                                 \n",
    "wandb:             test/runtime 288.4573\n",
    "\"\"\"\n",
    "\n",
    "extract_metrics(data)"
   ]
  },
  {
   "cell_type": "code",
   "execution_count": 3,
   "metadata": {},
   "outputs": [
    {
     "data": {
      "text/plain": [
       "'0.0143, 0.0543, 0.0951, 0.1517, 0.2483, 0.0143, 0.0272, 0.0324, 0.0364, 0.0395, 0.0143, 0.0338, 0.0468, 0.0612, 0.0804'"
      ]
     },
     "execution_count": 3,
     "metadata": {},
     "output_type": "execute_result"
    }
   ],
   "source": [
    "# lr=5e-6, bs=2, num_neg_samples=32, gas=4，使用7b生成的valid/test\n",
    "\n",
    "data = \"\"\"\n",
    "wandb:    eval/steps_per_second 1.641\n",
    "wandb:                test/loss 7.13416\n",
    "wandb:               test/mrr@1 0.01434\n",
    "wandb:              test/mrr@10 0.03241\n",
    "wandb:              test/mrr@20 0.03643\n",
    "wandb:               test/mrr@5 0.02721\n",
    "wandb:              test/mrr@50 0.03949\n",
    "wandb:              test/ndcg@1 0.01434\n",
    "wandb:             test/ndcg@10 0.04679\n",
    "wandb:             test/ndcg@20 0.06122\n",
    "wandb:              test/ndcg@5 0.03385\n",
    "wandb:             test/ndcg@50 0.08036\n",
    "wandb:            test/recall@1 0.01434\n",
    "wandb:           test/recall@10 0.09509\n",
    "wandb:           test/recall@20 0.1517\n",
    "wandb:            test/recall@5 0.05434\n",
    "wandb:           test/recall@50 0.2483\n",
    "wandb:             test/runtime 210.0132\n",
    "\"\"\"\n",
    "\n",
    "extract_metrics(data)"
   ]
  },
  {
   "cell_type": "code",
   "execution_count": 7,
   "metadata": {},
   "outputs": [
    {
     "data": {
      "text/plain": [
       "'0.0124, 0.0667, 0.1209, 0.1938, 0.3248, 0.0124, 0.0311, 0.0384, 0.0434, 0.0475, 0.0124, 0.0399, 0.0575, 0.0758, 0.1017'"
      ]
     },
     "execution_count": 7,
     "metadata": {},
     "output_type": "execute_result"
    }
   ],
   "source": [
    "# lr=5e-6, bs=2, num_neg_samples=32, gas=4，使用SFT后7b生成的valid/test\n",
    "\n",
    "data = \"\"\"\n",
    "wandb:               test/mrr@1 0.0124                                                                                                     \n",
    "wandb:              test/mrr@10 0.03844                                                                                                    \n",
    "wandb:              test/mrr@20 0.04339                                                                                                    \n",
    "wandb:               test/mrr@5 0.03112                                                                                                    \n",
    "wandb:              test/mrr@50 0.04751                                                                                                    \n",
    "wandb:              test/ndcg@1 0.0124\n",
    "wandb:             test/ndcg@10 0.05753\n",
    "wandb:             test/ndcg@20 0.07583\n",
    "wandb:              test/ndcg@5 0.03992\n",
    "wandb:             test/ndcg@50 0.10174\n",
    "wandb:            test/recall@1 0.0124\n",
    "wandb:           test/recall@10 0.12093\n",
    "wandb:           test/recall@20 0.1938\n",
    "wandb:            test/recall@5 0.06667\n",
    "wandb:           test/recall@50 0.32481\n",
    "wandb:             test/runtime 215.5864\n",
    "\"\"\"\n",
    "\n",
    "extract_metrics(data)"
   ]
  },
  {
   "cell_type": "code",
   "execution_count": 10,
   "metadata": {},
   "outputs": [
    {
     "data": {
      "text/plain": [
       "'0.0093, 0.0736, 0.1217, 0.193, 0.314, 0.0093, 0.0319, 0.0382, 0.0432, 0.047, 0.0093, 0.0422, 0.0576, 0.0758, 0.0997'"
      ]
     },
     "execution_count": 10,
     "metadata": {},
     "output_type": "execute_result"
    }
   ],
   "source": [
    "# lr=5e-6, bs=2, num_neg_samples=32, gas=4，使用SFT后7b生成的valid/test，movie_info使用qwen-32b得到的\n",
    "\n",
    "data = \"\"\"\n",
    "wandb:                test/loss 6.91795                                                                                                    \n",
    "wandb:               test/mrr@1 0.0093                                                                                                     \n",
    "wandb:              test/mrr@10 0.0382                                                                                                     \n",
    "wandb:              test/mrr@20 0.04322                                                                                                    \n",
    "wandb:               test/mrr@5 0.03189                                                                                                    \n",
    "wandb:              test/mrr@50 0.04702                                                                                                    \n",
    "wandb:              test/ndcg@1 0.0093                                                                                                     \n",
    "wandb:             test/ndcg@10 0.05765                                                                                                    \n",
    "wandb:             test/ndcg@20 0.07576\n",
    "wandb:              test/ndcg@5 0.04221\n",
    "wandb:             test/ndcg@50 0.09967\n",
    "wandb:            test/recall@1 0.0093\n",
    "wandb:           test/recall@10 0.12171\n",
    "wandb:           test/recall@20 0.19302\n",
    "wandb:            test/recall@5 0.07364\n",
    "wandb:           test/recall@50 0.31395\n",
    "\"\"\"\n",
    "\n",
    "extract_metrics(data)"
   ]
  },
  {
   "cell_type": "code",
   "execution_count": 3,
   "metadata": {},
   "outputs": [
    {
     "data": {
      "text/plain": [
       "'0.0128, 0.0715, 0.1347, 0.1896, 0.3047, 0.0128, 0.0318, 0.0399, 0.0437, 0.0473, 0.0128, 0.0415, 0.0616, 0.0755, 0.0983'"
      ]
     },
     "execution_count": 3,
     "metadata": {},
     "output_type": "execute_result"
    }
   ],
   "source": [
    "# 7b sample-3 SFT\n",
    "\n",
    "data = \"\"\"\n",
    "wandb:               test/mrr@1 0.01279                                                                                                        \n",
    "wandb:              test/mrr@10 0.0399                                                                                                         \n",
    "wandb:              test/mrr@20 0.04373                                                                                                        \n",
    "wandb:               test/mrr@5 0.0318                                                                                                         \n",
    "wandb:              test/mrr@50 0.04734                                                                                                        \n",
    "wandb:              test/ndcg@1 0.01279\n",
    "wandb:             test/ndcg@10 0.06162\n",
    "wandb:             test/ndcg@20 0.07554\n",
    "wandb:              test/ndcg@5 0.04153\n",
    "wandb:             test/ndcg@50 0.09828\n",
    "wandb:            test/recall@1 0.01279\n",
    "wandb:           test/recall@10 0.13469\n",
    "wandb:           test/recall@20 0.18962\n",
    "wandb:            test/recall@5 0.07148\n",
    "wandb:           test/recall@50 0.30474\n",
    "\"\"\"\n",
    "\n",
    "extract_metrics(data)"
   ]
  },
  {
   "cell_type": "code",
   "execution_count": 3,
   "metadata": {},
   "outputs": [
    {
     "data": {
      "text/plain": [
       "'0.0181, 0.0738, 0.1243, 0.1763, 0.2962, 0.0181, 0.035, 0.0419, 0.0456, 0.0493, 0.0181, 0.0445, 0.061, 0.0741, 0.0977'"
      ]
     },
     "execution_count": 3,
     "metadata": {},
     "output_type": "execute_result"
    }
   ],
   "source": [
    "# 7b sample-5 0.2 top1 train/valid/test\n",
    "\n",
    "data = \"\"\"\n",
    "wandb:               test/mrr@1 0.01809                                                                                                   \n",
    "wandb:              test/mrr@10 0.04193                                                                                                   \n",
    "wandb:              test/mrr@20 0.04557                                                                                                   \n",
    "wandb:               test/mrr@5 0.03505                                                                                                   \n",
    "wandb:              test/mrr@50 0.04927                                                                                                   \n",
    "wandb:              test/ndcg@1 0.01809                                                                                                   \n",
    "wandb:             test/ndcg@10 0.06096                                                                                                   \n",
    "wandb:             test/ndcg@20 0.07415                                                                                                   \n",
    "wandb:              test/ndcg@5 0.04449                                                                                                   \n",
    "wandb:             test/ndcg@50 0.09771                                                                                                   \n",
    "wandb:            test/recall@1 0.01809\n",
    "wandb:           test/recall@10 0.12434\n",
    "wandb:           test/recall@20 0.17634\n",
    "wandb:            test/recall@5 0.07385\n",
    "wandb:           test/recall@50 0.29616\n",
    "\"\"\"\n",
    "\n",
    "extract_metrics(data)"
   ]
  },
  {
   "cell_type": "code",
   "execution_count": 2,
   "metadata": {},
   "outputs": [
    {
     "data": {
      "text/plain": [
       "'0.0135, 0.0632, 0.1165, 0.1812, 0.2895, 0.0135, 0.0302, 0.0369, 0.0413, 0.0447, 0.0135, 0.0383, 0.0551, 0.0714, 0.0928'"
      ]
     },
     "execution_count": 2,
     "metadata": {},
     "output_type": "execute_result"
    }
   ],
   "source": [
    "# 7b sample-5 0.2 all train/valid/test\n",
    "\n",
    "data = \"\"\"\n",
    "wandb:                test/loss 6.97289                                                                                                              \n",
    "wandb:               test/mrr@1 0.01353                                                                                                              \n",
    "wandb:              test/mrr@10 0.03687                                                                                                              \n",
    "wandb:              test/mrr@20 0.04133                                                                                                              \n",
    "wandb:               test/mrr@5 0.03018                                                                                                              \n",
    "wandb:              test/mrr@50 0.04469                                                                                                              \n",
    "wandb:              test/ndcg@1 0.01353                                                                                                              \n",
    "wandb:             test/ndcg@10 0.05512                                                                                                              \n",
    "wandb:             test/ndcg@20 0.07143                                                                                                              \n",
    "wandb:              test/ndcg@5 0.03829                                                                                                              \n",
    "wandb:             test/ndcg@50 0.09276                                                                                                              \n",
    "wandb:            test/recall@1 0.01353                                                                                                              \n",
    "wandb:           test/recall@10 0.11654                                                                                                              \n",
    "wandb:           test/recall@20 0.1812                                                                                                               \n",
    "wandb:            test/recall@5 0.06316                                                                                                              \n",
    "wandb:           test/recall@50 0.28947\n",
    "wandb:             test/runtime 184.0131\n",
    "\"\"\"\n",
    "\n",
    "extract_metrics(data)"
   ]
  },
  {
   "cell_type": "code",
   "execution_count": 5,
   "metadata": {},
   "outputs": [
    {
     "data": {
      "text/plain": [
       "'0.0135, 0.0703, 0.136, 0.2033, 0.3199, 0.0135, 0.0313, 0.0399, 0.0445, 0.0481, 0.0135, 0.0408, 0.0619, 0.0789, 0.1019'"
      ]
     },
     "execution_count": 5,
     "metadata": {},
     "output_type": "execute_result"
    }
   ],
   "source": [
    "# 7b sample-3 train/valid/test preference\n",
    "\n",
    "data = \"\"\"\n",
    "wandb:                test/loss 6.8618                                                                                                        \n",
    "wandb:               test/mrr@1 0.01345                                                                                                       \n",
    "wandb:              test/mrr@10 0.03988                                                                                                       \n",
    "wandb:              test/mrr@20 0.0445                                                                                                        \n",
    "wandb:               test/mrr@5 0.0313                                                                                                        \n",
    "wandb:              test/mrr@50 0.04815                                                                                                       \n",
    "wandb:              test/ndcg@1 0.01345                                                                                                       \n",
    "wandb:             test/ndcg@10 0.0619                                                                                                        \n",
    "wandb:             test/ndcg@20 0.07885                                                                                                       \n",
    "wandb:              test/ndcg@5 0.04084                                                                                                       \n",
    "wandb:             test/ndcg@50 0.10188                                                                                                       \n",
    "wandb:            test/recall@1 0.01345                                                                                                       \n",
    "wandb:           test/recall@10 0.13602                                                                                                       \n",
    "wandb:           test/recall@20 0.20329                                                                                                       \n",
    "wandb:            test/recall@5 0.07025                                                                                                       \n",
    "wandb:           test/recall@50 0.31988\n",
    "\"\"\"\n",
    "\n",
    "extract_metrics(data)"
   ]
  },
  {
   "cell_type": "code",
   "execution_count": 7,
   "metadata": {},
   "outputs": [
    {
     "data": {
      "text/plain": [
       "'0.0142, 0.0695, 0.1196, 0.1988, 0.3184, 0.0142, 0.0327, 0.039, 0.0443, 0.048, 0.0142, 0.0418, 0.0576, 0.0774, 0.1008'"
      ]
     },
     "execution_count": 7,
     "metadata": {},
     "output_type": "execute_result"
    }
   ],
   "source": [
    "# 7b all 5 top1 train/valid/test preference\n",
    "\n",
    "data = \"\"\"\n",
    "wandb:                test/loss 6.91557                                                                                                       \n",
    "wandb:               test/mrr@1 0.0142                                                                                                        \n",
    "wandb:              test/mrr@10 0.03902                                                                                                       \n",
    "wandb:              test/mrr@20 0.04434                                                                                                       \n",
    "wandb:               test/mrr@5 0.03271                                                                                                       \n",
    "wandb:              test/mrr@50 0.048                                                                                                         \n",
    "wandb:              test/ndcg@1 0.0142                                                                                                        \n",
    "wandb:             test/ndcg@10 0.05758\n",
    "wandb:             test/ndcg@20 0.07738\n",
    "wandb:              test/ndcg@5 0.04175\n",
    "wandb:             test/ndcg@50 0.10083\n",
    "wandb:            test/recall@1 0.0142\n",
    "wandb:           test/recall@10 0.11958\n",
    "wandb:           test/recall@20 0.1988\n",
    "wandb:            test/recall@5 0.06951\n",
    "wandb:           test/recall@50 0.31839\n",
    "\"\"\"\n",
    "\n",
    "extract_metrics(data)"
   ]
  },
  {
   "cell_type": "code",
   "execution_count": 8,
   "metadata": {},
   "outputs": [
    {
     "data": {
      "text/plain": [
       "'0.0105, 0.0747, 0.13, 0.2048, 0.3154, 0.0105, 0.0312, 0.0385, 0.0438, 0.0473, 0.0105, 0.0419, 0.0597, 0.0787, 0.1007'"
      ]
     },
     "execution_count": 8,
     "metadata": {},
     "output_type": "execute_result"
    }
   ],
   "source": [
    "# 7b all 5 top1 train/valid/test preference\n",
    "\n",
    "data = \"\"\"\n",
    "wandb:                test/loss 6.86643                                                                                                       \n",
    "wandb:               test/mrr@1 0.01046                                                                                                       \n",
    "wandb:              test/mrr@10 0.03849                                                                                                       \n",
    "wandb:              test/mrr@20 0.04376                                                                                                       \n",
    "wandb:               test/mrr@5 0.0312                                                                                                        \n",
    "wandb:              test/mrr@50 0.04733                                                                                                       \n",
    "wandb:              test/ndcg@1 0.01046                                                                                                       \n",
    "wandb:             test/ndcg@10 0.05967                                                                                                       \n",
    "wandb:             test/ndcg@20 0.07868                                                                                                       \n",
    "wandb:              test/ndcg@5 0.04189\n",
    "wandb:             test/ndcg@50 0.10069\n",
    "wandb:            test/recall@1 0.01046\n",
    "wandb:           test/recall@10 0.13004\n",
    "wandb:           test/recall@20 0.20478\n",
    "wandb:            test/recall@5 0.07474\n",
    "wandb:           test/recall@50 0.3154\n",
    "wandb:             test/runtime 94.3323\n",
    "\"\"\"\n",
    "\n",
    "extract_metrics(data)"
   ]
  },
  {
   "cell_type": "code",
   "execution_count": 4,
   "metadata": {},
   "outputs": [
    {
     "data": {
      "text/plain": [
       "'0.0121, 0.0701, 0.1161, 0.1839, 0.2999, 0.0121, 0.0316, 0.0377, 0.0424, 0.0461, 0.0121, 0.0411, 0.0559, 0.073, 0.0962'"
      ]
     },
     "execution_count": 4,
     "metadata": {},
     "output_type": "execute_result"
    }
   ],
   "source": [
    "# 7b all 5 top1 0.3 train/valid/test\n",
    "\n",
    "data = \"\"\"\n",
    "wandb:                test/loss 7.01601                                                                                                    \n",
    "wandb:               test/mrr@1 0.01206                                                                                                    \n",
    "wandb:              test/mrr@10 0.03766                                                                                                    \n",
    "wandb:              test/mrr@20 0.04237                                                                                                    \n",
    "wandb:               test/mrr@5 0.03161                                                                                                    \n",
    "wandb:              test/mrr@50 0.04615                                                                                                    \n",
    "wandb:              test/ndcg@1 0.01206\n",
    "wandb:             test/ndcg@10 0.05586\n",
    "wandb:             test/ndcg@20 0.07302\n",
    "wandb:              test/ndcg@5 0.04108\n",
    "wandb:             test/ndcg@50 0.09619\n",
    "wandb:            test/recall@1 0.01206\n",
    "wandb:           test/recall@10 0.11605\n",
    "wandb:           test/recall@20 0.18387\n",
    "wandb:            test/recall@5 0.07008\n",
    "wandb:           test/recall@50 0.29992\n",
    "wandb:             test/runtime 178.2775\n",
    "\"\"\"\n",
    "\n",
    "extract_metrics(data)"
   ]
  },
  {
   "cell_type": "code",
   "execution_count": 5,
   "metadata": {},
   "outputs": [
    {
     "data": {
      "text/plain": [
       "'0.0164, 0.0852, 0.1383, 0.2063, 0.3214, 0.0164, 0.0395, 0.0466, 0.0513, 0.0549, 0.0164, 0.0508, 0.0679, 0.0851, 0.1078'"
      ]
     },
     "execution_count": 5,
     "metadata": {},
     "output_type": "execute_result"
    }
   ],
   "source": [
    "# 7b all 5 top1 0.3 train/valid/test preference\n",
    "\n",
    "data = \"\"\"\n",
    "wandb:                test/loss 6.83485                                                                                                    \n",
    "wandb:               test/mrr@1 0.01644                                                                                                    \n",
    "wandb:              test/mrr@10 0.04657                                                                                                    \n",
    "wandb:              test/mrr@20 0.05129                                                                                                    \n",
    "wandb:               test/mrr@5 0.03954                                                                                                    \n",
    "wandb:              test/mrr@50 0.0549                                                                                                     \n",
    "wandb:              test/ndcg@1 0.01644                                                                                                    \n",
    "wandb:             test/ndcg@10 0.0679                                                                                                     \n",
    "wandb:             test/ndcg@20 0.0851                                                                                                     \n",
    "wandb:              test/ndcg@5 0.05079                                                                                                    \n",
    "wandb:             test/ndcg@50 0.10784                                                                                                    \n",
    "wandb:            test/recall@1 0.01644                                                                                                    \n",
    "wandb:           test/recall@10 0.13827                                                                                                    \n",
    "wandb:           test/recall@20 0.20628                                                                                                    \n",
    "wandb:            test/recall@5 0.0852\n",
    "wandb:           test/recall@50 0.32138\n",
    "\"\"\"\n",
    "\n",
    "extract_metrics(data)"
   ]
  },
  {
   "cell_type": "code",
   "execution_count": 6,
   "metadata": {},
   "outputs": [
    {
     "data": {
      "text/plain": [
       "'0.0097, 0.0725, 0.1233, 0.1928, 0.3131, 0.0097, 0.0299, 0.0367, 0.0415, 0.0454, 0.0097, 0.0404, 0.0567, 0.0744, 0.0984'"
      ]
     },
     "execution_count": 6,
     "metadata": {},
     "output_type": "execute_result"
    }
   ],
   "source": [
    "# sample 3 top1 preference\n",
    "\n",
    "data = \"\"\"\n",
    "wandb:                test/loss 6.90632                                                                                                     \n",
    "wandb:               test/mrr@1 0.00972                                                                                                     \n",
    "wandb:              test/mrr@10 0.03665                                                                                                     \n",
    "wandb:              test/mrr@20 0.04151                                                                                                     \n",
    "wandb:               test/mrr@5 0.02992                                                                                                     \n",
    "wandb:              test/mrr@50 0.04542                                                                                                     \n",
    "wandb:              test/ndcg@1 0.00972                                                                                                     \n",
    "wandb:             test/ndcg@10 0.05674                                                                                                     \n",
    "wandb:             test/ndcg@20 0.07437                                                                                                     \n",
    "wandb:              test/ndcg@5 0.04037                                                                                                     \n",
    "wandb:             test/ndcg@50 0.0984                                                                                                      \n",
    "wandb:            test/recall@1 0.00972                                                                                                     \n",
    "wandb:           test/recall@10 0.12332                                                                                                     \n",
    "wandb:           test/recall@20 0.19283                                                                                                     \n",
    "wandb:            test/recall@5 0.0725                                                                                                      \n",
    "wandb:           test/recall@50 0.31315                                                                                                     \n",
    "wandb:             test/runtime 90.1477\n",
    "\"\"\"\n",
    "\n",
    "extract_metrics(data)"
   ]
  },
  {
   "cell_type": "code",
   "execution_count": 2,
   "metadata": {},
   "outputs": [
    {
     "data": {
      "text/plain": [
       "'0.009, 0.0703, 0.1278, 0.2011, 0.3094, 0.009, 0.0294, 0.037, 0.042, 0.0454, 0.009, 0.0395, 0.058, 0.0764, 0.0979'"
      ]
     },
     "execution_count": 2,
     "metadata": {},
     "output_type": "execute_result"
    }
   ],
   "source": [
    "# sample 3 top1 preference 2 epoch\n",
    "\n",
    "data = \"\"\"\n",
    "wandb:                test/loss 6.94539                                                                                                        \n",
    "wandb:               test/mrr@1 0.00897                                                                                                        \n",
    "wandb:              test/mrr@10 0.037                                                                                                          \n",
    "wandb:              test/mrr@20 0.042                                                                                                          \n",
    "wandb:               test/mrr@5 0.02942\n",
    "wandb:              test/mrr@50 0.04542\n",
    "wandb:              test/ndcg@1 0.00897\n",
    "wandb:             test/ndcg@10 0.058\n",
    "wandb:             test/ndcg@20 0.07643\n",
    "wandb:              test/ndcg@5 0.03949\n",
    "wandb:             test/ndcg@50 0.09786\n",
    "wandb:            test/recall@1 0.00897\n",
    "wandb:           test/recall@10 0.1278\n",
    "wandb:           test/recall@20 0.20105\n",
    "wandb:            test/recall@5 0.07025\n",
    "wandb:           test/recall@50 0.30942\n",
    "\"\"\"\n",
    "\n",
    "extract_metrics(data)"
   ]
  },
  {
   "cell_type": "code",
   "execution_count": 6,
   "metadata": {},
   "outputs": [
    {
     "data": {
      "text/plain": [
       "'0.0142, 0.08, 0.1345, 0.1958, 0.3087, 0.0142, 0.0367, 0.0437, 0.0479, 0.0514, 0.0142, 0.0473, 0.0648, 0.0802, 0.1024'"
      ]
     },
     "execution_count": 6,
     "metadata": {},
     "output_type": "execute_result"
    }
   ],
   "source": [
    "# matching / generate preference\n",
    "\n",
    "data = \"\"\"\n",
    "wandb:                test/loss 6.93941                                                                                                     \n",
    "wandb:               test/mrr@1 0.0142                                                                                                      \n",
    "wandb:              test/mrr@10 0.04375                                                                                                     \n",
    "wandb:              test/mrr@20 0.04793                                                                                                     \n",
    "wandb:               test/mrr@5 0.03666                                                                                                     \n",
    "wandb:              test/mrr@50 0.05141                                                                                                     \n",
    "wandb:              test/ndcg@1 0.0142                                                                                                      \n",
    "wandb:             test/ndcg@10 0.06478                                                                                                     \n",
    "wandb:             test/ndcg@20 0.08019                                                                                                     \n",
    "wandb:              test/ndcg@5 0.04733                                                                                                     \n",
    "wandb:             test/ndcg@50 0.10238                                                                                                     \n",
    "wandb:            test/recall@1 0.0142                                                                                                      \n",
    "wandb:           test/recall@10 0.13453                                                                                                     \n",
    "wandb:           test/recall@20 0.19581                                                                                                     \n",
    "wandb:            test/recall@5 0.07997                                                                                                     \n",
    "wandb:           test/recall@50 0.30867\n",
    "\"\"\"\n",
    "\n",
    "extract_metrics(data)"
   ]
  },
  {
   "cell_type": "code",
   "execution_count": 2,
   "metadata": {},
   "outputs": [
    {
     "data": {
      "text/plain": [
       "'0.0091, 0.0686, 0.1139, 0.1848, 0.3069, 0.0091, 0.0293, 0.0354, 0.0404, 0.0443, 0.0091, 0.039, 0.0537, 0.0717, 0.0959'"
      ]
     },
     "execution_count": 2,
     "metadata": {},
     "output_type": "execute_result"
    }
   ],
   "source": [
    "# match/generate like-dislike\n",
    "\n",
    "data = \"\"\"\n",
    "wandb:                test/loss 6.95996                                                                                                     \n",
    "wandb:               test/mrr@1 0.00905                                                                                                     \n",
    "wandb:              test/mrr@10 0.03542                                                                                                     \n",
    "wandb:              test/mrr@20 0.04038                                                                                                     \n",
    "wandb:               test/mrr@5 0.02925                                                                                                     \n",
    "wandb:              test/mrr@50 0.04427                                                                                                     \n",
    "wandb:              test/ndcg@1 0.00905                                                                                                     \n",
    "wandb:             test/ndcg@10 0.05372                                                                                                     \n",
    "wandb:             test/ndcg@20 0.07171\n",
    "wandb:              test/ndcg@5 0.03896\n",
    "wandb:             test/ndcg@50 0.09593\n",
    "wandb:            test/recall@1 0.00905\n",
    "wandb:           test/recall@10 0.11388\n",
    "wandb:           test/recall@20 0.18477\n",
    "wandb:            test/recall@5 0.06863\n",
    "wandb:           test/recall@50 0.30694\n",
    "\"\"\"\n",
    "\n",
    "extract_metrics(data)"
   ]
  },
  {
   "cell_type": "code",
   "execution_count": 4,
   "metadata": {},
   "outputs": [
    {
     "data": {
      "text/plain": [
       "'0.0112, 0.077, 0.1345, 0.2025, 0.3221, 0.0112, 0.0323, 0.04, 0.0446, 0.0484, 0.0112, 0.0432, 0.0619, 0.079, 0.1027'"
      ]
     },
     "execution_count": 4,
     "metadata": {},
     "output_type": "execute_result"
    }
   ],
   "source": [
    "# 7b origin preference\n",
    "\n",
    "data = \"\"\"\n",
    "wandb:                test/loss 6.89574\n",
    "wandb:               test/mrr@1 0.01121\n",
    "wandb:              test/mrr@10 0.04002\n",
    "wandb:              test/mrr@20 0.04463\n",
    "wandb:               test/mrr@5 0.03225\n",
    "wandb:              test/mrr@50 0.04844\n",
    "wandb:              test/ndcg@1 0.01121\n",
    "wandb:             test/ndcg@10 0.06191\n",
    "wandb:             test/ndcg@20 0.07896\n",
    "wandb:              test/ndcg@5 0.04321\n",
    "wandb:             test/ndcg@50 0.1027\n",
    "wandb:            test/recall@1 0.01121\n",
    "wandb:           test/recall@10 0.13453\n",
    "wandb:           test/recall@20 0.20254\n",
    "wandb:            test/recall@5 0.07698\n",
    "wandb:           test/recall@50 0.32212\n",
    "\"\"\"\n",
    "\n",
    "extract_metrics(data)"
   ]
  },
  {
   "cell_type": "markdown",
   "metadata": {},
   "source": [
    "## matching -> matching/generate"
   ]
  },
  {
   "cell_type": "code",
   "execution_count": 3,
   "metadata": {},
   "outputs": [
    {
     "data": {
      "text/plain": [
       "'0.0082, 0.0725, 0.1248, 0.1973, 0.3131, 0.0082, 0.0303, 0.0372, 0.0422, 0.0459, 0.0082, 0.0407, 0.0576, 0.0759, 0.0989'"
      ]
     },
     "execution_count": 3,
     "metadata": {},
     "output_type": "execute_result"
    }
   ],
   "source": [
    "# matching -> matching/generate preference\n",
    "\n",
    "data = \"\"\"\n",
    "wandb:                test/loss 6.93493                                                                                                             \n",
    "wandb:               test/mrr@1 0.00822                                                                                                             \n",
    "wandb:              test/mrr@10 0.03725                                                                                                             \n",
    "wandb:              test/mrr@20 0.04222                                                                                                             \n",
    "wandb:               test/mrr@5 0.03027                                                                                                             \n",
    "wandb:              test/mrr@50 0.04591                                                                                                             \n",
    "wandb:              test/ndcg@1 0.00822                                                                                                             \n",
    "wandb:             test/ndcg@10 0.05761                                   \n",
    "wandb:             test/ndcg@20 0.07587                                   \n",
    "wandb:              test/ndcg@5 0.04069                                   \n",
    "wandb:             test/ndcg@50 0.09886                                   \n",
    "wandb:            test/recall@1 0.00822                                   \n",
    "wandb:           test/recall@10 0.12481                                   \n",
    "wandb:           test/recall@20 0.19731                                   \n",
    "wandb:            test/recall@5 0.0725                                    \n",
    "wandb:           test/recall@50 0.31315\n",
    "\"\"\"\n",
    "\n",
    "extract_metrics(data)\n"
   ]
  },
  {
   "cell_type": "code",
   "execution_count": 4,
   "metadata": {},
   "outputs": [
    {
     "data": {
      "text/plain": [
       "'0.0083, 0.0708, 0.1242, 0.1883, 0.305, 0.0083, 0.03, 0.037, 0.0417, 0.0454, 0.0083, 0.0401, 0.0573, 0.0737, 0.0968'"
      ]
     },
     "execution_count": 4,
     "metadata": {},
     "output_type": "execute_result"
    }
   ],
   "source": [
    "# matching -> matching/generate\n",
    "\n",
    "data = \"\"\"\n",
    "wandb:                test/loss 6.95575                                                                                                             \n",
    "wandb:               test/mrr@1 0.00828                                                                                                             \n",
    "wandb:              test/mrr@10 0.03705                                                                                                             \n",
    "wandb:              test/mrr@20 0.04166                                                                                                             \n",
    "wandb:               test/mrr@5 0.03001                                                                                                             \n",
    "wandb:              test/mrr@50 0.04536                                                                                                             \n",
    "wandb:              test/ndcg@1 0.00828                                                                                                             \n",
    "wandb:             test/ndcg@10 0.05729                                                                                                             \n",
    "wandb:             test/ndcg@20 0.07368                                   \n",
    "wandb:              test/ndcg@5 0.0401                                    \n",
    "wandb:             test/ndcg@50 0.09682                                   \n",
    "wandb:            test/recall@1 0.00828                                   \n",
    "wandb:           test/recall@10 0.12425                                   \n",
    "wandb:           test/recall@20 0.18825                                   \n",
    "wandb:            test/recall@5 0.07078                                   \n",
    "wandb:           test/recall@50 0.30497\n",
    "\"\"\"\n",
    "\n",
    "extract_metrics(data)\n"
   ]
  },
  {
   "cell_type": "code",
   "execution_count": 2,
   "metadata": {},
   "outputs": [
    {
     "data": {
      "text/plain": [
       "'0.012, 0.0673, 0.1278, 0.2055, 0.3303, 0.012, 0.0299, 0.0379, 0.0435, 0.0473, 0.012, 0.0391, 0.0586, 0.0784, 0.103'"
      ]
     },
     "execution_count": 2,
     "metadata": {},
     "output_type": "execute_result"
    }
   ],
   "source": [
    "# dpo（模型打分，生成的内容形式较为自由）\n",
    "\n",
    "data = \"\"\"\n",
    "wandb:               test/mrr@1 0.01196\n",
    "wandb:              test/mrr@10 0.03792\n",
    "wandb:              test/mrr@20 0.04345\n",
    "wandb:               test/mrr@5 0.02991\n",
    "wandb:              test/mrr@50 0.04733\n",
    "wandb:              test/ndcg@1 0.01196\n",
    "wandb:             test/ndcg@10 0.05859\n",
    "wandb:             test/ndcg@20 0.07839\n",
    "wandb:              test/ndcg@5 0.03907\n",
    "wandb:             test/ndcg@50 0.103\n",
    "wandb:            test/recall@1 0.01196\n",
    "wandb:           test/recall@10 0.1278\n",
    "wandb:           test/recall@20 0.20553\n",
    "wandb:            test/recall@5 0.06726\n",
    "wandb:           test/recall@50 0.33034\n",
    "\"\"\"\n",
    "\n",
    "extract_metrics(data)"
   ]
  },
  {
   "cell_type": "code",
   "execution_count": 3,
   "metadata": {},
   "outputs": [
    {
     "data": {
      "text/plain": [
       "'0.012, 0.0725, 0.1203, 0.1921, 0.2967, 0.012, 0.033, 0.0395, 0.0444, 0.0475, 0.012, 0.0428, 0.0584, 0.0764, 0.0968'"
      ]
     },
     "execution_count": 3,
     "metadata": {},
     "output_type": "execute_result"
    }
   ],
   "source": [
    "## dpo matching/generate top1\n",
    "\n",
    "data = \"\"\"\n",
    "wandb:                test/loss 6.99101\n",
    "wandb:               test/mrr@1 0.01196\n",
    "wandb:              test/mrr@10 0.03954\n",
    "wandb:              test/mrr@20 0.04439\n",
    "wandb:               test/mrr@5 0.03303\n",
    "wandb:              test/mrr@50 0.04753\n",
    "wandb:              test/ndcg@1 0.01196\n",
    "wandb:             test/ndcg@10 0.05836\n",
    "wandb:             test/ndcg@20 0.07635\n",
    "wandb:              test/ndcg@5 0.04277\n",
    "wandb:             test/ndcg@50 0.09677\n",
    "wandb:            test/recall@1 0.01196\n",
    "wandb:           test/recall@10 0.12033\n",
    "wandb:           test/recall@20 0.19208\n",
    "wandb:            test/recall@5 0.0725\n",
    "wandb:           test/recall@50 0.29671\n",
    "\"\"\"\n",
    "\n",
    "extract_metrics(data)"
   ]
  },
  {
   "cell_type": "code",
   "execution_count": 2,
   "metadata": {},
   "outputs": [
    {
     "data": {
      "text/plain": [
       "'0.0142, 0.0635, 0.1151, 0.1883, 0.2997, 0.0142, 0.03, 0.0366, 0.0414, 0.0449, 0.0142, 0.0382, 0.0546, 0.0727, 0.0948'"
      ]
     },
     "execution_count": 2,
     "metadata": {},
     "output_type": "execute_result"
    }
   ],
   "source": [
    "# dpo click preference\n",
    "\n",
    "data = \"\"\"\n",
    "wandb:                test/loss 6.94789\n",
    "wandb:               test/mrr@1 0.0142\n",
    "wandb:              test/mrr@10 0.03664\n",
    "wandb:              test/mrr@20 0.04138\n",
    "wandb:               test/mrr@5 0.03\n",
    "wandb:              test/mrr@50 0.04487\n",
    "wandb:              test/ndcg@1 0.0142\n",
    "wandb:             test/ndcg@10 0.05465\n",
    "wandb:             test/ndcg@20 0.07275\n",
    "wandb:              test/ndcg@5 0.03822\n",
    "wandb:             test/ndcg@50 0.09475\n",
    "wandb:            test/recall@1 0.0142\n",
    "wandb:           test/recall@10 0.1151\n",
    "wandb:           test/recall@20 0.18834\n",
    "wandb:            test/recall@5 0.06353\n",
    "wandb:           test/recall@50 0.2997\n",
    "wandb:             test/runtime 92.7841\n",
    "wandb:  test/samples_per_second 14.421\n",
    "wandb:    test/steps_per_second 3.611\n",
    "wandb:               total_flos 0\n",
    "wandb:              train/epoch 0.99889\n",
    "wandb:        train/global_step 672\n",
    "wandb:          train/grad_norm 9.8872\n",
    "wandb:      train/learning_rate 1e-05\n",
    "wandb:               train/loss 2.8257\n",
    "wandb:               train_loss 2.65461\n",
    "wandb:            train_runtime 9496.2436\n",
    "\"\"\"\n",
    "\n",
    "extract_metrics(data)"
   ]
  },
  {
   "cell_type": "code",
   "execution_count": 2,
   "metadata": {},
   "outputs": [
    {
     "data": {
      "text/plain": [
       "'0.009, 0.0688, 0.1226, 0.1981, 0.3094, 0.009, 0.0296, 0.0367, 0.0417, 0.0453, 0.009, 0.0393, 0.0566, 0.0753, 0.0976'"
      ]
     },
     "execution_count": 2,
     "metadata": {},
     "output_type": "execute_result"
    }
   ],
   "source": [
    "# dpo click left preference\n",
    "\n",
    "data = \"\"\"\n",
    "wandb:                test/loss 6.96831\n",
    "wandb:               test/mrr@1 0.00897\n",
    "wandb:              test/mrr@10 0.03667\n",
    "wandb:              test/mrr@20 0.04166\n",
    "wandb:               test/mrr@5 0.02957\n",
    "wandb:              test/mrr@50 0.04531\n",
    "wandb:              test/ndcg@1 0.00897\n",
    "wandb:             test/ndcg@10 0.05656\n",
    "wandb:             test/ndcg@20 0.07534\n",
    "wandb:              test/ndcg@5 0.03925\n",
    "wandb:             test/ndcg@50 0.09761\n",
    "wandb:            test/recall@1 0.00897\n",
    "wandb:           test/recall@10 0.12257\n",
    "wandb:           test/recall@20 0.19806\n",
    "wandb:            test/recall@5 0.06876\n",
    "wandb:           test/recall@50 0.30942\n",
    "\"\"\"\n",
    "\n",
    "extract_metrics(data)"
   ]
  },
  {
   "cell_type": "code",
   "execution_count": 5,
   "metadata": {},
   "outputs": [
    {
     "data": {
      "text/plain": [
       "'0.0075, 0.0792, 0.1435, 0.2123, 0.3378, 0.0075, 0.0302, 0.0386, 0.0433, 0.0473, 0.0075, 0.0422, 0.0628, 0.0801, 0.105'"
      ]
     },
     "execution_count": 5,
     "metadata": {},
     "output_type": "execute_result"
    }
   ],
   "source": [
    "# 覆盖率dpo\n",
    "\n",
    "data = \"\"\"\n",
    "wandb:                test/loss 6.81946                                                                                             \n",
    "wandb:               test/mrr@1 0.00747                                                                                             \n",
    "wandb:              test/mrr@10 0.03862                                                                                             \n",
    "wandb:              test/mrr@20 0.04332                                                                                             \n",
    "wandb:               test/mrr@5 0.03019                                                                                             \n",
    "wandb:              test/mrr@50 0.0473                                                                                              \n",
    "wandb:              test/ndcg@1 0.00747                                                                                             \n",
    "wandb:             test/ndcg@10 0.06283                                                                                             \n",
    "wandb:             test/ndcg@20 0.08012                                                                                             \n",
    "wandb:              test/ndcg@5 0.0422                                                                                              \n",
    "wandb:             test/ndcg@50 0.105\n",
    "wandb:            test/recall@1 0.00747\n",
    "wandb:           test/recall@10 0.1435\n",
    "wandb:           test/recall@20 0.21226\n",
    "wandb:            test/recall@5 0.07922\n",
    "wandb:           test/recall@50 0.33782\n",
    "\"\"\"\n",
    "\n",
    "extract_metrics(data)"
   ]
  },
  {
   "cell_type": "code",
   "execution_count": 3,
   "metadata": {},
   "outputs": [
    {
     "data": {
      "text/plain": [
       "'0.0075, 0.0725, 0.145, 0.2212, 0.3445, 0.0075, 0.0289, 0.0385, 0.0437, 0.0476, 0.0075, 0.0396, 0.063, 0.0821, 0.1066'"
      ]
     },
     "execution_count": 3,
     "metadata": {},
     "output_type": "execute_result"
    }
   ],
   "source": [
    "# 覆盖率DPO 2\n",
    "\n",
    "data = \"\"\"\n",
    "wandb:                test/loss 6.75584                                                                                                                 \n",
    "wandb:               test/mrr@1 0.00747                                                                                                                 \n",
    "wandb:              test/mrr@10 0.03848                                                                                                                 \n",
    "wandb:              test/mrr@20 0.04368                                                                                                                 \n",
    "wandb:               test/mrr@5 0.02887                                                                                                                 \n",
    "wandb:              test/mrr@50 0.04759                                                                                                                 \n",
    "wandb:              test/ndcg@1 0.00747                                                                                                                 \n",
    "wandb:             test/ndcg@10 0.06295                                                                                                                 \n",
    "wandb:             test/ndcg@20 0.08212                                                                                                                 \n",
    "wandb:              test/ndcg@5 0.03957                                                                                                                 \n",
    "wandb:             test/ndcg@50 0.10655\n",
    "wandb:            test/recall@1 0.00747\n",
    "wandb:           test/recall@10 0.14499\n",
    "wandb:           test/recall@20 0.22123\n",
    "wandb:            test/recall@5 0.0725 \n",
    "wandb:           test/recall@50 0.34454\n",
    "\"\"\"\n",
    "\n",
    "extract_metrics(data)"
   ]
  },
  {
   "cell_type": "code",
   "execution_count": 3,
   "metadata": {},
   "outputs": [
    {
     "data": {
      "text/plain": [
       "'0.0149, 0.077, 0.1248, 0.2055, 0.3072, 0.0149, 0.0359, 0.0424, 0.0481, 0.0512, 0.0149, 0.046, 0.0617, 0.0822, 0.1021'"
      ]
     },
     "execution_count": 3,
     "metadata": {},
     "output_type": "execute_result"
    }
   ],
   "source": [
    "# prompt修改后的7b\n",
    "\n",
    "data = \"\"\"\n",
    "wandb:               test/mrr@1 0.01495                                                                                                                     \n",
    "wandb:              test/mrr@10 0.04244                                                                                                                     \n",
    "wandb:              test/mrr@20 0.04809                                                                                                                     \n",
    "wandb:               test/mrr@5 0.03587                                                                                                                     \n",
    "wandb:              test/mrr@50 0.05122                                                                                                                     \n",
    "wandb:              test/ndcg@1 0.01495                                                                                                                     \n",
    "wandb:             test/ndcg@10 0.06167                                                                                                                     \n",
    "wandb:             test/ndcg@20 0.08215                                                                                                                     \n",
    "wandb:              test/ndcg@5 0.04602                                                                                                                     \n",
    "wandb:             test/ndcg@50 0.10214                                                                                                                     \n",
    "wandb:            test/recall@1 0.01495                                                                                                                     \n",
    "wandb:           test/recall@10 0.12481                                                                                                                     \n",
    "wandb:           test/recall@20 0.20553                                                                                                                     \n",
    "wandb:            test/recall@5 0.07698                                                                                                                     \n",
    "wandb:           test/recall@50 0.30717\n",
    "\"\"\"\n",
    "\n",
    "extract_metrics(data)"
   ]
  },
  {
   "cell_type": "code",
   "execution_count": 3,
   "metadata": {},
   "outputs": [
    {
     "data": {
      "text/plain": [
       "'0.0164, 0.062, 0.1263, 0.1981, 0.3236, 0.0164, 0.0318, 0.0402, 0.0452, 0.0492, 0.0164, 0.0392, 0.0599, 0.078, 0.103'"
      ]
     },
     "execution_count": 3,
     "metadata": {},
     "output_type": "execute_result"
    }
   ],
   "source": [
    "# prompt修改后的7b\n",
    "\n",
    "data = \"\"\"\n",
    "wandb:                test/loss 6.82058                                                                                                                     \n",
    "wandb:               test/mrr@1 0.01644                                                                                                                     \n",
    "wandb:              test/mrr@10 0.04022                                                                                                                     \n",
    "wandb:              test/mrr@20 0.04521                                                                                                                     \n",
    "wandb:               test/mrr@5 0.03175                                                                                                                     \n",
    "wandb:              test/mrr@50 0.04923                                                                                                                     \n",
    "wandb:              test/ndcg@1 0.01644                                                                                                                     \n",
    "wandb:             test/ndcg@10 0.05988                                                                                                                     \n",
    "wandb:             test/ndcg@20 0.07802                                                                                                                     \n",
    "wandb:              test/ndcg@5 0.0392                                                                                                                      \n",
    "wandb:             test/ndcg@50 0.10297                                                                                                                     \n",
    "wandb:            test/recall@1 0.01644 \n",
    "wandb:           test/recall@10 0.12631 \n",
    "wandb:           test/recall@20 0.19806 \n",
    "wandb:            test/recall@5 0.06203 \n",
    "wandb:           test/recall@50 0.32362\n",
    "\"\"\"\n",
    "\n",
    "extract_metrics(data)"
   ]
  },
  {
   "cell_type": "code",
   "execution_count": 4,
   "metadata": {},
   "outputs": [
    {
     "data": {
      "text/plain": [
       "'0.0052, 0.062, 0.1121, 0.1936, 0.3117, 0.0052, 0.0226, 0.0291, 0.0346, 0.0383, 0.0052, 0.0323, 0.0482, 0.0686, 0.092'"
      ]
     },
     "execution_count": 4,
     "metadata": {},
     "output_type": "execute_result"
    }
   ],
   "source": [
    "# 提取用户历史记录中的全部电影+属性\n",
    "\n",
    "data = \"\"\"\n",
    "wandb:                test/loss 6.99816                                                                                                                   \n",
    "wandb:               test/mrr@1 0.00523                                                                                                                   \n",
    "wandb:              test/mrr@10 0.0291                                                                                                                    \n",
    "wandb:              test/mrr@20 0.03459                                                                                                                   \n",
    "wandb:               test/mrr@5 0.02265                                                                                                                   \n",
    "wandb:              test/mrr@50 0.0383                                                                                                                    \n",
    "wandb:              test/ndcg@1 0.00523                                                                                                                   \n",
    "wandb:             test/ndcg@10 0.04822                                                                                                                   \n",
    "wandb:             test/ndcg@20 0.06862                                                                                                                   \n",
    "wandb:              test/ndcg@5 0.03225                                                                                                                   \n",
    "wandb:             test/ndcg@50 0.09196                                                                                                                   \n",
    "wandb:            test/recall@1 0.00523                                                                                                                   \n",
    "wandb:           test/recall@10 0.11211\n",
    "wandb:           test/recall@20 0.19357\n",
    "wandb:            test/recall@5 0.06203\n",
    "wandb:           test/recall@50 0.31166\n",
    "\"\"\"\n",
    "\n",
    "extract_metrics(data)"
   ]
  },
  {
   "cell_type": "code",
   "execution_count": 2,
   "metadata": {},
   "outputs": [
    {
     "data": {
      "text/plain": [
       "'0.012, 0.0725, 0.1293, 0.2093, 0.3393, 0.012, 0.0319, 0.0395, 0.0451, 0.0493, 0.012, 0.0419, 0.0603, 0.0805, 0.1064'"
      ]
     },
     "execution_count": 2,
     "metadata": {},
     "output_type": "execute_result"
    }
   ],
   "source": [
    "# rpo方法\n",
    "\n",
    "data = \"\"\"\n",
    "wandb:                test/loss 6.78508                                                                                                               \n",
    "wandb:               test/mrr@1 0.01196                                                                                                               \n",
    "wandb:              test/mrr@10 0.03952                                                                                                               \n",
    "wandb:              test/mrr@20 0.0451                                                                                                                \n",
    "wandb:               test/mrr@5 0.03188                                                                                                               \n",
    "wandb:              test/mrr@50 0.04928                                                                                                               \n",
    "wandb:              test/ndcg@1 0.01196                                                                                                               \n",
    "wandb:             test/ndcg@10 0.0603                                                                                                                \n",
    "wandb:             test/ndcg@20 0.08055                                                                                                               \n",
    "wandb:              test/ndcg@5 0.04187                                                                                                               \n",
    "wandb:             test/ndcg@50 0.10642                                    \n",
    "wandb:            test/recall@1 0.01196                                    \n",
    "wandb:           test/recall@10 0.1293                                     \n",
    "wandb:           test/recall@20 0.20927                                    \n",
    "wandb:            test/recall@5 0.0725                                     \n",
    "wandb:           test/recall@50 0.33931\n",
    "\"\"\"\n",
    "\n",
    "extract_metrics(data)"
   ]
  },
  {
   "cell_type": "code",
   "execution_count": 3,
   "metadata": {},
   "outputs": [
    {
     "data": {
      "text/plain": [
       "'0.012, 0.0777, 0.1465, 0.2093, 0.3348, 0.012, 0.0331, 0.0422, 0.0466, 0.0505, 0.012, 0.044, 0.0662, 0.0822, 0.1069'"
      ]
     },
     "execution_count": 3,
     "metadata": {},
     "output_type": "execute_result"
    }
   ],
   "source": [
    "## 覆盖率 + label综合打分相加筛选出的数据进行DPO\n",
    "\n",
    "data = \"\"\"\n",
    "wandb:                test/loss 6.73459                                                                                                         \n",
    "wandb:               test/mrr@1 0.01196                                                                                                         \n",
    "wandb:              test/mrr@10 0.04224                                                                                                         \n",
    "wandb:              test/mrr@20 0.04663                                                                                                         \n",
    "wandb:               test/mrr@5 0.03311                                                                                                         \n",
    "wandb:              test/mrr@50 0.05053                                                                                                         \n",
    "wandb:              test/ndcg@1 0.01196                                                                                                         \n",
    "wandb:             test/ndcg@10 0.06624                                                                                                         \n",
    "wandb:             test/ndcg@20 0.08215                                                                                                         \n",
    "wandb:              test/ndcg@5 0.04405                                 \n",
    "wandb:             test/ndcg@50 0.1069                                  \n",
    "wandb:            test/recall@1 0.01196                                 \n",
    "wandb:           test/recall@10 0.14649                                 \n",
    "wandb:           test/recall@20 0.20927                                 \n",
    "wandb:            test/recall@5 0.07773                                 \n",
    "wandb:           test/recall@50 0.33483\n",
    "\n",
    "\"\"\"\n",
    "\n",
    "extract_metrics(data)"
   ]
  },
  {
   "cell_type": "code",
   "execution_count": 2,
   "metadata": {},
   "outputs": [
    {
     "data": {
      "text/plain": [
       "'0.0105, 0.0747, 0.1465, 0.219, 0.3408, 0.0105, 0.0308, 0.0401, 0.0451, 0.0488, 0.0105, 0.0416, 0.0645, 0.0828, 0.1067'"
      ]
     },
     "execution_count": 2,
     "metadata": {},
     "output_type": "execute_result"
    }
   ],
   "source": [
    "data = \"\"\"\n",
    "wandb:                test/loss 6.71424                                                                                                                                    \n",
    "wandb:               test/mrr@1 0.01046                                                                                                                                    \n",
    "wandb:              test/mrr@10 0.04011                                                                                                                                    \n",
    "wandb:              test/mrr@20 0.04514                                                                                                                                    \n",
    "wandb:               test/mrr@5 0.03082                                                                                                                                    \n",
    "wandb:              test/mrr@50 0.04885                                                                                                                                    \n",
    "wandb:              test/ndcg@1 0.01046                                                                                                                                    \n",
    "wandb:             test/ndcg@10 0.06448\n",
    "wandb:             test/ndcg@20 0.0828\n",
    "wandb:              test/ndcg@5 0.04156\n",
    "wandb:             test/ndcg@50 0.1067\n",
    "wandb:            test/recall@1 0.01046\n",
    "wandb:           test/recall@10 0.14649\n",
    "wandb:           test/recall@20 0.21898\n",
    "wandb:            test/recall@5 0.07474\n",
    "wandb:           test/recall@50 0.34081\n",
    "\"\"\"\n",
    "\n",
    "extract_metrics(data)"
   ]
  }
 ],
 "metadata": {
  "kernelspec": {
   "display_name": "mfz_trl",
   "language": "python",
   "name": "python3"
  },
  "language_info": {
   "codemirror_mode": {
    "name": "ipython",
    "version": 3
   },
   "file_extension": ".py",
   "mimetype": "text/x-python",
   "name": "python",
   "nbconvert_exporter": "python",
   "pygments_lexer": "ipython3",
   "version": "3.9.21"
  }
 },
 "nbformat": 4,
 "nbformat_minor": 2
}
