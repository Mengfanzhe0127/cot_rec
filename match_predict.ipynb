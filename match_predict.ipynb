{
 "cells": [
  {
   "cell_type": "code",
   "execution_count": 1,
   "metadata": {},
   "outputs": [],
   "source": [
    "import re"
   ]
  },
  {
   "cell_type": "markdown",
   "metadata": {},
   "source": [
    "## 对于predict放到train中的情况"
   ]
  },
  {
   "cell_type": "code",
   "execution_count": 4,
   "metadata": {},
   "outputs": [],
   "source": [
    "def extract_metrics(data: str):\n",
    "    # 解析数据\n",
    "    metrics = {\n",
    "        \"recall\": {},\n",
    "        \"mrr\": {},\n",
    "        \"ndcg\": {}\n",
    "    }\n",
    "    \n",
    "    for line in data.strip().split(\"\\n\"):\n",
    "        match = re.search(r'wandb:\\s+train/predict_(\\w+)@(\\d+)\\s+([\\d.]+)', line)\n",
    "        if match:\n",
    "            metric, k, value = match.groups()\n",
    "            if metric in metrics:\n",
    "                metrics[metric][int(k)] = round(float(value), 4) # 保留小数点后四位\n",
    "    \n",
    "    # 按照 recall 1-50, mrr 1-50, ndcg 1-50 顺序整理\n",
    "    result = []\n",
    "    for metric in [\"recall\", \"mrr\", \"ndcg\"]:\n",
    "        for k in sorted(metrics[metric]):\n",
    "            result.append(str(metrics[metric][k]))\n",
    "    \n",
    "    return \", \".join(result)"
   ]
  },
  {
   "cell_type": "markdown",
   "metadata": {},
   "source": [
    "## predict独立的情况"
   ]
  },
  {
   "cell_type": "code",
   "execution_count": 2,
   "metadata": {},
   "outputs": [],
   "source": [
    "import re\n",
    "\n",
    "def extract_metrics(data: str):\n",
    "    # 解析数据\n",
    "    metrics = {\n",
    "        \"recall\": {},\n",
    "        \"mrr\": {},\n",
    "        \"ndcg\": {}\n",
    "    }\n",
    "    \n",
    "    for line in data.strip().split(\"\\n\"):\n",
    "        match = re.search(r'wandb:\\s+test/(\\w+)@(\\d+)\\s+([\\d.]+)', line)\n",
    "        if match:\n",
    "            metric, k, value = match.groups()\n",
    "            if metric in metrics:\n",
    "                metrics[metric][int(k)] = round(float(value), 4) # 保留小数点后四位\n",
    "    \n",
    "    # 按照 recall 1-50, mrr 1-50, ndcg 1-50 顺序整理\n",
    "    result = []\n",
    "    for metric in [\"recall\", \"mrr\", \"ndcg\"]:\n",
    "        for k in sorted(metrics[metric]):\n",
    "            result.append(str(metrics[metric][k]))\n",
    "    \n",
    "    return \", \".join(result)"
   ]
  },
  {
   "cell_type": "markdown",
   "metadata": {},
   "source": [
    "## filter_user"
   ]
  },
  {
   "cell_type": "code",
   "execution_count": 5,
   "metadata": {},
   "outputs": [
    {
     "data": {
      "text/plain": [
       "'0.0149, 0.0725, 0.1308, 0.2063, 0.3191, 0.0149, 0.0335, 0.0414, 0.0467, 0.0502, 0.0149, 0.043, 0.062, 0.0811, 0.1034'"
      ]
     },
     "execution_count": 5,
     "metadata": {},
     "output_type": "execute_result"
    }
   ],
   "source": [
    "# lr=5e-6, bs=2, num_negative_samples=32, gas=4\n",
    "\n",
    "data = \"\"\"\n",
    "wandb:              train/learning_rate 1e-05\n",
    "wandb:                       train/loss 2.9293\n",
    "wandb:               train/predict_loss 6.83972\n",
    "wandb:              train/predict_mrr@1 0.01495\n",
    "wandb:             train/predict_mrr@10 0.0414\n",
    "wandb:             train/predict_mrr@20 0.04666\n",
    "wandb:              train/predict_mrr@5 0.03346\n",
    "wandb:             train/predict_mrr@50 0.05017\n",
    "wandb:             train/predict_ndcg@1 0.01495\n",
    "wandb:            train/predict_ndcg@10 0.06204\n",
    "wandb:            train/predict_ndcg@20 0.08114\n",
    "wandb:             train/predict_ndcg@5 0.04302\n",
    "wandb:            train/predict_ndcg@50 0.1034\n",
    "wandb:           train/predict_recall@1 0.01495\n",
    "wandb:          train/predict_recall@10 0.13079\n",
    "wandb:          train/predict_recall@20 0.20628\n",
    "wandb:           train/predict_recall@5 0.0725\n",
    "wandb:          train/predict_recall@50 0.31913\n",
    "wandb:            train/predict_runtime 186.5982\n",
    "\"\"\"\n",
    "\n",
    "extract_metrics(data)"
   ]
  },
  {
   "cell_type": "code",
   "execution_count": 7,
   "metadata": {},
   "outputs": [
    {
     "data": {
      "text/plain": [
       "'0.0045, 0.0277, 0.0508, 0.0852, 0.151, 0.0045, 0.0122, 0.0151, 0.0175, 0.0195, 0.0045, 0.016, 0.0233, 0.032, 0.0449'"
      ]
     },
     "execution_count": 7,
     "metadata": {},
     "output_type": "execute_result"
    }
   ],
   "source": [
    "# lr=1e-6, bs=2, num_neg_samples=32, gas=1\n",
    "\n",
    "data = \"\"\"\n",
    "wandb:                test/loss 7.66796                                                                                            \n",
    "wandb:               test/mrr@1 0.00448                                                                                            \n",
    "wandb:              test/mrr@10 0.01512                                                                                            \n",
    "wandb:              test/mrr@20 0.01747                                                                                            \n",
    "wandb:               test/mrr@5 0.01223                                                                                            \n",
    "wandb:              test/mrr@50 0.01949\n",
    "wandb:              test/ndcg@1 0.00448\n",
    "wandb:             test/ndcg@10 0.02331\n",
    "wandb:             test/ndcg@20 0.03196\n",
    "wandb:              test/ndcg@5 0.01603\n",
    "wandb:             test/ndcg@50 0.04488\n",
    "wandb:            test/recall@1 0.00448\n",
    "wandb:           test/recall@10 0.05082\n",
    "wandb:           test/recall@20 0.0852\n",
    "wandb:            test/recall@5 0.02765\n",
    "wandb:           test/recall@50 0.15097\n",
    "\"\"\"\n",
    "\n",
    "extract_metrics(data)\n"
   ]
  },
  {
   "cell_type": "code",
   "execution_count": 5,
   "metadata": {},
   "outputs": [
    {
     "data": {
      "text/plain": [
       "'0.0149, 0.0785, 0.1285, 0.1958, 0.3019, 0.0149, 0.0341, 0.0407, 0.0454, 0.0486, 0.0149, 0.0449, 0.061, 0.0781, 0.0989'"
      ]
     },
     "execution_count": 5,
     "metadata": {},
     "output_type": "execute_result"
    }
   ],
   "source": [
    "# lr=1e-5, bs=2, num_neg_samples=64, gas=8\n",
    "\n",
    "data = \"\"\"\n",
    "wandb:    eval/steps_per_second 1.812\n",
    "wandb:                test/loss 6.92125\n",
    "wandb:               test/mrr@1 0.01495\n",
    "wandb:              test/mrr@10 0.04068\n",
    "wandb:              test/mrr@20 0.0454\n",
    "wandb:               test/mrr@5 0.03413\n",
    "wandb:              test/mrr@50 0.04865\n",
    "wandb:              test/ndcg@1 0.01495\n",
    "wandb:             test/ndcg@10 0.06098\n",
    "wandb:             test/ndcg@20 0.07806\n",
    "wandb:              test/ndcg@5 0.04493\n",
    "wandb:             test/ndcg@50 0.09889\n",
    "wandb:            test/recall@1 0.01495\n",
    "wandb:           test/recall@10 0.12855\n",
    "wandb:           test/recall@20 0.19581\n",
    "wandb:            test/recall@5 0.07848\n",
    "wandb:           test/recall@50 0.30194\n",
    "wandb:             test/runtime 181.0884\n",
    "wandb:  test/samples_per_second 7.389\n",
    "wandb:    test/steps_per_second 1.85\n",
    "wandb:               total_flos 0\n",
    "wandb:              train/epoch 0.99889\n",
    "wandb:        train/global_step 336\n",
    "wandb:          train/grad_norm 8.87292\n",
    "wandb:      train/learning_rate 1e-05\n",
    "wandb:               train/loss 3.9673\n",
    "wandb:               train_loss 3.22661\n",
    "wandb:            train_runtime 17893.3513\n",
    "wandb: train_samples_per_second 0.602\n",
    "wandb:   train_steps_per_second 0.019\n",
    "\"\"\"\n",
    "\n",
    "extract_metrics(data)"
   ]
  },
  {
   "cell_type": "code",
   "execution_count": 7,
   "metadata": {},
   "outputs": [
    {
     "data": {
      "text/plain": [
       "'0.0112, 0.083, 0.136, 0.2145, 0.3303, 0.0112, 0.0352, 0.0423, 0.0477, 0.0513, 0.0112, 0.0469, 0.0642, 0.0838, 0.1067'"
      ]
     },
     "execution_count": 7,
     "metadata": {},
     "output_type": "execute_result"
    }
   ],
   "source": [
    "# lr=5e-6, bs=2, num_neg_samples=64, gas=4\n",
    "\n",
    "data = \"\"\"\n",
    "wandb:                test/loss 6.8446\n",
    "wandb:               test/mrr@1 0.01121\n",
    "wandb:              test/mrr@10 0.04235\n",
    "wandb:              test/mrr@20 0.04766\n",
    "wandb:               test/mrr@5 0.03519\n",
    "wandb:              test/mrr@50 0.05127\n",
    "wandb:              test/ndcg@1 0.01121\n",
    "wandb:             test/ndcg@10 0.06418\n",
    "wandb:             test/ndcg@20 0.08384\n",
    "wandb:              test/ndcg@5 0.04694\n",
    "wandb:             test/ndcg@50 0.10669\n",
    "wandb:            test/recall@1 0.01121\n",
    "wandb:           test/recall@10 0.13602\n",
    "wandb:           test/recall@20 0.2145\n",
    "wandb:            test/recall@5 0.08296\n",
    "wandb:           test/recall@50 0.33034\n",
    "wandb:             test/runtime 202.1424\n",
    "\"\"\"\n",
    "\n",
    "extract_metrics(data)"
   ]
  },
  {
   "cell_type": "code",
   "execution_count": 4,
   "metadata": {},
   "outputs": [
    {
     "data": {
      "text/plain": [
       "'0.0149, 0.0732, 0.133, 0.207, 0.3199, 0.0149, 0.0346, 0.0426, 0.0476, 0.0513, 0.0149, 0.0441, 0.0635, 0.082, 0.1046'"
      ]
     },
     "execution_count": 4,
     "metadata": {},
     "output_type": "execute_result"
    }
   ],
   "source": [
    "# lr=5e-6, bs=2, num_neg_samples=64, gas=8\n",
    "\n",
    "data = \"\"\"\n",
    "wandb:                test/loss 6.82661\n",
    "wandb:               test/mrr@1 0.01495\n",
    "wandb:              test/mrr@10 0.04259\n",
    "wandb:              test/mrr@20 0.04759\n",
    "wandb:               test/mrr@5 0.03457\n",
    "wandb:              test/mrr@50 0.05128\n",
    "wandb:              test/ndcg@1 0.01495\n",
    "wandb:             test/ndcg@10 0.06348\n",
    "wandb:             test/ndcg@20 0.08202\n",
    "wandb:              test/ndcg@5 0.0441\n",
    "wandb:             test/ndcg@50 0.10458\n",
    "wandb:            test/recall@1 0.01495\n",
    "wandb:           test/recall@10 0.13303\n",
    "wandb:           test/recall@20 0.20703\n",
    "wandb:            test/recall@5 0.07324\n",
    "wandb:           test/recall@50 0.31988\n",
    "wandb:             test/runtime 185.6406\n",
    "\"\"\"\n",
    "\n",
    "extract_metrics(data)"
   ]
  },
  {
   "cell_type": "code",
   "execution_count": 6,
   "metadata": {},
   "outputs": [
    {
     "data": {
      "text/plain": [
       "'0.0146, 0.0746, 0.1231, 0.19, 0.2885, 0.0146, 0.0346, 0.041, 0.0454, 0.0486, 0.0146, 0.0445, 0.06, 0.0766, 0.0964'"
      ]
     },
     "execution_count": 6,
     "metadata": {},
     "output_type": "execute_result"
    }
   ],
   "source": [
    "# phi4, lr=5e-6, bs=2, num_neg_samples=32, gas=4\n",
    "\n",
    "data = \"\"\"\n",
    "wandb:                test/loss 6.99885                                                                                                      \n",
    "wandb:               test/mrr@1 0.01462                                                                                                      \n",
    "wandb:              test/mrr@10 0.04098                                                                                                      \n",
    "wandb:              test/mrr@20 0.04536                                                                                                      \n",
    "wandb:               test/mrr@5 0.03463                                                                                                      \n",
    "wandb:              test/mrr@50 0.04861                                                                                                      \n",
    "wandb:              test/ndcg@1 0.01462                                                                                                      \n",
    "wandb:             test/ndcg@10 0.06003                                                                                                      \n",
    "wandb:             test/ndcg@20 0.07661                                                                                                      \n",
    "wandb:              test/ndcg@5 0.04448                                                                                                      \n",
    "wandb:             test/ndcg@50 0.09635                                                                                                      \n",
    "wandb:            test/recall@1 0.01462                                                                                                      \n",
    "wandb:           test/recall@10 0.12308                                                                                                      \n",
    "wandb:           test/recall@20 0.19                                                                                                         \n",
    "wandb:            test/recall@5 0.07462                               \n",
    "wandb:           test/recall@50 0.28846                               \n",
    "wandb:             test/runtime 174.0181                              \n",
    "wandb:  test/samples_per_second 7.47      \n",
    "wandb:    test/steps_per_second 1.868\n",
    "\"\"\"\n",
    "\n",
    "extract_metrics(data)"
   ]
  },
  {
   "cell_type": "code",
   "execution_count": 7,
   "metadata": {},
   "outputs": [
    {
     "data": {
      "text/plain": [
       "'0.0169, 0.0754, 0.1239, 0.21, 0.3315, 0.0169, 0.0364, 0.0427, 0.0489, 0.0527, 0.0169, 0.0459, 0.0615, 0.0835, 0.1076'"
      ]
     },
     "execution_count": 7,
     "metadata": {},
     "output_type": "execute_result"
    }
   ],
   "source": [
    "# qwen 32b标注, lr=5e-6, bs=2, num_neg_samples=32, gas=4\n",
    "\n",
    "data = \"\"\"\n",
    "wandb:                test/loss 6.85888                                                                                                      \n",
    "wandb:               test/mrr@1 0.01692                                                                                                      \n",
    "wandb:              test/mrr@10 0.04271                                                                                                      \n",
    "wandb:              test/mrr@20 0.04886                                                                                                      \n",
    "wandb:               test/mrr@5 0.03637                                                                                                      \n",
    "wandb:              test/mrr@50 0.05271                                                                                                      \n",
    "wandb:              test/ndcg@1 0.01692                                                                                                      \n",
    "wandb:             test/ndcg@10 0.06148\n",
    "wandb:             test/ndcg@20 0.08348\n",
    "wandb:              test/ndcg@5 0.04594\n",
    "wandb:             test/ndcg@50 0.10757\n",
    "wandb:            test/recall@1 0.01692\n",
    "wandb:           test/recall@10 0.12385\n",
    "wandb:           test/recall@20 0.21\n",
    "wandb:            test/recall@5 0.07538\n",
    "wandb:           test/recall@50 0.33154\n",
    "wandb:             test/runtime 250.2515\n",
    "\"\"\"\n",
    "\n",
    "extract_metrics(data)"
   ]
  },
  {
   "cell_type": "code",
   "execution_count": 11,
   "metadata": {},
   "outputs": [
    {
     "data": {
      "text/plain": [
       "'0.0123, 0.0808, 0.1361, 0.2108, 0.3246, 0.0123, 0.0355, 0.0426, 0.0477, 0.0512, 0.0123, 0.0466, 0.0642, 0.083, 0.1053'"
      ]
     },
     "execution_count": 11,
     "metadata": {},
     "output_type": "execute_result"
    }
   ],
   "source": [
    "# gemma标注, lr=5e-6, bs=2, num_neg_samples=32, gas=4\n",
    "\n",
    "data = \"\"\"\n",
    "wandb:                test/loss 6.88364                                                                                                      \n",
    "wandb:               test/mrr@1 0.01231                                                                                                      \n",
    "wandb:              test/mrr@10 0.04258                                                                                                      \n",
    "wandb:              test/mrr@20 0.04772                                                                                                      \n",
    "wandb:               test/mrr@5 0.0355                                                                                                       \n",
    "wandb:              test/mrr@50 0.05117\n",
    "wandb:              test/ndcg@1 0.01231\n",
    "wandb:             test/ndcg@10 0.06422\n",
    "wandb:             test/ndcg@20 0.08303\n",
    "wandb:              test/ndcg@5 0.04663\n",
    "wandb:             test/ndcg@50 0.10532\n",
    "wandb:            test/recall@1 0.01231\n",
    "wandb:           test/recall@10 0.13615\n",
    "wandb:           test/recall@20 0.21077\n",
    "wandb:            test/recall@5 0.08077\n",
    "wandb:           test/recall@50 0.32462\n",
    "wandb:             test/runtime 170.0957\n",
    "\"\"\"\n",
    "\n",
    "extract_metrics(data)"
   ]
  },
  {
   "cell_type": "markdown",
   "metadata": {},
   "source": [
    "## gte-1.5B"
   ]
  },
  {
   "cell_type": "code",
   "execution_count": 3,
   "metadata": {},
   "outputs": [
    {
     "data": {
      "text/plain": [
       "'0.0115, 0.0831, 0.1431, 0.2108, 0.3338, 0.0115, 0.0346, 0.0427, 0.0473, 0.0512, 0.0115, 0.0465, 0.066, 0.083, 0.1074'"
      ]
     },
     "execution_count": 3,
     "metadata": {},
     "output_type": "execute_result"
    }
   ],
   "source": [
    "# lr=5e-6, num_negative_samples=32, bs=16, gas=4, lr_scheduler_type inverse_sqrt, warmup_ratio=0.2, weight_decay=0.001\n",
    "\n",
    "data = \"\"\"\n",
    "wandb:                test/loss 6.84031                                                                                                 \n",
    "wandb:               test/mrr@1 0.01154                                                                                                 \n",
    "wandb:              test/mrr@10 0.04271                                                                                                 \n",
    "wandb:              test/mrr@20 0.04731                                                                                                 \n",
    "wandb:               test/mrr@5 0.03462\n",
    "wandb:              test/mrr@50 0.05125\n",
    "wandb:              test/ndcg@1 0.01154\n",
    "wandb:             test/ndcg@10 0.06599\n",
    "wandb:             test/ndcg@20 0.08299\n",
    "wandb:              test/ndcg@5 0.0465\n",
    "wandb:             test/ndcg@50 0.10744\n",
    "wandb:            test/recall@1 0.01154\n",
    "wandb:           test/recall@10 0.14308\n",
    "wandb:           test/recall@20 0.21077\n",
    "wandb:            test/recall@5 0.08308\n",
    "wandb:           test/recall@50 0.33385\n",
    "wandb:             test/runtime 93.9027\n",
    "\"\"\"\n",
    "\n",
    "extract_metrics(data)"
   ]
  },
  {
   "cell_type": "code",
   "execution_count": 4,
   "metadata": {},
   "outputs": [
    {
     "data": {
      "text/plain": [
       "'0.0131, 0.06, 0.1046, 0.1615, 0.2515, 0.0131, 0.0284, 0.0343, 0.0382, 0.041, 0.0131, 0.0362, 0.0505, 0.0648, 0.0826'"
      ]
     },
     "execution_count": 4,
     "metadata": {},
     "output_type": "execute_result"
    }
   ],
   "source": [
    "# lr=1e-6, constant\n",
    "\n",
    "data = \"\"\"\n",
    "wandb:                test/loss 7.16428                                                                                                 \n",
    "wandb:               test/mrr@1 0.01308                                                                                                 \n",
    "wandb:              test/mrr@10 0.03429                                                                                                 \n",
    "wandb:              test/mrr@20 0.03816                                                                                                 \n",
    "wandb:               test/mrr@5 0.02844\n",
    "wandb:              test/mrr@50 0.041\n",
    "wandb:              test/ndcg@1 0.01308\n",
    "wandb:             test/ndcg@10 0.05051\n",
    "wandb:             test/ndcg@20 0.06481\n",
    "wandb:              test/ndcg@5 0.03618\n",
    "wandb:             test/ndcg@50 0.0826\n",
    "wandb:            test/recall@1 0.01308\n",
    "wandb:           test/recall@10 0.10462\n",
    "wandb:           test/recall@20 0.16154\n",
    "wandb:            test/recall@5 0.06\n",
    "wandb:           test/recall@50 0.25154\n",
    "wandb:             test/runtime 97.4869\n",
    "wandb:  test/samples_per_second 13.335\n",
    "wandb:    test/steps_per_second 0.841\n",
    "wandb:               total_flos 0\n",
    "wandb:              train/epoch 1\n",
    "wandb:        train/global_step 668\n",
    "wandb:          train/grad_norm 22.88761\n",
    "wandb:      train/learning_rate 0.0\n",
    "wandb:               train/loss 2.1781\n",
    "wandb:               train_loss 2.94727\n",
    "wandb:            train_runtime 5248.9053\n",
    "wandb: train_samples_per_second 2.036\n",
    "wandb:   train_steps_per_second 0.127\n",
    "\"\"\"\n",
    "\n",
    "extract_metrics(data)"
   ]
  },
  {
   "cell_type": "code",
   "execution_count": 5,
   "metadata": {},
   "outputs": [
    {
     "data": {
      "text/plain": [
       "'0.0162, 0.0846, 0.1392, 0.2069, 0.32, 0.0162, 0.0382, 0.0456, 0.0502, 0.0539, 0.0162, 0.0496, 0.0673, 0.0843, 0.1069'"
      ]
     },
     "execution_count": 5,
     "metadata": {},
     "output_type": "execute_result"
    }
   ],
   "source": [
    "# lr=5e-6, num_negative_samples=128, bs=8, gas=4, lr_scheduler_type inverse_sqrt, warmup_ratio=0.2, weight_decay=0.001\n",
    "\n",
    "data = \"\"\"\n",
    "wandb:                test/loss 6.84322\n",
    "wandb:               test/mrr@1 0.01615\n",
    "wandb:              test/mrr@10 0.04557\n",
    "wandb:              test/mrr@20 0.05019\n",
    "wandb:               test/mrr@5 0.03821\n",
    "wandb:              test/mrr@50 0.05389\n",
    "wandb:              test/ndcg@1 0.01615\n",
    "wandb:             test/ndcg@10 0.0673\n",
    "wandb:             test/ndcg@20 0.08432\n",
    "wandb:              test/ndcg@5 0.04957\n",
    "wandb:             test/ndcg@50 0.10692\n",
    "wandb:            test/recall@1 0.01615\n",
    "wandb:           test/recall@10 0.13923\n",
    "wandb:           test/recall@20 0.20692\n",
    "wandb:            test/recall@5 0.08462\n",
    "wandb:           test/recall@50 0.32\n",
    "wandb:             test/runtime 106.6008\n",
    "wandb:  test/samples_per_second 12.195\n",
    "wandb:    test/steps_per_second 0.769\n",
    "wandb:               total_flos 0\n",
    "wandb:              train/epoch 1\n",
    "wandb:        train/global_step 167\n",
    "wandb:          train/grad_norm 15.56251\n",
    "wandb:      train/learning_rate 0.0\n",
    "wandb:               train/loss 3.6105\n",
    "wandb:               train_loss 3.93329\n",
    "wandb:            train_runtime 8192.4939\n",
    "wandb: train_samples_per_second 1.304\n",
    "wandb:   train_steps_per_second 0.02\n",
    "\"\"\"\n",
    "\n",
    "extract_metrics(data)"
   ]
  },
  {
   "cell_type": "code",
   "execution_count": 8,
   "metadata": {},
   "outputs": [
    {
     "data": {
      "text/plain": [
       "'0.0131, 0.0815, 0.1308, 0.1961, 0.3192, 0.0131, 0.0361, 0.0427, 0.0471, 0.051, 0.0131, 0.0473, 0.0632, 0.0796, 0.104'"
      ]
     },
     "execution_count": 8,
     "metadata": {},
     "output_type": "execute_result"
    }
   ],
   "source": [
    "# lr=5e-6, num_negative_samples=96, bs=8, gas=8, lr_scheduler_type cosine_with_min_lr, warmup_ratio=0.3, weight_decay=0.001, min_lr=1e-7, max_grad_norm=0.5\n",
    "\n",
    "data = \"\"\"\n",
    "wandb:                test/loss 6.87735                                                                                                      \n",
    "wandb:               test/mrr@1 0.01308                                                                                                      \n",
    "wandb:              test/mrr@10 0.0427                                                                                                       \n",
    "wandb:              test/mrr@20 0.04713                                                                                                      \n",
    "wandb:               test/mrr@5 0.03609                                                                                                      \n",
    "wandb:              test/mrr@50 0.05105\n",
    "wandb:              test/ndcg@1 0.01308\n",
    "wandb:             test/ndcg@10 0.06321\n",
    "wandb:             test/ndcg@20 0.07961\n",
    "wandb:              test/ndcg@5 0.04725\n",
    "wandb:             test/ndcg@50 0.10402\n",
    "wandb:            test/recall@1 0.01308\n",
    "wandb:           test/recall@10 0.13077\n",
    "wandb:           test/recall@20 0.19615\n",
    "wandb:            test/recall@5 0.08154\n",
    "wandb:           test/recall@50 0.31923\n",
    "wandb:             test/runtime 138.3797\n",
    "\"\"\"\n",
    "\n",
    "extract_metrics(data)"
   ]
  },
  {
   "cell_type": "code",
   "execution_count": 10,
   "metadata": {},
   "outputs": [
    {
     "data": {
      "text/plain": [
       "'0.0138, 0.0831, 0.1338, 0.2031, 0.3323, 0.0138, 0.0379, 0.0444, 0.0492, 0.0533, 0.0138, 0.049, 0.0652, 0.0827, 0.1083'"
      ]
     },
     "execution_count": 10,
     "metadata": {},
     "output_type": "execute_result"
    }
   ],
   "source": [
    "# lr=5e-6, num_negative_samples=96, bs=8, gas=8, lr_scheduler_type cosine_with_restarts（两次）, warmup_ratio=0.1, weight_decay=0.01, max_grad_norm=0.5\n",
    "\n",
    "data = \"\"\"\n",
    "wandb:                test/loss 6.87788                                                                                                      \n",
    "wandb:               test/mrr@1 0.01385                                                                                                      \n",
    "wandb:              test/mrr@10 0.04439                                                                                                      \n",
    "wandb:              test/mrr@20 0.04922\n",
    "wandb:               test/mrr@5 0.03785\n",
    "wandb:              test/mrr@50 0.05327\n",
    "wandb:              test/ndcg@1 0.01385\n",
    "wandb:             test/ndcg@10 0.06521\n",
    "wandb:             test/ndcg@20 0.08274\n",
    "wandb:              test/ndcg@5 0.04902\n",
    "wandb:             test/ndcg@50 0.10827\n",
    "wandb:            test/recall@1 0.01385\n",
    "wandb:           test/recall@10 0.13385\n",
    "wandb:           test/recall@20 0.20308\n",
    "wandb:            test/recall@5 0.08308\n",
    "wandb:           test/recall@50 0.33231\n",
    "\"\"\"\n",
    "\n",
    "extract_metrics(data)"
   ]
  }
 ],
 "metadata": {
  "kernelspec": {
   "display_name": "mfz_trl",
   "language": "python",
   "name": "python3"
  },
  "language_info": {
   "codemirror_mode": {
    "name": "ipython",
    "version": 3
   },
   "file_extension": ".py",
   "mimetype": "text/x-python",
   "name": "python",
   "nbconvert_exporter": "python",
   "pygments_lexer": "ipython3",
   "version": "3.9.21"
  }
 },
 "nbformat": 4,
 "nbformat_minor": 2
}
