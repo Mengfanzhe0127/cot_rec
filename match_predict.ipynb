{
 "cells": [
  {
   "cell_type": "code",
   "execution_count": 1,
   "metadata": {},
   "outputs": [],
   "source": [
    "import re"
   ]
  },
  {
   "cell_type": "markdown",
   "metadata": {},
   "source": [
    "## 对于predict放到train中的情况"
   ]
  },
  {
   "cell_type": "code",
   "execution_count": 4,
   "metadata": {},
   "outputs": [],
   "source": [
    "def extract_metrics(data: str):\n",
    "    # 解析数据\n",
    "    metrics = {\n",
    "        \"recall\": {},\n",
    "        \"mrr\": {},\n",
    "        \"ndcg\": {}\n",
    "    }\n",
    "    \n",
    "    for line in data.strip().split(\"\\n\"):\n",
    "        match = re.search(r'wandb:\\s+train/predict_(\\w+)@(\\d+)\\s+([\\d.]+)', line)\n",
    "        if match:\n",
    "            metric, k, value = match.groups()\n",
    "            if metric in metrics:\n",
    "                metrics[metric][int(k)] = round(float(value), 4) # 保留小数点后四位\n",
    "    \n",
    "    # 按照 recall 1-50, mrr 1-50, ndcg 1-50 顺序整理\n",
    "    result = []\n",
    "    for metric in [\"recall\", \"mrr\", \"ndcg\"]:\n",
    "        for k in sorted(metrics[metric]):\n",
    "            result.append(str(metrics[metric][k]))\n",
    "    \n",
    "    return \", \".join(result)"
   ]
  },
  {
   "cell_type": "markdown",
   "metadata": {},
   "source": [
    "## predict独立的情况"
   ]
  },
  {
   "cell_type": "code",
   "execution_count": 3,
   "metadata": {},
   "outputs": [],
   "source": [
    "import re\n",
    "\n",
    "def extract_metrics(data: str):\n",
    "    # 解析数据\n",
    "    metrics = {\n",
    "        \"recall\": {},\n",
    "        \"mrr\": {},\n",
    "        \"ndcg\": {}\n",
    "    }\n",
    "    \n",
    "    for line in data.strip().split(\"\\n\"):\n",
    "        match = re.search(r'wandb:\\s+test/(\\w+)@(\\d+)\\s+([\\d.]+)', line)\n",
    "        if match:\n",
    "            metric, k, value = match.groups()\n",
    "            if metric in metrics:\n",
    "                metrics[metric][int(k)] = round(float(value), 4) # 保留小数点后四位\n",
    "    \n",
    "    # 按照 recall 1-50, mrr 1-50, ndcg 1-50 顺序整理\n",
    "    result = []\n",
    "    for metric in [\"recall\", \"mrr\", \"ndcg\"]:\n",
    "        for k in sorted(metrics[metric]):\n",
    "            result.append(str(metrics[metric][k]))\n",
    "    \n",
    "    return \", \".join(result)"
   ]
  },
  {
   "cell_type": "markdown",
   "metadata": {},
   "source": [
    "## filter_user"
   ]
  },
  {
   "cell_type": "code",
   "execution_count": 5,
   "metadata": {},
   "outputs": [
    {
     "data": {
      "text/plain": [
       "'0.0149, 0.0725, 0.1308, 0.2063, 0.3191, 0.0149, 0.0335, 0.0414, 0.0467, 0.0502, 0.0149, 0.043, 0.062, 0.0811, 0.1034'"
      ]
     },
     "execution_count": 5,
     "metadata": {},
     "output_type": "execute_result"
    }
   ],
   "source": [
    "# lr=5e-6, bs=2, num_negative_samples=64, gas=4\n",
    "\n",
    "data = \"\"\"\n",
    "wandb:              train/learning_rate 1e-05\n",
    "wandb:                       train/loss 2.9293\n",
    "wandb:               train/predict_loss 6.83972\n",
    "wandb:              train/predict_mrr@1 0.01495\n",
    "wandb:             train/predict_mrr@10 0.0414\n",
    "wandb:             train/predict_mrr@20 0.04666\n",
    "wandb:              train/predict_mrr@5 0.03346\n",
    "wandb:             train/predict_mrr@50 0.05017\n",
    "wandb:             train/predict_ndcg@1 0.01495\n",
    "wandb:            train/predict_ndcg@10 0.06204\n",
    "wandb:            train/predict_ndcg@20 0.08114\n",
    "wandb:             train/predict_ndcg@5 0.04302\n",
    "wandb:            train/predict_ndcg@50 0.1034\n",
    "wandb:           train/predict_recall@1 0.01495\n",
    "wandb:          train/predict_recall@10 0.13079\n",
    "wandb:          train/predict_recall@20 0.20628\n",
    "wandb:           train/predict_recall@5 0.0725\n",
    "wandb:          train/predict_recall@50 0.31913\n",
    "wandb:            train/predict_runtime 186.5982\n",
    "\"\"\"\n",
    "\n",
    "extract_metrics(data)"
   ]
  }
 ],
 "metadata": {
  "kernelspec": {
   "display_name": "mfz_trl",
   "language": "python",
   "name": "python3"
  },
  "language_info": {
   "codemirror_mode": {
    "name": "ipython",
    "version": 3
   },
   "file_extension": ".py",
   "mimetype": "text/x-python",
   "name": "python",
   "nbconvert_exporter": "python",
   "pygments_lexer": "ipython3",
   "version": "3.9.21"
  }
 },
 "nbformat": 4,
 "nbformat_minor": 2
}
