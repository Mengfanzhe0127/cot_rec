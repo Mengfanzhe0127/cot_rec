{
 "cells": [
  {
   "cell_type": "code",
   "execution_count": 1,
   "metadata": {},
   "outputs": [
    {
     "name": "stderr",
     "output_type": "stream",
     "text": [
      "/home/wangxiaolei/tool/mambaforge/envs/mfz_trl/lib/python3.9/site-packages/tqdm/auto.py:21: TqdmWarning: IProgress not found. Please update jupyter and ipywidgets. See https://ipywidgets.readthedocs.io/en/stable/user_install.html\n",
      "  from .autonotebook import tqdm as notebook_tqdm\n"
     ]
    }
   ],
   "source": [
    "import os\n",
    "import json\n",
    "import random\n",
    "import torch\n",
    "from transformers import AutoTokenizer\n",
    "import pandas as pd"
   ]
  },
  {
   "cell_type": "code",
   "execution_count": 2,
   "metadata": {},
   "outputs": [],
   "source": [
    "class DataArguments:\n",
    "    text_column_name = \"cot_result\"\n",
    "    label_column_name = \"target_movie\"\n",
    "    max_seq_length = 1536\n",
    "    item_max_length = 192\n",
    "    num_negative_samples = 7\n",
    "    movie_name_path = \"dataset/qwen/filtered_movies_qwen.csv\"\n",
    "    movie_info_path = \"dataset/redial/matched_dict_info_strip.json\"\n",
    "\n",
    "sample_data = [{\"cot_result\": \"Based on the user interaction records provided, let's analyze the user's movie preferences step by step:\\n\\n1. **Childhood Preference:**\\n   - The user mentions liking horror movies like \\\"Misery\\\" (1990) when they were a kid. This indicates an early interest in the horror genre, specifically psychological thrillers or horror with a strong narrative focus.\\n\\n2. **Current Preference:**\\n   - The user now prefers movies like \\\"The Martian\\\" (2015), which is a science fiction film that focuses on survival and problem-solving in a challenging environment. This suggests a current preference for intelligent, engaging, and thought-provoking content, particularly within the science fiction genre.\\n   - The user also mentions liking \\\"interesting content like that,\\\" which implies a general preference for movies that are intellectually stimulating and engaging.\\n\\n3. **Influence of a Friend:**\\n   - The user has a friend who loves comedies like \\\"Bad Moms\\\" (2016) and tries to get the user to watch similar movies. However, the user does not explicitly state that they enjoy these comedies, only that their friend does. This suggests that while the user might occasionally watch comedies, they are not a primary genre of interest for the user.\\n\\n**Inference:**\\n- The user's current movie preferences lean towards intelligent, engaging, and thought-provoking content, particularly within the science fiction genre. They seem to have outgrown their childhood preference for horror and now prefer movies that are intellectually stimulating and engaging, such as \\\"The Martian\\\" (2015).\\n- While the user might watch comedies occasionally due to their friend's influence, it does not appear to be a primary genre of interest for them.\\n\\n**Conclusion:**\\nThe user prefers intelligent, engaging, and thought-provoking content, especially within the science fiction genre, as exemplified by their enjoyment of \\\"The Martian\\\" (2015). They have moved away from their childhood preference for horror and do not seem to have a strong preference for comedies, despite their friend's influence.\",\n",
    "               \"target_movie\": \"The Princess Bride  (1987)\"},\n",
    "               {\"target_movie\": \"The Princess Bride  (1987)\", \n",
    "                \"cot_result\": \"Based on the user interaction records, we can infer several preferences and patterns in the user's movie tastes:\\n\\n1. **Action and Thriller Movies**: The user has a strong interest in action and thriller movies. This is evident from their mentions of \\\"John Wick (2014)\\\", \\\"Die Hard (1988)\\\", \\\"The Matrix (1999)\\\", \\\"Split (2017)\\\", \\\"Taken (2008)\\\", \\\"Taken 2 (2012)\\\", \\\"Ip Man (2008)\\\", and \\\"Mad Max: Fury Road (2015)\\\". They also mentioned enjoying \\\"Raiders of the Lost Ark (1981)\\\" and \\\"True Lies (1994)\\\" which are action and thriller films.\\n\\n2. **Comedy Movies**: The user enjoys comedy movies, as seen from their mentions of \\\"Liar Liar (1997)\\\", \\\"Ride Along 2 (2016)\\\", \\\"Central Intelligence (2016)\\\", \\\"Wedding Crashers (2005)\\\", \\\"Step Brothers (2008)\\\", \\\"The Hangover (2009)\\\", \\\"Bad Moms (2016)\\\", \\\"Anchorman: The Legend of Ron Burgundy (2004)\\\", \\\"21 Jump Street (2012)\\\", \\\"Elf (2003)\\\", \\\"The 40-Year-Old Virgin (2005)\\\", and \\\"Meet the Parents (2000)\\\".\\n\\n3. **Superhero and Fantasy Movies**: The user has an interest in superhero and fantasy movies, as indicated by their mentions of \\\"Wonder Woman (2017)\\\", \\\"Deadpool (2016)\\\", \\\"Guardians of the Galaxy (2014)\\\", \\\"Spider-Man: Homecoming (2017)\\\", \\\"The Avengers (2012)\\\", \\\"Justice League (2017)\\\", \\\"Harry Potter and the Goblet of Fire (2005)\\\", \\\"Stardust (2007)\\\", and \\\"Maleficent (2014)\\\".\\n\\n4. **Animated Movies**: The user enjoys animated movies, particularly those that are family-friendly and have a comedic element. This is shown by their mentions of \\\"The Secret Life of Pets (2016)\\\", \\\"The Lego Batman Movie (2017)\\\", \\\"Inside Out (2015)\\\", \\\"The Boss Baby (2017)\\\", \\\"Trolls (2016)\\\", \\\"Penguins of Madagascar (2014)\\\", and \\\"Tangled (2010)\\\".\\n\\n5. **Crime and Mystery Movies**: The user has an interest in crime and mystery movies, as seen from their mentions of \\\"Identity (2003)\\\" and \\\"Jigsaw (2017)\\\".\\n\\n6. **Romantic and Drama Movies**: The user has shown interest in romantic and drama movies, as indicated by their mentions of \\\"Steel Magnolias (1989)\\\" and \\\"The Break-Up (2006)\\\".\\n\\n7. **Interest in Sequels and Franchises**: The user seems to follow franchises and sequels, as seen from their mentions of \\\"Taken 2 (2012)\\\", \\\"Ride Along 2 (2016)\\\", and \\\"Wonder Woman (2017)\\\".\\n\\n8. **Interest in Recent Releases**: The user is interested in recent releases, as seen from their mentions of \\\"Wonder Woman (2017)\\\", \\\"Bright (2017)\\\", \\\"Girls Trip (2017)\\\", \\\"The House (2017)\\\", and \\\"Rough Night (2017)\\\".\\n\\nBased on these observations, the user's movie preferences can be summarized as a mix of action, comedy, superhero, fantasy, animated, crime, and drama movies, with a particular interest in recent releases and franchises.\"}\n",
    "               ,{\"initiatorWorkerId\": 147, \"conversationId\": \"16160\", \"messageId\": 161002, \"messages\": [\"Hi, Have you seen the new Jumanji  (2017)\", \"Yes, I've seen Night at the Museum: Secret of the Tomb (2014) too. Not as good as the first.\", \"I've heard about that. The Wonder  (2016) maybe a good one with kids.\", \"Jumanji  (2017)\", \"Logan  (2017)\", \"Jumanji  (2017)\", \"Wind River  (2017)\", \"The Hurt Locker (2008)\", \"She also loved Mr. Popper's Penguins \", \"Yes! Cute movie. As good as Finding Nemo (2003)\", \"She also loved Beauty and the Beast  (2017)\", \"Oh, I don't think She's seem the Monsters, Inc. (2001)\", \"Never seen Hoot  (2006) .\", \"I love The Princess Bride  (1987)\", \"Ohhh! Loved Because of Winn-Dixie  (2005) ! She's never seen it. What a good idea!\", \"Jumanji  (2017)\", \"Jumanji (1995)\", \"Logan  (2017)\", \"X-Men \", \"Jumanji  (2017)\", \"The Wonder  (2016)\", \"The Outsiders  (1983)\", \"Alien  (1979)\", \"Logan  (2017)\", \"X-Men  (2000)\", \"John Wick (2014)\", \"I hven't seen it. Was it as good as the Jumanji (1995) first one?\", \"Wasn't there a new Star Wars movie out?\", \"LOVE The Sandlot (1993)\", \"Angels in the Outfield  (1994)\", \"Jumanji (1995)\", \"The Outsiders  (1983)\", \"Wonder  (2017)\", \"Trolls  (2016)\", \"The Boss Baby (2017)\", \"Frozen  (2010)\", \"Star Wars: Episode VIII – The Last Jedi (2017)\", \"Star Wars: Episode VIII – The Last Jedi (2017)\", \"The Outsiders  (1983)\", \"The Last Picture Show (1971)\", \"Stand by Me  (1986)\", \"I do like old movie. We say Homeward Bound: The Incredible Journey (1993)\", \"Also The Sandlot (1993)\", \"I love animal movies...like Fly Away Home (1996)\", \"I would look for Kedi  (2010) . Thanks!\", \"Anything family friendly. We do like animal moves like Homeward Bound: The Incredible Journey (1993)\", \"We also like sports movies. Something like The Sandlot (1993)\", \"and Matilda  (1996)\", \"Coco  (2017)\", \"Homeward Bound: The Incredible Journey (1993)\", \"Aladdin  (1992)\", \"Beethoven  (1992)\", \"My grand daughter loved Homeward Bound: The Incredible Journey (1993)\", \"I think she will like The Avengers  (2012)\", \"I love some older moveis...like The Outsiders  (1983)\", \"Or Fly Away Home (1996)\", \"Because of Winn-Dixie  (2005)\", \"Homeward Bound: The Incredible Journey (1993)\", \"Fly Away Home (1996)\", \"Because of Winn-Dixie  (2005)\", \"All Dogs Go to Heaven 2 (1996)\", \"The Rescuers Down Under\", \"Older ones are fine, too. We just watched Air Bud (1997)\", \"Another one I still like is Lilo & Stitch\", \"Also love The Parent Trap  (1961)\", \"How about The Sandlot (1993) ?\", \"Homeward Bound: The Incredible Journey (1993)\", \"Maleficent  (2014)\", \"Star Wars\", \"Cars  (2006)\", \"The Lego Batman Movie (2017)\", \"The Outsider  (1981)\", \"My Cousin Vinny (1992)\", \"Four Weddings and a Funeral (1994)\", \"Spaceballs (1987)\", \"I just watched Fly Away Home (1996)\", \"I loved the first The Incredibles (2004)\", \"Oh, yes! The Parent Trap  (1998) with the Lindsey Lohan was good, too.\", \"I did like Maleficent  (2014) though.\", \"We watched The Sandlot (1993) recently and loved it.\", \"I do like Aladdin  (1992) !\", \"We don't mind older ones. We like movies like Homeward Bound: The Incredible Journey (1993)\", \"Love The Lion King (1994) ! Haven't watched in a long time!\", \"We also liked The Parent Trap  (1998)\", \"Also the older one The Parent Trap  (1961)\", \"Benji: Off the Leash! (2004)\", \"Fly Away Home (1996)\", \"Air Bud (1997)\", \"I liked Tarzan  (1999)\", \"We like old movies, too, like Homeward Bound: The Incredible Journey (1993)\", \"I liked Air Bud (1997)\", \"We liked Moana  (2016)\", \"Oh, Loved Mulan (1998)\", \"Lilo & Stitch is one of my favorite as we lived in Hawaii...\", \"We also like older movies like The Parent Trap  (1961)\", \"Out of Africa  (1985)\", \"Fat, Sick and Nearly Dead (2010)\", \"My all time favorite is The Outsiders  (1983)\", \"Another movie I liked is 50 First Dates (2004)\", \"The Patriots  (1994) was good, too.\", \"The Outsider  (1981)\", \"It  (2017)\", \"50 First Dates (2004)\", \"Maybe something long and boring like Out of Africa  (1985)\", \"Zoolander (2001) was funny too.\", \"Oh, I loved Dances with Wolves (1990) !\", \"Either. We did like Homeward Bound: The Incredible Journey (1993)\", \"Also enjoyed Moana  (2016)\", \"I liked Beethoven  (1992) but I don't think I've seen the other.\", \"I also like the original The Rescuers\", \"An American Tail: Fievel Goes West (1991) is another I liked.\", \"I like ones based on true events, like Hidden Figures (2016)\", \"Doesn't have to be true story...I liked Dances with Wolves (1990)\", \"The Boy in the Striped Pyjamas  (2008) was too sad...\", \"I think I'll look for The Pianist  (2002)\", \"Recently watched Hidden Figures (2016) and loved it.\"], \"target_movie\": \"The Outsiders  (1983)\", \"cot_result\": \"Based on the user interaction records, we can infer several preferences and patterns in the user's movie choices:\\n\\n1. **Family-Friendly Movies**: The user frequently mentions movies that are suitable for children and families, such as \\\"Homeward Bound: The Incredible Journey,\\\" \\\"The Sandlot,\\\" \\\"Fly Away Home,\\\" \\\"Lilo & Stitch,\\\" \\\"The Parent Trap,\\\" and \\\"Aladdin.\\\" This suggests a preference for movies that can be enjoyed by both children and adults.\\n\\n2. **Animal-Themed Movies**: There is a notable interest in movies that feature animals prominently, such as \\\"Homeward Bound: The Incredible Journey,\\\" \\\"Fly Away Home,\\\" \\\"Beethoven,\\\" and \\\"All Dogs Go to Heaven 2.\\\" This indicates a fondness for stories centered around animals.\\n\\n3. **Classic and Older Movies**: The user often refers to older movies, such as \\\"The Outsiders,\\\" \\\"The Parent Trap (1961),\\\" \\\"The Lion King,\\\" and \\\"Aladdin.\\\" This suggests a preference for classic films and a willingness to watch movies from different eras.\\n\\n4. **Adventure and Action Movies**: There are mentions of action and adventure movies like \\\"Jumanji (2017),\\\" \\\"Logan,\\\" \\\"The Hurt Locker,\\\" and \\\"John Wick.\\\" This indicates an interest in more intense and action-packed films.\\n\\n5. **Animated Movies**: Animated films are frequently mentioned, including \\\"Frozen,\\\" \\\"Trolls,\\\" \\\"Coco,\\\" \\\"The Incredibles,\\\" and \\\"Moana.\\\" This shows a preference for animated content, which can be enjoyed by a wide audience.\\n\\n6. **Movies Based on True Stories**: The user mentions enjoying movies based on true events, such as \\\"Hidden Figures\\\" and \\\"Dances with Wolves.\\\" This suggests an interest in films that are grounded in real-life stories.\\n\\n7. **Sports Movies**: There is a mention of liking sports movies, specifically \\\"The Sandlot,\\\" indicating a preference for films that incorporate sports themes.\\n\\n8. **Fantasy and Sci-Fi**: The user has shown interest in fantasy and science fiction movies, such as \\\"Star Wars: Episode VIII – The Last Jedi,\\\" \\\"The Princess Bride,\\\" and \\\"Beauty and the Beast (2017).\\\"\\n\\nBased on these observations, the user seems to have a diverse taste in movies, with a strong inclination towards family-friendly, animal-themed, and classic films, while also enjoying action, adventure, and animated content.\", \"id\": 4459}\n",
    "]\n",
    "\n",
    "movie_df = pd.read_csv(DataArguments.movie_name_path)\n",
    "movie_list = [name.strip() for name in movie_df[\"movieName\"]]\n",
    "\n",
    "with open(DataArguments.movie_info_path) as f:\n",
    "    movie_info_dict = json.load(f)\n",
    "\n",
    "tokenizer = AutoTokenizer.from_pretrained(\"/mnt/wangxiaolei/model/Qwen/gte-Qwen2-7B-instruct\")\n",
    "\n",
    "\n"
   ]
  },
  {
   "cell_type": "code",
   "execution_count": 3,
   "metadata": {},
   "outputs": [],
   "source": [
    "def create_movie_text(movie_name, movie_info_dict):\n",
    "    \"\"\"create structured movie text from movie name and movie info dict\"\"\"\n",
    "    movie_name = movie_name.strip()\n",
    "    assert movie_name in movie_info_dict, f\"Movie name {movie_name} not found in movie info dict\"\n",
    "\n",
    "    info = movie_info_dict[movie_name]\n",
    "    movie_text = f\"movie: {movie_name}\\n\"\n",
    "    movie_text += f\"title: {info['title']}\\n\"\n",
    "    movie_text += f\"year: {info['year']}\\n\"\n",
    "    movie_text += f\"genre: {', '.join(info['genre'])}\\n\"\n",
    "    movie_text += f\"director: {', '.join(info['director'])}\\n\"\n",
    "    movie_text += f\"writer: {', '.join(info['writer'])}\\n\"\n",
    "    movie_text += f\"star: {', '.join(info['star'])}\\n\"\n",
    "    movie_text += f\"plot: {info['plot']}\\n\"\n",
    "\n",
    "    return movie_text"
   ]
  },
  {
   "cell_type": "code",
   "execution_count": 4,
   "metadata": {},
   "outputs": [],
   "source": [
    "def preprocess_function(examples, tokenizer, movie_list, movie_info_dict, DataArguments):\n",
    "        user_texts = examples[DataArguments.text_column_name]\n",
    "        user_encodings = tokenizer(\n",
    "            user_texts,\n",
    "            padding=False, # 在data_collator中padding\n",
    "            max_length=DataArguments.max_seq_length,\n",
    "            truncation=True,\n",
    "        )\n",
    "\n",
    "        movie_name_to_idx = {name.strip(): i for i, name in enumerate(movie_list)}\n",
    "        num_negatives = DataArguments.num_negative_samples\n",
    "        batch_size = len(examples[DataArguments.label_column_name])\n",
    "\n",
    "        # 三维结构容器\n",
    "        all_item_texts = []\n",
    "        movie_indices = []\n",
    "\n",
    "        for i in range(batch_size):\n",
    "            # ========== 正样本处理 ==========\n",
    "            movie_name = examples[DataArguments.label_column_name][i].strip()\n",
    "            pos_idx = movie_name_to_idx[movie_name]\n",
    "            movie_indices.append(pos_idx)\n",
    "            \n",
    "            # ========== 负样本采样 ==========\n",
    "            all_indices = set(range(len(movie_list)))\n",
    "            all_indices.remove(pos_idx)\n",
    "            neg_indices = random.sample(list(all_indices), num_negatives)\n",
    "\n",
    "            # ========== 生成正负样本文本 ==========\n",
    "            pos_text = create_movie_text(movie_name, movie_info_dict)\n",
    "            neg_texts = [create_movie_text(movie_list[idx], movie_info_dict) for idx in neg_indices]\n",
    "            all_item_texts.extend([pos_text] + neg_texts)  # 先展平为二维结构\n",
    "\n",
    "        # ========== 逐样本分词 ==========\n",
    "        item_encodings = tokenizer(\n",
    "            all_item_texts,\n",
    "            padding=True,  # 在data_collator中统一填充\n",
    "            truncation=True,\n",
    "            max_length=DataArguments.item_max_length,\n",
    "            return_tensors=\"pt\",\n",
    "        )\n",
    "\n",
    "        num_items = 1 + num_negatives\n",
    "        return {\n",
    "            \"user_input_ids\": user_encodings[\"input_ids\"],\n",
    "            \"user_attention_mask\": user_encodings[\"attention_mask\"],\n",
    "            \"item_input_ids\": item_encodings[\"input_ids\"].view(batch_size, num_items, -1),\n",
    "            \"item_attention_mask\": item_encodings[\"attention_mask\"].view(batch_size, num_items, -1),\n",
    "            \"labels\": movie_indices,\n",
    "        } # 重新构造三维结构 [B, K+1, L]"
   ]
  },
  {
   "cell_type": "code",
   "execution_count": 12,
   "metadata": {},
   "outputs": [
    {
     "name": "stdout",
     "output_type": "stream",
     "text": [
      "用户输入 IDs： [[28715, 389, 279, 1196, 16230, 7424, 3897, 11, 1077, 594, 23643, 279, 1196, 594, 5700, 19322, 3019, 553, 3019, 1447, 16, 13, 3070, 3652, 5694, 48805, 25, 1019, 256, 481, 576, 1196, 33845, 48737, 21452, 9508, 1075, 330, 83159, 722, 1, 320, 16, 24, 24, 15, 8, 979, 807, 1033, 264, 10369, 13, 1096, 14807, 458, 4124, 2734, 304, 279, 21452, 17328, 11, 11689, 23187, 53804, 388, 476, 21452, 448, 264, 3746, 19221, 5244, 382, 17, 13, 3070, 5405, 48805, 25, 1019, 256, 481, 576, 1196, 1431, 53964, 9508, 1075, 330, 785, 81028, 1, 320, 17, 15, 16, 20, 701, 892, 374, 264, 8038, 16989, 4531, 429, 23497, 389, 19661, 323, 3491, 98146, 304, 264, 17003, 4573, 13, 1096, 13230, 264, 1482, 21933, 369, 24514, 11, 22570, 11, 323, 3381, 9838, 85, 10746, 2213, 11, 7945, 2878, 279, 8038, 16989, 17328, 624, 256, 481, 576, 1196, 1083, 33845, 48737, 330, 87557, 2213, 1075, 429, 1335, 892, 23945, 264, 4586, 21933, 369, 9508, 429, 525, 93291, 64692, 323, 22570, 382, 18, 13, 3070, 641, 40016, 315, 264, 11587, 25, 1019, 256, 481, 576, 1196, 702, 264, 4238, 879, 15803, 62013, 550, 1075, 330, 17082, 83295, 1, 320, 17, 15, 16, 21, 8, 323, 16297, 311, 633, 279, 1196, 311, 3736, 4428, 9508, 13, 4354, 11, 279, 1196, 1558, 537, 20975, 1584, 429, 807, 4669, 1493, 62013, 550, 11, 1172, 429, 862, 4238, 1558, 13, 1096, 13230, 429, 1393, 279, 1196, 2578, 22930, 3736, 62013, 550, 11, 807, 525, 537, 264, 6028, 17328, 315, 2734, 369, 279, 1196, 382, 334, 641, 2202, 25, 1019, 12, 576, 1196, 594, 1482, 5700, 19322, 15651, 6974, 24514, 11, 22570, 11, 323, 3381, 9838, 85, 10746, 2213, 11, 7945, 2878, 279, 8038, 16989, 17328, 13, 2379, 2803, 311, 614, 700, 61276, 862, 19990, 21933, 369, 21452, 323, 1431, 10702, 9508, 429, 525, 93291, 64692, 323, 22570, 11, 1741, 438, 330, 785, 81028, 1, 320, 17, 15, 16, 20, 4292, 12, 5976, 279, 1196, 2578, 3736, 62013, 550, 22930, 4152, 311, 862, 4238, 594, 10173, 11, 432, 1558, 537, 4994, 311, 387, 264, 6028, 17328, 315, 2734, 369, 1105, 382, 334, 43434, 25, 1019, 785, 1196, 53964, 24514, 11, 22570, 11, 323, 3381, 9838, 85, 10746, 2213, 11, 5310, 2878, 279, 8038, 16989, 17328, 11, 438, 37939, 1870, 553, 862, 44178, 315, 330, 785, 81028, 1, 320, 17, 15, 16, 20, 568, 2379, 614, 7726, 3123, 504, 862, 19990, 21933, 369, 21452, 323, 653, 537, 2803, 311, 614, 264, 3746, 21933, 369, 62013, 550, 11, 8818, 862, 4238, 594, 10173, 13], [28715, 389, 279, 1196, 16230, 7424, 11, 582, 646, 23583, 3807, 19322, 323, 12624, 304, 279, 1196, 594, 5700, 35163, 1447, 16, 13, 3070, 2512, 323, 29565, 15252, 25930, 95518, 576, 1196, 702, 264, 3746, 2734, 304, 1917, 323, 53361, 9508, 13, 1096, 374, 29476, 504, 862, 33845, 315, 330, 13079, 74106, 320, 17, 15, 16, 19, 11583, 330, 18175, 11232, 320, 16, 24, 23, 23, 11583, 330, 785, 11631, 320, 16, 24, 24, 24, 11583, 330, 20193, 320, 17, 15, 16, 22, 11583, 330, 65669, 320, 17, 15, 15, 23, 11583, 330, 65669, 220, 17, 320, 17, 15, 16, 17, 11583, 330, 23378, 2363, 320, 17, 15, 15, 23, 11583, 323, 330, 37036, 7487, 25, 49379, 9536, 320, 17, 15, 16, 20, 94010, 2379, 1083, 9733, 21413, 330, 49, 3779, 388, 315, 279, 27252, 22017, 320, 16, 24, 23, 16, 9940, 323, 330, 2514, 77086, 320, 16, 24, 24, 19, 9940, 892, 525, 1917, 323, 53361, 12351, 382, 17, 13, 3070, 1092, 9313, 25930, 95518, 576, 1196, 31738, 22358, 9508, 11, 438, 3884, 504, 862, 33845, 315, 330, 43, 13572, 444, 13572, 320, 16, 24, 24, 22, 11583, 330, 49, 577, 31844, 220, 17, 320, 17, 15, 16, 21, 11583, 330, 43403, 21392, 320, 17, 15, 16, 21, 11583, 330, 26503, 6968, 50335, 388, 320, 17, 15, 15, 20, 11583, 330, 8304, 33079, 320, 17, 15, 15, 23, 11583, 330, 785, 40775, 1975, 320, 17, 15, 15, 24, 11583, 330, 17082, 83295, 320, 17, 15, 16, 21, 11583, 330, 2082, 331, 62875, 25, 576, 26935, 315, 14325, 40009, 59185, 320, 17, 15, 15, 19, 11583, 330, 17, 16, 28788, 6686, 320, 17, 15, 16, 17, 11583, 330, 75832, 320, 17, 15, 15, 18, 11583, 330, 785, 220, 19, 15, 70898, 12, 18284, 11214, 320, 17, 15, 15, 20, 11583, 323, 330, 40551, 279, 42926, 320, 17, 15, 15, 15, 9940, 382, 18, 13, 3070, 19284, 17732, 323, 26484, 25930, 95518, 576, 1196, 702, 458, 2734, 304, 45144, 323, 18378, 9508, 11, 438, 16317, 553, 862, 33845, 315, 330, 61272, 24511, 320, 17, 15, 16, 22, 11583, 330, 28320, 10285, 320, 17, 15, 16, 21, 11583, 330, 20806, 5380, 315, 279, 19662, 320, 17, 15, 16, 19, 11583, 330, 72908, 30151, 25, 5379, 4959, 320, 17, 15, 16, 22, 11583, 330, 785, 43097, 320, 17, 15, 16, 17, 11583, 330, 69686, 8953, 320, 17, 15, 16, 22, 11583, 330, 41298, 29327, 323, 279, 479, 674, 1149, 315, 6647, 320, 17, 15, 15, 20, 11583, 330, 623, 567, 590, 320, 17, 15, 15, 22, 11583, 323, 330, 36421, 58628, 306, 320, 17, 15, 16, 19, 9940, 382, 19, 13, 3070, 35820, 25930, 95518, 576, 1196, 31738, 11371, 9508, 11, 7945, 1846, 429, 525, 2997, 21896, 323, 614, 264, 94371, 2392, 13, 1096, 374, 6839, 553, 862, 33845, 315, 330, 785, 8599, 9414, 315, 35886, 320, 17, 15, 16, 21, 11583, 330, 785, 64670, 26707, 13944, 320, 17, 15, 16, 22, 11583, 330, 24480, 4371, 320, 17, 15, 16, 20, 11583, 330, 785, 31569, 20617, 320, 17, 15, 16, 22, 11583, 330, 51, 38274, 320, 17, 15, 16, 21, 11583, 330, 47, 55358, 315, 94628, 320, 17, 15, 16, 19, 11583, 323, 330, 51, 38940, 320, 17, 15, 16, 15, 9940, 382, 20, 13, 3070, 91590, 323, 48005, 25930, 95518, 576, 1196, 702, 458, 2734, 304, 9778, 323, 22531, 9508, 11, 438, 3884, 504, 862, 33845, 315, 330, 18558, 320, 17, 15, 15, 18, 9940, 323, 330, 41, 86924, 320, 17, 15, 16, 22, 9940, 382, 21, 13, 3070, 44359, 8159, 323, 46469, 25930, 95518, 576, 1196, 702, 6839, 2734, 304, 23467, 323, 19584, 9508, 11, 438, 16317, 553, 862, 33845, 315, 330, 64948, 20300, 337, 3473, 320, 16, 24, 23, 24, 9940, 323, 330, 785, 15623, 46097, 320, 17, 15, 15, 21, 9940, 382, 22, 13, 3070, 34556, 304, 24811, 2010, 323, 2869, 3497, 4909, 95518, 576, 1196, 4977, 311, 1795, 63903, 323, 11256, 2010, 11, 438, 3884, 504, 862, 33845, 315, 330, 65669, 220, 17, 320, 17, 15, 16, 17, 11583, 330, 49, 577, 31844, 220, 17, 320, 17, 15, 16, 21, 11583, 323, 330, 61272, 24511, 320, 17, 15, 16, 22, 9940, 382, 23, 13, 3070, 34556, 304, 34290, 61015, 95518, 576, 1196, 374, 8014, 304, 3213, 19232, 11, 438, 3884, 504, 862, 33845, 315, 330, 61272, 24511, 320, 17, 15, 16, 22, 11583, 330, 74676, 320, 17, 15, 16, 22, 11583, 330, 74488, 26754, 320, 17, 15, 16, 22, 11583, 330, 785, 4678, 320, 17, 15, 16, 22, 11583, 323, 330, 49, 1384, 12826, 320, 17, 15, 16, 22, 9940, 382, 28715, 389, 1493, 23722, 11, 279, 1196, 594, 5700, 19322, 646, 387, 68629, 438, 264, 6514, 315, 1917, 11, 22358, 11, 45144, 11, 18378, 11, 11371, 11, 9778, 11, 323, 19584, 9508, 11, 448, 264, 3953, 2734, 304, 3213, 19232, 323, 63903, 13], [28715, 389, 279, 1196, 16230, 7424, 11, 582, 646, 23583, 3807, 19322, 323, 12624, 304, 279, 1196, 594, 5700, 11454, 1447, 16, 13, 3070, 15192, 7276, 17784, 25930, 95518, 576, 1196, 13814, 33845, 9508, 429, 525, 14452, 369, 2841, 323, 8521, 11, 1741, 438, 330, 49642, 24035, 37176, 25, 576, 79853, 42580, 1335, 330, 785, 8677, 9184, 1335, 330, 53000, 41481, 5379, 1335, 330, 43, 18045, 609, 67923, 1335, 330, 785, 17022, 52820, 1335, 323, 330, 2101, 97006, 1189, 1096, 13230, 264, 21933, 369, 9508, 429, 646, 387, 14006, 553, 2176, 2841, 323, 12598, 382, 17, 13, 3070, 41415, 70526, 16404, 25930, 95518, 2619, 374, 264, 27190, 2734, 304, 9508, 429, 4565, 9898, 72988, 11, 1741, 438, 330, 49642, 24035, 37176, 25, 576, 79853, 42580, 1335, 330, 53000, 41481, 5379, 1335, 330, 3430, 92522, 1335, 323, 330, 2403, 38425, 5994, 311, 31350, 220, 17, 1189, 1096, 14807, 264, 21208, 2090, 369, 7343, 30188, 2163, 9898, 382, 18, 13, 3070, 63331, 323, 53925, 25930, 95518, 576, 1196, 3545, 19257, 311, 9014, 9508, 11, 1741, 438, 330, 785, 85400, 13269, 1335, 330, 785, 17022, 52820, 320, 16, 24, 21, 16, 35393, 330, 785, 32099, 6210, 1335, 323, 330, 2101, 97006, 1189, 1096, 13230, 264, 21933, 369, 11416, 12351, 323, 264, 38275, 311, 3736, 9508, 504, 2155, 2714, 300, 382, 19, 13, 3070, 89098, 323, 5586, 25930, 95518, 2619, 525, 33845, 315, 1917, 323, 17943, 9508, 1075, 330, 41, 7136, 7754, 320, 17, 15, 16, 22, 35393, 330, 2201, 276, 1335, 330, 785, 86249, 93978, 1335, 323, 330, 13079, 74106, 1189, 1096, 14807, 458, 2734, 304, 803, 18894, 323, 1917, 69904, 12351, 382, 20, 13, 3070, 35820, 25930, 95518, 46888, 12351, 525, 13814, 9733, 11, 2670, 330, 91318, 1335, 330, 51, 38274, 1335, 330, 34, 13140, 1335, 330, 785, 758, 10844, 20410, 1335, 323, 330, 25612, 3362, 1189, 1096, 4933, 264, 21933, 369, 11371, 2213, 11, 892, 646, 387, 14006, 553, 264, 6884, 10650, 382, 21, 13, 3070, 40079, 20205, 389, 3007, 29029, 95518, 576, 1196, 33845, 21413, 9508, 3118, 389, 830, 4357, 11, 1741, 438, 330, 17506, 68256, 1, 323, 330, 35, 3020, 448, 63479, 1189, 1096, 13230, 458, 2734, 304, 12351, 429, 525, 44345, 304, 1931, 25843, 7343, 382, 22, 13, 3070, 40979, 25930, 95518, 2619, 374, 264, 6286, 315, 48737, 9833, 9508, 11, 11689, 330, 785, 8677, 9184, 1335, 18860, 264, 21933, 369, 12351, 429, 32335, 9833, 21386, 382, 23, 13, 3070, 56534, 6405, 323, 40372, 26299, 95518, 576, 1196, 702, 6839, 2734, 304, 18378, 323, 8038, 16989, 9508, 11, 1741, 438, 330, 12699, 14968, 25, 19832, 57233, 1365, 576, 7996, 40395, 1335, 330, 785, 29289, 77060, 1335, 323, 330, 93809, 323, 279, 33182, 320, 17, 15, 16, 22, 568, 1837, 28715, 389, 1493, 23722, 11, 279, 1196, 4977, 311, 614, 264, 16807, 12656, 304, 9508, 11, 448, 264, 3746, 75904, 6974, 2997, 21896, 11, 9864, 56589, 11, 323, 11416, 12351, 11, 1393, 1083, 21413, 1917, 11, 17943, 11, 323, 11371, 2213, 13]]\n",
      "用户输入 IDs 形状： 3\n",
      "用户输入 IDs 形状： 424\n",
      "用户掩码： [[1, 1, 1, 1, 1, 1, 1, 1, 1, 1, 1, 1, 1, 1, 1, 1, 1, 1, 1, 1, 1, 1, 1, 1, 1, 1, 1, 1, 1, 1, 1, 1, 1, 1, 1, 1, 1, 1, 1, 1, 1, 1, 1, 1, 1, 1, 1, 1, 1, 1, 1, 1, 1, 1, 1, 1, 1, 1, 1, 1, 1, 1, 1, 1, 1, 1, 1, 1, 1, 1, 1, 1, 1, 1, 1, 1, 1, 1, 1, 1, 1, 1, 1, 1, 1, 1, 1, 1, 1, 1, 1, 1, 1, 1, 1, 1, 1, 1, 1, 1, 1, 1, 1, 1, 1, 1, 1, 1, 1, 1, 1, 1, 1, 1, 1, 1, 1, 1, 1, 1, 1, 1, 1, 1, 1, 1, 1, 1, 1, 1, 1, 1, 1, 1, 1, 1, 1, 1, 1, 1, 1, 1, 1, 1, 1, 1, 1, 1, 1, 1, 1, 1, 1, 1, 1, 1, 1, 1, 1, 1, 1, 1, 1, 1, 1, 1, 1, 1, 1, 1, 1, 1, 1, 1, 1, 1, 1, 1, 1, 1, 1, 1, 1, 1, 1, 1, 1, 1, 1, 1, 1, 1, 1, 1, 1, 1, 1, 1, 1, 1, 1, 1, 1, 1, 1, 1, 1, 1, 1, 1, 1, 1, 1, 1, 1, 1, 1, 1, 1, 1, 1, 1, 1, 1, 1, 1, 1, 1, 1, 1, 1, 1, 1, 1, 1, 1, 1, 1, 1, 1, 1, 1, 1, 1, 1, 1, 1, 1, 1, 1, 1, 1, 1, 1, 1, 1, 1, 1, 1, 1, 1, 1, 1, 1, 1, 1, 1, 1, 1, 1, 1, 1, 1, 1, 1, 1, 1, 1, 1, 1, 1, 1, 1, 1, 1, 1, 1, 1, 1, 1, 1, 1, 1, 1, 1, 1, 1, 1, 1, 1, 1, 1, 1, 1, 1, 1, 1, 1, 1, 1, 1, 1, 1, 1, 1, 1, 1, 1, 1, 1, 1, 1, 1, 1, 1, 1, 1, 1, 1, 1, 1, 1, 1, 1, 1, 1, 1, 1, 1, 1, 1, 1, 1, 1, 1, 1, 1, 1, 1, 1, 1, 1, 1, 1, 1, 1, 1, 1, 1, 1, 1, 1, 1, 1, 1, 1, 1, 1, 1, 1, 1, 1, 1, 1, 1, 1, 1, 1, 1, 1, 1, 1, 1, 1, 1, 1, 1, 1, 1, 1, 1, 1, 1, 1, 1, 1, 1, 1, 1, 1, 1, 1, 1, 1, 1, 1, 1, 1, 1, 1, 1, 1, 1, 1, 1, 1, 1, 1, 1, 1, 1, 1, 1, 1], [1, 1, 1, 1, 1, 1, 1, 1, 1, 1, 1, 1, 1, 1, 1, 1, 1, 1, 1, 1, 1, 1, 1, 1, 1, 1, 1, 1, 1, 1, 1, 1, 1, 1, 1, 1, 1, 1, 1, 1, 1, 1, 1, 1, 1, 1, 1, 1, 1, 1, 1, 1, 1, 1, 1, 1, 1, 1, 1, 1, 1, 1, 1, 1, 1, 1, 1, 1, 1, 1, 1, 1, 1, 1, 1, 1, 1, 1, 1, 1, 1, 1, 1, 1, 1, 1, 1, 1, 1, 1, 1, 1, 1, 1, 1, 1, 1, 1, 1, 1, 1, 1, 1, 1, 1, 1, 1, 1, 1, 1, 1, 1, 1, 1, 1, 1, 1, 1, 1, 1, 1, 1, 1, 1, 1, 1, 1, 1, 1, 1, 1, 1, 1, 1, 1, 1, 1, 1, 1, 1, 1, 1, 1, 1, 1, 1, 1, 1, 1, 1, 1, 1, 1, 1, 1, 1, 1, 1, 1, 1, 1, 1, 1, 1, 1, 1, 1, 1, 1, 1, 1, 1, 1, 1, 1, 1, 1, 1, 1, 1, 1, 1, 1, 1, 1, 1, 1, 1, 1, 1, 1, 1, 1, 1, 1, 1, 1, 1, 1, 1, 1, 1, 1, 1, 1, 1, 1, 1, 1, 1, 1, 1, 1, 1, 1, 1, 1, 1, 1, 1, 1, 1, 1, 1, 1, 1, 1, 1, 1, 1, 1, 1, 1, 1, 1, 1, 1, 1, 1, 1, 1, 1, 1, 1, 1, 1, 1, 1, 1, 1, 1, 1, 1, 1, 1, 1, 1, 1, 1, 1, 1, 1, 1, 1, 1, 1, 1, 1, 1, 1, 1, 1, 1, 1, 1, 1, 1, 1, 1, 1, 1, 1, 1, 1, 1, 1, 1, 1, 1, 1, 1, 1, 1, 1, 1, 1, 1, 1, 1, 1, 1, 1, 1, 1, 1, 1, 1, 1, 1, 1, 1, 1, 1, 1, 1, 1, 1, 1, 1, 1, 1, 1, 1, 1, 1, 1, 1, 1, 1, 1, 1, 1, 1, 1, 1, 1, 1, 1, 1, 1, 1, 1, 1, 1, 1, 1, 1, 1, 1, 1, 1, 1, 1, 1, 1, 1, 1, 1, 1, 1, 1, 1, 1, 1, 1, 1, 1, 1, 1, 1, 1, 1, 1, 1, 1, 1, 1, 1, 1, 1, 1, 1, 1, 1, 1, 1, 1, 1, 1, 1, 1, 1, 1, 1, 1, 1, 1, 1, 1, 1, 1, 1, 1, 1, 1, 1, 1, 1, 1, 1, 1, 1, 1, 1, 1, 1, 1, 1, 1, 1, 1, 1, 1, 1, 1, 1, 1, 1, 1, 1, 1, 1, 1, 1, 1, 1, 1, 1, 1, 1, 1, 1, 1, 1, 1, 1, 1, 1, 1, 1, 1, 1, 1, 1, 1, 1, 1, 1, 1, 1, 1, 1, 1, 1, 1, 1, 1, 1, 1, 1, 1, 1, 1, 1, 1, 1, 1, 1, 1, 1, 1, 1, 1, 1, 1, 1, 1, 1, 1, 1, 1, 1, 1, 1, 1, 1, 1, 1, 1, 1, 1, 1, 1, 1, 1, 1, 1, 1, 1, 1, 1, 1, 1, 1, 1, 1, 1, 1, 1, 1, 1, 1, 1, 1, 1, 1, 1, 1, 1, 1, 1, 1, 1, 1, 1, 1, 1, 1, 1, 1, 1, 1, 1, 1, 1, 1, 1, 1, 1, 1, 1, 1, 1, 1, 1, 1, 1, 1, 1, 1, 1, 1, 1, 1, 1, 1, 1, 1, 1, 1, 1, 1, 1, 1, 1, 1, 1, 1, 1, 1, 1, 1, 1, 1, 1, 1, 1, 1, 1, 1, 1, 1, 1, 1, 1, 1, 1, 1, 1, 1, 1, 1, 1, 1, 1, 1, 1, 1, 1, 1, 1, 1, 1, 1, 1, 1, 1, 1, 1, 1, 1, 1, 1, 1, 1, 1, 1, 1, 1, 1, 1, 1, 1, 1, 1, 1, 1, 1, 1, 1, 1, 1, 1, 1, 1, 1, 1, 1, 1, 1, 1, 1, 1, 1, 1, 1, 1, 1, 1, 1, 1, 1, 1, 1, 1, 1, 1, 1, 1, 1, 1, 1, 1, 1, 1, 1, 1, 1, 1, 1, 1, 1, 1, 1, 1, 1, 1, 1, 1, 1, 1, 1, 1, 1, 1, 1, 1, 1, 1, 1, 1, 1, 1, 1, 1, 1, 1, 1, 1, 1, 1, 1, 1, 1, 1, 1, 1, 1, 1, 1, 1, 1, 1, 1, 1, 1, 1, 1, 1, 1, 1, 1, 1, 1, 1, 1, 1, 1, 1, 1, 1, 1, 1, 1, 1, 1, 1, 1, 1, 1, 1, 1, 1, 1, 1, 1, 1, 1, 1, 1, 1, 1, 1, 1, 1, 1, 1, 1, 1, 1, 1, 1, 1, 1, 1, 1, 1, 1, 1, 1, 1, 1, 1, 1, 1, 1, 1, 1, 1, 1, 1, 1, 1, 1, 1, 1, 1, 1, 1, 1, 1, 1, 1, 1, 1, 1], [1, 1, 1, 1, 1, 1, 1, 1, 1, 1, 1, 1, 1, 1, 1, 1, 1, 1, 1, 1, 1, 1, 1, 1, 1, 1, 1, 1, 1, 1, 1, 1, 1, 1, 1, 1, 1, 1, 1, 1, 1, 1, 1, 1, 1, 1, 1, 1, 1, 1, 1, 1, 1, 1, 1, 1, 1, 1, 1, 1, 1, 1, 1, 1, 1, 1, 1, 1, 1, 1, 1, 1, 1, 1, 1, 1, 1, 1, 1, 1, 1, 1, 1, 1, 1, 1, 1, 1, 1, 1, 1, 1, 1, 1, 1, 1, 1, 1, 1, 1, 1, 1, 1, 1, 1, 1, 1, 1, 1, 1, 1, 1, 1, 1, 1, 1, 1, 1, 1, 1, 1, 1, 1, 1, 1, 1, 1, 1, 1, 1, 1, 1, 1, 1, 1, 1, 1, 1, 1, 1, 1, 1, 1, 1, 1, 1, 1, 1, 1, 1, 1, 1, 1, 1, 1, 1, 1, 1, 1, 1, 1, 1, 1, 1, 1, 1, 1, 1, 1, 1, 1, 1, 1, 1, 1, 1, 1, 1, 1, 1, 1, 1, 1, 1, 1, 1, 1, 1, 1, 1, 1, 1, 1, 1, 1, 1, 1, 1, 1, 1, 1, 1, 1, 1, 1, 1, 1, 1, 1, 1, 1, 1, 1, 1, 1, 1, 1, 1, 1, 1, 1, 1, 1, 1, 1, 1, 1, 1, 1, 1, 1, 1, 1, 1, 1, 1, 1, 1, 1, 1, 1, 1, 1, 1, 1, 1, 1, 1, 1, 1, 1, 1, 1, 1, 1, 1, 1, 1, 1, 1, 1, 1, 1, 1, 1, 1, 1, 1, 1, 1, 1, 1, 1, 1, 1, 1, 1, 1, 1, 1, 1, 1, 1, 1, 1, 1, 1, 1, 1, 1, 1, 1, 1, 1, 1, 1, 1, 1, 1, 1, 1, 1, 1, 1, 1, 1, 1, 1, 1, 1, 1, 1, 1, 1, 1, 1, 1, 1, 1, 1, 1, 1, 1, 1, 1, 1, 1, 1, 1, 1, 1, 1, 1, 1, 1, 1, 1, 1, 1, 1, 1, 1, 1, 1, 1, 1, 1, 1, 1, 1, 1, 1, 1, 1, 1, 1, 1, 1, 1, 1, 1, 1, 1, 1, 1, 1, 1, 1, 1, 1, 1, 1, 1, 1, 1, 1, 1, 1, 1, 1, 1, 1, 1, 1, 1, 1, 1, 1, 1, 1, 1, 1, 1, 1, 1, 1, 1, 1, 1, 1, 1, 1, 1, 1, 1, 1, 1, 1, 1, 1, 1, 1, 1, 1, 1, 1, 1, 1, 1, 1, 1, 1, 1, 1, 1, 1, 1, 1, 1, 1, 1, 1, 1, 1, 1, 1, 1, 1, 1, 1, 1, 1, 1, 1, 1, 1, 1, 1, 1, 1, 1, 1, 1, 1, 1, 1, 1, 1, 1, 1, 1, 1, 1, 1, 1, 1, 1, 1, 1, 1, 1, 1, 1, 1, 1, 1, 1, 1, 1, 1, 1, 1, 1, 1, 1, 1, 1, 1, 1, 1, 1, 1, 1]]\n",
      "物品输入 IDs： tensor([[[ 20032,     25,    576,  ..., 151643, 151643, 151643],\n",
      "         [ 20032,     25,   4312,  ..., 151643, 151643, 151643],\n",
      "         [ 20032,     25,    576,  ..., 151643, 151643, 151643],\n",
      "         ...,\n",
      "         [ 20032,     25,  18635,  ..., 151643, 151643, 151643],\n",
      "         [ 20032,     25,  12554,  ..., 151643, 151643, 151643],\n",
      "         [ 20032,     25,  52435,  ..., 151643, 151643, 151643]],\n",
      "\n",
      "        [[ 20032,     25,    576,  ..., 151643, 151643, 151643],\n",
      "         [ 20032,     25,  54499,  ..., 151643, 151643, 151643],\n",
      "         [ 20032,     25,  17330,  ..., 151643, 151643, 151643],\n",
      "         ...,\n",
      "         [ 20032,     25,  32639,  ...,    862,   1828,    624],\n",
      "         [ 20032,     25,    576,  ..., 151643, 151643, 151643],\n",
      "         [ 20032,     25,    576,  ..., 151643, 151643, 151643]],\n",
      "\n",
      "        [[ 20032,     25,    576,  ..., 151643, 151643, 151643],\n",
      "         [ 20032,     25,   3651,  ..., 151643, 151643, 151643],\n",
      "         [ 20032,     25,  13255,  ..., 151643, 151643, 151643],\n",
      "         ...,\n",
      "         [ 20032,     25,    220,  ..., 151643, 151643, 151643],\n",
      "         [ 20032,     25,    576,  ..., 151643, 151643, 151643],\n",
      "         [ 20032,     25,   1230,  ..., 151643, 151643, 151643]]])\n",
      "物品掩码： tensor([[[1, 1, 1,  ..., 0, 0, 0],\n",
      "         [1, 1, 1,  ..., 0, 0, 0],\n",
      "         [1, 1, 1,  ..., 0, 0, 0],\n",
      "         ...,\n",
      "         [1, 1, 1,  ..., 0, 0, 0],\n",
      "         [1, 1, 1,  ..., 0, 0, 0],\n",
      "         [1, 1, 1,  ..., 0, 0, 0]],\n",
      "\n",
      "        [[1, 1, 1,  ..., 0, 0, 0],\n",
      "         [1, 1, 1,  ..., 0, 0, 0],\n",
      "         [1, 1, 1,  ..., 0, 0, 0],\n",
      "         ...,\n",
      "         [1, 1, 1,  ..., 1, 1, 1],\n",
      "         [1, 1, 1,  ..., 0, 0, 0],\n",
      "         [1, 1, 1,  ..., 0, 0, 0]],\n",
      "\n",
      "        [[1, 1, 1,  ..., 0, 0, 0],\n",
      "         [1, 1, 1,  ..., 0, 0, 0],\n",
      "         [1, 1, 1,  ..., 0, 0, 0],\n",
      "         ...,\n",
      "         [1, 1, 1,  ..., 0, 0, 0],\n",
      "         [1, 1, 1,  ..., 0, 0, 0],\n",
      "         [1, 1, 1,  ..., 0, 0, 0]]])\n",
      "标签： [986, 986, 2433]\n"
     ]
    }
   ],
   "source": [
    "from datasets import Dataset\n",
    "\n",
    "sample_dataset = Dataset.from_dict({\n",
    "    DataArguments.text_column_name: [d[\"cot_result\"] for d in sample_data],\n",
    "    DataArguments.label_column_name: [d[\"target_movie\"] for d in sample_data],\n",
    "})\n",
    "\n",
    "processed_output = preprocess_function(sample_dataset[:3], tokenizer, movie_list, movie_info_dict, DataArguments)\n",
    "\n",
    "# ========== 5. 结果检查 ==========\n",
    "print(\"用户输入 IDs：\", processed_output[\"user_input_ids\"])\n",
    "print(\"用户输入 IDs 形状：\", len(processed_output[\"user_input_ids\"]))\n",
    "print(\"用户输入 IDs 形状：\", len(processed_output[\"user_input_ids\"][0]))\n",
    "print(\"用户掩码：\", processed_output[\"user_attention_mask\"])\n",
    "print(\"物品输入 IDs：\", processed_output[\"item_input_ids\"])\n",
    "print(\"物品掩码：\", processed_output[\"item_attention_mask\"])\n",
    "print(\"标签：\", processed_output[\"labels\"])"
   ]
  },
  {
   "cell_type": "code",
   "execution_count": 16,
   "metadata": {},
   "outputs": [
    {
     "name": "stdout",
     "output_type": "stream",
     "text": [
      "Found 2 duplicate movies: ['Burlesque  (2010)', 'The Bridge  (2006)']\n",
      "4205 movies has been loaded\n",
      "Finish loading 4205 movie info\n"
     ]
    }
   ],
   "source": [
    "import pandas as pd\n",
    "import json\n",
    "\n",
    "movie_df = pd.read_csv(\"dataset/qwen/filtered_movies_qwen.csv\")\n",
    "movie_list_raw = [name.strip() for name in movie_df[\"movieName\"]]\n",
    "movie_set = set()\n",
    "duplicates = []\n",
    "for movie in movie_list_raw:\n",
    "    if movie in movie_set:\n",
    "        duplicates.append(movie)\n",
    "    else:\n",
    "        movie_set.add(movie)\n",
    "if duplicates:\n",
    "    print(f'Found {len(duplicates)} duplicate movies: {duplicates}')\n",
    "movie_list = list(movie_set)\n",
    "print(f\"{len(movie_list)} movies has been loaded\")\n",
    "\n",
    "with open(\"dataset/redial/matched_dict_info_strip.json\", 'r', encoding='utf-8') as f:\n",
    "    movie_info_dict = json.load(f)\n",
    "print(f\"Finish loading {len(movie_info_dict)} movie info\")"
   ]
  },
  {
   "cell_type": "code",
   "execution_count": 14,
   "metadata": {},
   "outputs": [
    {
     "name": "stdout",
     "output_type": "stream",
     "text": [
      "min_value: 0\n",
      "max_value: 4204\n",
      "min_key: The 'Burbs (1989)\n",
      "max_key: Rogue One: A Star Wars Story (2016)\n"
     ]
    }
   ],
   "source": [
    "movie_name_to_idx = {name.strip(): i for i, name in enumerate(movie_list)}\n",
    "\n",
    "# 获取movie_name_to_idx中的最小的value\n",
    "min_value = min(movie_name_to_idx.values())\n",
    "print(f'min_value: {min_value}')\n",
    "\n",
    "max_value = max(movie_name_to_idx.values())\n",
    "print(f'max_value: {max_value}')\n",
    "\n",
    "# 获取movie_name_to_idx中的最小的key\n",
    "min_key = min(movie_name_to_idx, key=movie_name_to_idx.get)\n",
    "print(f'min_key: {min_key}')\n",
    "\n",
    "# 获取movie_name_to_idx中的最大的key\n",
    "max_key = max(movie_name_to_idx, key=movie_name_to_idx.get)\n",
    "print(f'max_key: {max_key}')\n"
   ]
  },
  {
   "cell_type": "code",
   "execution_count": 5,
   "metadata": {},
   "outputs": [
    {
     "name": "stdout",
     "output_type": "stream",
     "text": [
      "发现以下重复的电影名称：\n",
      "电影名称: 'Burlesque  (2010)'\n",
      "对应的movieId: 99066, 164798\n",
      "--------------------------------------------------\n",
      "电影名称: 'The Bridge  (2006)'\n",
      "对应的movieId: 122411, 191956\n",
      "--------------------------------------------------\n"
     ]
    }
   ],
   "source": [
    "import pandas as pd\n",
    "from collections import defaultdict\n",
    "\n",
    "def find_duplicate_movies(csv_path):\n",
    "    # 读取CSV文件\n",
    "    df = pd.read_csv(csv_path)\n",
    "    \n",
    "    # 创建字典来存储处理后的电影名称和对应的movieId列表\n",
    "    movie_dict = defaultdict(list)\n",
    "    \n",
    "    # 遍历DataFrame的每一行\n",
    "    for index, row in df.iterrows():\n",
    "        movie_name = row['movieName'].strip()\n",
    "        movie_id = row['movieId']\n",
    "        movie_dict[movie_name].append(movie_id)\n",
    "    \n",
    "    # 找出有重复的电影名称\n",
    "    duplicates = {name: ids for name, ids in movie_dict.items() if len(ids) > 1}\n",
    "    \n",
    "    # 输出结果\n",
    "    if duplicates:\n",
    "        print(\"发现以下重复的电影名称：\")\n",
    "        for name, ids in duplicates.items():\n",
    "            print(f\"电影名称: '{name}'\")\n",
    "            print(f\"对应的movieId: {', '.join(map(str, ids))}\")\n",
    "            print(\"-\" * 50)\n",
    "    else:\n",
    "        print(\"没有发现重复的电影名称。\")\n",
    "\n",
    "# 使用函数\n",
    "csv_path = \"dataset/qwen/filtered_movies_qwen.csv\"\n",
    "find_duplicate_movies(csv_path)"
   ]
  }
 ],
 "metadata": {
  "kernelspec": {
   "display_name": "mfz_trl",
   "language": "python",
   "name": "python3"
  },
  "language_info": {
   "codemirror_mode": {
    "name": "ipython",
    "version": 3
   },
   "file_extension": ".py",
   "mimetype": "text/x-python",
   "name": "python",
   "nbconvert_exporter": "python",
   "pygments_lexer": "ipython3",
   "version": "3.9.21"
  }
 },
 "nbformat": 4,
 "nbformat_minor": 2
}
