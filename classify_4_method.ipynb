{
 "cells": [
  {
   "cell_type": "code",
   "execution_count": 1,
   "metadata": {},
   "outputs": [],
   "source": [
    "import re"
   ]
  },
  {
   "cell_type": "code",
   "execution_count": 2,
   "metadata": {},
   "outputs": [],
   "source": [
    "def extract_metrics(data: str):\n",
    "    # 解析数据\n",
    "    metrics = {\n",
    "        \"recall\": {},\n",
    "        \"mrr\": {},\n",
    "        \"ndcg\": {}\n",
    "    }\n",
    "    \n",
    "    for line in data.strip().split(\"\\n\"):\n",
    "        match = re.search(r'wandb:\\s+train/predict_(\\w+)@(\\d+)\\s+([\\d.]+)', line)\n",
    "        if match:\n",
    "            metric, k, value = match.groups()\n",
    "            if metric in metrics:\n",
    "                metrics[metric][int(k)] = round(float(value), 4) # 保留小数点后四位\n",
    "    \n",
    "    # 按照 recall 1-50, mrr 1-50, ndcg 1-50 顺序整理\n",
    "    result = []\n",
    "    for metric in [\"recall\", \"mrr\", \"ndcg\"]:\n",
    "        for k in sorted(metrics[metric]):\n",
    "            result.append(str(metrics[metric][k]))\n",
    "    \n",
    "    return \", \".join(result)"
   ]
  },
  {
   "cell_type": "markdown",
   "metadata": {},
   "source": [
    "## filter"
   ]
  },
  {
   "cell_type": "code",
   "execution_count": 4,
   "metadata": {},
   "outputs": [
    {
     "data": {
      "text/plain": [
       "'0.0181, 0.0588, 0.094, 0.1484, 0.2308, 0.0181, 0.0318, 0.0364, 0.0402, 0.0427, 0.0181, 0.0384, 0.0497, 0.0635, 0.0797'"
      ]
     },
     "execution_count": 4,
     "metadata": {},
     "output_type": "execute_result"
    }
   ],
   "source": [
    "# lr=5e-6, gas=16, bs=4\n",
    "\n",
    "data = \"\"\"\n",
    "wandb:                       train/loss 6.834\n",
    "wandb:               train/predict_loss 7.63146\n",
    "wandb:              train/predict_mrr@1 0.01813\n",
    "wandb:             train/predict_mrr@10 0.03638\n",
    "wandb:             train/predict_mrr@20 0.04018\n",
    "wandb:              train/predict_mrr@5 0.03177\n",
    "wandb:             train/predict_mrr@50 0.04271\n",
    "wandb:             train/predict_ndcg@1 0.01813\n",
    "wandb:            train/predict_ndcg@10 0.04971\n",
    "wandb:            train/predict_ndcg@20 0.06351\n",
    "wandb:             train/predict_ndcg@5 0.03843\n",
    "wandb:            train/predict_ndcg@50 0.07969\n",
    "wandb:           train/predict_recall@1 0.01813\n",
    "wandb:          train/predict_recall@10 0.09396\n",
    "wandb:          train/predict_recall@20 0.14835\n",
    "wandb:           train/predict_recall@5 0.05879\n",
    "wandb:          train/predict_recall@50 0.23077\n",
    "wandb:            train/predict_runtime 123.2537\n",
    "wandb: train/predict_samples_per_second 14.766\n",
    "wandb:   train/predict_steps_per_second 1.85\n",
    "wandb:                       train_loss 7.83732\n",
    "wandb:                    train_runtime 6564.7283\n",
    "wandb:         train_samples_per_second 2.799\n",
    "wandb:           train_steps_per_second 0.022\n",
    "\"\"\"\n",
    "\n",
    "extract_metrics(data)"
   ]
  },
  {
   "cell_type": "code",
   "execution_count": 8,
   "metadata": {},
   "outputs": [
    {
     "data": {
      "text/plain": [
       "'0.017, 0.067, 0.1033, 0.1434, 0.2357, 0.017, 0.0341, 0.0389, 0.0417, 0.0447, 0.017, 0.0422, 0.0539, 0.0641, 0.0824'"
      ]
     },
     "execution_count": 8,
     "metadata": {},
     "output_type": "execute_result"
    }
   ],
   "source": [
    "# lr=5e-6, gas=4, bs=4, epoch=1\n",
    "\n",
    "data = \"\"\"\n",
    "wandb:               train/predict_loss 7.71655\n",
    "wandb:              train/predict_mrr@1 0.01703\n",
    "wandb:             train/predict_mrr@10 0.03893\n",
    "wandb:             train/predict_mrr@20 0.04172\n",
    "wandb:              train/predict_mrr@5 0.0341\n",
    "wandb:             train/predict_mrr@50 0.04468\n",
    "wandb:             train/predict_ndcg@1 0.01703\n",
    "wandb:            train/predict_ndcg@10 0.05392\n",
    "wandb:            train/predict_ndcg@20 0.06407\n",
    "wandb:             train/predict_ndcg@5 0.04221\n",
    "wandb:            train/predict_ndcg@50 0.08243\n",
    "wandb:           train/predict_recall@1 0.01703\n",
    "wandb:          train/predict_recall@10 0.1033\n",
    "wandb:          train/predict_recall@20 0.14341\n",
    "wandb:           train/predict_recall@5 0.06703\n",
    "wandb:          train/predict_recall@50 0.23571\n",
    "wandb:            train/predict_runtime 120.9738\n",
    "wandb: train/predict_samples_per_second 15.045\n",
    "\"\"\"\n",
    "\n",
    "extract_metrics(data)"
   ]
  },
  {
   "cell_type": "code",
   "execution_count": 9,
   "metadata": {},
   "outputs": [
    {
     "data": {
      "text/plain": [
       "'0.0187, 0.0517, 0.0742, 0.1198, 0.1973, 0.0187, 0.0297, 0.0326, 0.0358, 0.0383, 0.0187, 0.0352, 0.0423, 0.0539, 0.0692'"
      ]
     },
     "execution_count": 9,
     "metadata": {},
     "output_type": "execute_result"
    }
   ],
   "source": [
    "# lr=1e-6, gas=4, bs=4, epoch=1\n",
    "\n",
    "data = \"\"\"\n",
    "wandb:                       train/loss 8.1445\n",
    "wandb:               train/predict_loss 7.72033\n",
    "wandb:              train/predict_mrr@1 0.01868\n",
    "wandb:             train/predict_mrr@10 0.03261\n",
    "wandb:             train/predict_mrr@20 0.03581\n",
    "wandb:              train/predict_mrr@5 0.02973\n",
    "wandb:             train/predict_mrr@50 0.03827\n",
    "wandb:             train/predict_ndcg@1 0.01868\n",
    "wandb:            train/predict_ndcg@10 0.0423\n",
    "wandb:            train/predict_ndcg@20 0.05387\n",
    "wandb:             train/predict_ndcg@5 0.03515\n",
    "wandb:            train/predict_ndcg@50 0.06922\n",
    "wandb:           train/predict_recall@1 0.01868\n",
    "wandb:          train/predict_recall@10 0.07418\n",
    "wandb:          train/predict_recall@20 0.11978\n",
    "wandb:           train/predict_recall@5 0.05165\n",
    "wandb:          train/predict_recall@50 0.19725\n",
    "wandb:            train/predict_runtime 121.9311\n",
    "wandb: train/predict_samples_per_second 14.926\n",
    "wandb:   train/predict_steps_per_second 1.87\n",
    "wandb:                       train_loss 8.20834\n",
    "wandb:                    train_runtime 6747.3813\n",
    "wandb:         train_samples_per_second 2.723\n",
    "\"\"\"\n",
    "\n",
    "extract_metrics(data)"
   ]
  },
  {
   "cell_type": "markdown",
   "metadata": {},
   "source": [
    "## filter_user"
   ]
  },
  {
   "cell_type": "code",
   "execution_count": 3,
   "metadata": {},
   "outputs": [
    {
     "data": {
      "text/plain": [
       "'0.0105, 0.0598, 0.0919, 0.1682, 0.2549, 0.0105, 0.0267, 0.0307, 0.036, 0.0387, 0.0105, 0.0348, 0.0449, 0.0642, 0.0814'"
      ]
     },
     "execution_count": 3,
     "metadata": {},
     "output_type": "execute_result"
    }
   ],
   "source": [
    "# lr=5e-6, gas=4, bs=4\n",
    "\n",
    "data = \"\"\"\n",
    "wandb:                       train/loss 6.6016\n",
    "wandb:               train/predict_loss 7.48954\n",
    "wandb:              train/predict_mrr@1 0.01046\n",
    "wandb:             train/predict_mrr@10 0.03071\n",
    "wandb:             train/predict_mrr@20 0.03596\n",
    "wandb:              train/predict_mrr@5 0.02667\n",
    "wandb:             train/predict_mrr@50 0.03873\n",
    "wandb:             train/predict_ndcg@1 0.01046\n",
    "wandb:            train/predict_ndcg@10 0.04495\n",
    "wandb:            train/predict_ndcg@20 0.06418\n",
    "wandb:             train/predict_ndcg@5 0.0348\n",
    "wandb:            train/predict_ndcg@50 0.08138\n",
    "wandb:           train/predict_recall@1 0.01046\n",
    "wandb:          train/predict_recall@10 0.09193\n",
    "wandb:          train/predict_recall@20 0.16816\n",
    "wandb:           train/predict_recall@5 0.05979\n",
    "wandb:          train/predict_recall@50 0.25486\n",
    "wandb:            train/predict_runtime 114.9731\n",
    "wandb: train/predict_samples_per_second 11.638\n",
    "wandb:   train/predict_steps_per_second 1.461\n",
    "wandb:                       train_loss 7.64995\n",
    "wandb:                    train_runtime 5138.1786\n",
    "wandb:         train_samples_per_second 2.095\n",
    "wandb:           train_steps_per_second 0.065\n",
    "\"\"\"\n",
    "\n",
    "extract_metrics(data)"
   ]
  },
  {
   "cell_type": "code",
   "execution_count": 4,
   "metadata": {},
   "outputs": [
    {
     "data": {
      "text/plain": [
       "'0.0187, 0.0463, 0.0807, 0.1241, 0.2003, 0.0187, 0.0285, 0.033, 0.0359, 0.0382, 0.0187, 0.0329, 0.044, 0.0548, 0.0697'"
      ]
     },
     "execution_count": 4,
     "metadata": {},
     "output_type": "execute_result"
    }
   ],
   "source": [
    "# lr=1e-6, gas=1, bs=4\n",
    "data = \"\"\"\n",
    "wandb:                      train/epoch 1\n",
    "wandb:                train/global_step 1346\n",
    "wandb:                  train/grad_norm 46.14608\n",
    "wandb:              train/learning_rate 0.0\n",
    "wandb:                       train/loss 7.0938\n",
    "wandb:               train/predict_loss 7.62948\n",
    "wandb:              train/predict_mrr@1 0.01868\n",
    "wandb:             train/predict_mrr@10 0.03301\n",
    "wandb:             train/predict_mrr@20 0.03593\n",
    "wandb:              train/predict_mrr@5 0.02849\n",
    "wandb:             train/predict_mrr@50 0.03823\n",
    "wandb:             train/predict_ndcg@1 0.01868\n",
    "wandb:            train/predict_ndcg@10 0.04397\n",
    "wandb:            train/predict_ndcg@20 0.05481\n",
    "wandb:             train/predict_ndcg@5 0.03291\n",
    "wandb:            train/predict_ndcg@50 0.0697\n",
    "wandb:           train/predict_recall@1 0.01868\n",
    "wandb:          train/predict_recall@10 0.08072\n",
    "wandb:          train/predict_recall@20 0.12407\n",
    "wandb:           train/predict_recall@5 0.04634\n",
    "wandb:          train/predict_recall@50 0.2003\n",
    "\"\"\"\n",
    "\n",
    "extract_metrics(data)"
   ]
  },
  {
   "cell_type": "code",
   "execution_count": 7,
   "metadata": {},
   "outputs": [
    {
     "data": {
      "text/plain": [
       "'0.012, 0.0568, 0.1091, 0.1585, 0.2564, 0.012, 0.0275, 0.0343, 0.0377, 0.0408, 0.012, 0.0348, 0.0514, 0.0639, 0.0834'"
      ]
     },
     "execution_count": 7,
     "metadata": {},
     "output_type": "execute_result"
    }
   ],
   "source": [
    "# lr=5e-6, gas=4, bs=4\n",
    "data = \"\"\"\n",
    "wandb:                       train/loss 6.8262\n",
    "wandb:               train/predict_loss 7.57838\n",
    "wandb:              train/predict_mrr@1 0.01196\n",
    "wandb:             train/predict_mrr@10 0.03425\n",
    "wandb:             train/predict_mrr@20 0.03768\n",
    "wandb:              train/predict_mrr@5 0.02753\n",
    "wandb:             train/predict_mrr@50 0.04085\n",
    "wandb:             train/predict_ndcg@1 0.01196\n",
    "wandb:            train/predict_ndcg@10 0.05141\n",
    "wandb:            train/predict_ndcg@20 0.0639\n",
    "wandb:             train/predict_ndcg@5 0.03475\n",
    "wandb:            train/predict_ndcg@50 0.0834\n",
    "wandb:           train/predict_recall@1 0.01196\n",
    "wandb:          train/predict_recall@10 0.10912\n",
    "wandb:          train/predict_recall@20 0.15845\n",
    "wandb:           train/predict_recall@5 0.0568\n",
    "wandb:          train/predict_recall@50 0.25635\n",
    "wandb:            train/predict_runtime 97.9088\n",
    "wandb: train/predict_samples_per_second 13.666\n",
    "wandb:   train/predict_steps_per_second 1.716\n",
    "wandb:                       train_loss 7.57084\n",
    "wandb:                    train_runtime 4482.601\n",
    "wandb:         train_samples_per_second 2.401\n",
    "wandb:           train_steps_per_second 0.075\n",
    "\"\"\"\n",
    "\n",
    "extract_metrics(data)"
   ]
  },
  {
   "cell_type": "code",
   "execution_count": 4,
   "metadata": {},
   "outputs": [
    {
     "data": {
      "text/plain": [
       "'0.012, 0.062, 0.1054, 0.1704, 0.2601, 0.012, 0.029, 0.0348, 0.0394, 0.0425, 0.012, 0.0372, 0.0512, 0.0678, 0.0859'"
      ]
     },
     "execution_count": 4,
     "metadata": {},
     "output_type": "execute_result"
    }
   ],
   "source": [
    "# lr=5e-6, gas=4, bs=4\n",
    "data = \"\"\"\n",
    "wandb:                       train/loss 7.2305\n",
    "wandb:               train/predict_loss 7.52943\n",
    "wandb:              train/predict_mrr@1 0.01196\n",
    "wandb:             train/predict_mrr@10 0.03484\n",
    "wandb:             train/predict_mrr@20 0.03944\n",
    "wandb:              train/predict_mrr@5 0.029\n",
    "wandb:             train/predict_mrr@50 0.04247\n",
    "wandb:             train/predict_ndcg@1 0.01196\n",
    "wandb:            train/predict_ndcg@10 0.05123\n",
    "wandb:            train/predict_ndcg@20 0.06779\n",
    "wandb:             train/predict_ndcg@5 0.03716\n",
    "wandb:            train/predict_ndcg@50 0.08589\n",
    "wandb:           train/predict_recall@1 0.01196\n",
    "wandb:          train/predict_recall@10 0.10538\n",
    "wandb:          train/predict_recall@20 0.1704\n",
    "wandb:           train/predict_recall@5 0.06203\n",
    "wandb:          train/predict_recall@50 0.26009\n",
    "wandb:            train/predict_runtime 89.7663\n",
    "wandb: train/predict_samples_per_second 14.905\n",
    "wandb:   train/predict_steps_per_second 1.872\n",
    "wandb:                       train_loss 7.58666\n",
    "wandb:                    train_runtime 4194.254\n",
    "wandb:         train_samples_per_second 2.566\n",
    "wandb:           train_steps_per_second 0.08\n",
    "\"\"\"\n",
    "\n",
    "extract_metrics(data)"
   ]
  },
  {
   "cell_type": "code",
   "execution_count": 5,
   "metadata": {},
   "outputs": [
    {
     "data": {
      "text/plain": [
       "'0.0224, 0.0598, 0.1061, 0.1562, 0.2302, 0.0224, 0.0348, 0.041, 0.0444, 0.0467, 0.0224, 0.041, 0.0559, 0.0685, 0.083'"
      ]
     },
     "execution_count": 5,
     "metadata": {},
     "output_type": "execute_result"
    }
   ],
   "source": [
    "# lr=5e-6, gas=8, bs=4\n",
    "data = \"\"\"\n",
    "wandb:                       train/loss 6.9043\n",
    "wandb:               train/predict_loss 7.52672\n",
    "wandb:              train/predict_mrr@1 0.02242\n",
    "wandb:             train/predict_mrr@10 0.04097\n",
    "wandb:             train/predict_mrr@20 0.04442\n",
    "wandb:              train/predict_mrr@5 0.03482\n",
    "wandb:             train/predict_mrr@50 0.04667\n",
    "wandb:             train/predict_ndcg@1 0.02242\n",
    "wandb:            train/predict_ndcg@10 0.05592\n",
    "wandb:            train/predict_ndcg@20 0.06854\n",
    "wandb:             train/predict_ndcg@5 0.04096\n",
    "wandb:            train/predict_ndcg@50 0.08304\n",
    "wandb:           train/predict_recall@1 0.02242\n",
    "wandb:          train/predict_recall@10 0.10613\n",
    "wandb:          train/predict_recall@20 0.1562\n",
    "wandb:           train/predict_recall@5 0.05979\n",
    "wandb:          train/predict_recall@50 0.23019\n",
    "wandb:            train/predict_runtime 90.2848\n",
    "wandb: train/predict_samples_per_second 14.82\n",
    "wandb:   train/predict_steps_per_second 1.861\n",
    "wandb:                       train_loss 7.84099\n",
    "wandb:                    train_runtime 3889.9187\n",
    "wandb:         train_samples_per_second 2.767\n",
    "wandb:           train_steps_per_second 0.043\n",
    "\"\"\"\n",
    "\n",
    "extract_metrics(data)"
   ]
  },
  {
   "cell_type": "code",
   "execution_count": 6,
   "metadata": {},
   "outputs": [
    {
     "data": {
      "text/plain": [
       "'0.0194, 0.0575, 0.1024, 0.1614, 0.2399, 0.0194, 0.0313, 0.0374, 0.0413, 0.0439, 0.0194, 0.0377, 0.0523, 0.067, 0.0827'"
      ]
     },
     "execution_count": 6,
     "metadata": {},
     "output_type": "execute_result"
    }
   ],
   "source": [
    "# lr=1e-5, gas=8, bs=4\n",
    "data = \"\"\"\n",
    "wandb:                       train/loss 6.7617\n",
    "wandb:               train/predict_loss 7.55746\n",
    "wandb:              train/predict_mrr@1 0.01943\n",
    "wandb:             train/predict_mrr@10 0.03739\n",
    "wandb:             train/predict_mrr@20 0.04133\n",
    "wandb:              train/predict_mrr@5 0.0313\n",
    "wandb:             train/predict_mrr@50 0.04388\n",
    "wandb:             train/predict_ndcg@1 0.01943\n",
    "wandb:            train/predict_ndcg@10 0.05231\n",
    "wandb:            train/predict_ndcg@20 0.06704\n",
    "wandb:             train/predict_ndcg@5 0.0377\n",
    "wandb:            train/predict_ndcg@50 0.08268\n",
    "wandb:           train/predict_recall@1 0.01943\n",
    "wandb:          train/predict_recall@10 0.10239\n",
    "wandb:          train/predict_recall@20 0.16143\n",
    "wandb:           train/predict_recall@5 0.05755\n",
    "wandb:          train/predict_recall@50 0.23991\n",
    "wandb:            train/predict_runtime 89.9882\n",
    "wandb: train/predict_samples_per_second 14.869\n",
    "wandb:   train/predict_steps_per_second 1.867\n",
    "wandb:                       train_loss 7.60338\n",
    "wandb:                    train_runtime 3891.6315\n",
    "wandb:         train_samples_per_second 2.766\n",
    "wandb:           train_steps_per_second 0.043\n",
    "\"\"\"\n",
    "\n",
    "extract_metrics(data)"
   ]
  },
  {
   "cell_type": "code",
   "execution_count": 1,
   "metadata": {},
   "outputs": [],
   "source": [
    "import re\n",
    "\n",
    "def extract_metrics(data: str):\n",
    "    # 解析数据\n",
    "    metrics = {\n",
    "        \"recall\": {},\n",
    "        \"mrr\": {},\n",
    "        \"ndcg\": {}\n",
    "    }\n",
    "    \n",
    "    for line in data.strip().split(\"\\n\"):\n",
    "        match = re.search(r'wandb:\\s+test/(\\w+)@(\\d+)\\s+([\\d.]+)', line)\n",
    "        if match:\n",
    "            metric, k, value = match.groups()\n",
    "            if metric in metrics:\n",
    "                metrics[metric][int(k)] = round(float(value), 4) # 保留小数点后四位\n",
    "    \n",
    "    # 按照 recall 1-50, mrr 1-50, ndcg 1-50 顺序整理\n",
    "    result = []\n",
    "    for metric in [\"recall\", \"mrr\", \"ndcg\"]:\n",
    "        for k in sorted(metrics[metric]):\n",
    "            result.append(str(metrics[metric][k]))\n",
    "    \n",
    "    return \", \".join(result)"
   ]
  },
  {
   "cell_type": "code",
   "execution_count": 5,
   "metadata": {},
   "outputs": [
    {
     "data": {
      "text/plain": [
       "'0.0149, 0.0658, 0.1039, 0.1674, 0.2564, 0.0149, 0.0323, 0.0375, 0.0418, 0.0446, 0.0149, 0.0406, 0.053, 0.0689, 0.0866'"
      ]
     },
     "execution_count": 5,
     "metadata": {},
     "output_type": "execute_result"
    }
   ],
   "source": [
    "# lr=5e-6, gas=4, bs=4\n",
    "\n",
    "data = \"\"\"\n",
    "wandb:    eval/steps_per_second 1.656\n",
    "wandb:                test/loss 7.52625\n",
    "wandb:               test/mrr@1 0.01495\n",
    "wandb:              test/mrr@10 0.03751\n",
    "wandb:              test/mrr@20 0.04177\n",
    "wandb:               test/mrr@5 0.03234\n",
    "wandb:              test/mrr@50 0.04463\n",
    "wandb:              test/ndcg@1 0.01495\n",
    "wandb:             test/ndcg@10 0.053\n",
    "wandb:             test/ndcg@20 0.06889\n",
    "wandb:              test/ndcg@5 0.04059\n",
    "wandb:             test/ndcg@50 0.08657\n",
    "wandb:            test/recall@1 0.01495\n",
    "wandb:           test/recall@10 0.10389\n",
    "wandb:           test/recall@20 0.16741\n",
    "wandb:            test/recall@5 0.06577\n",
    "wandb:           test/recall@50 0.25635\n",
    "wandb:             test/runtime 89.6467\n",
    "\"\"\"\n",
    "\n",
    "extract_metrics(data)"
   ]
  },
  {
   "cell_type": "markdown",
   "metadata": {},
   "source": [
    "## all_user"
   ]
  },
  {
   "cell_type": "code",
   "execution_count": 2,
   "metadata": {},
   "outputs": [
    {
     "data": {
      "text/plain": [
       "'0.0288, 0.094, 0.1481, 0.2232, 0.3353, 0.0288, 0.0514, 0.0585, 0.0636, 0.0672, 0.0288, 0.0619, 0.0792, 0.0981, 0.1204'"
      ]
     },
     "execution_count": 2,
     "metadata": {},
     "output_type": "execute_result"
    }
   ],
   "source": [
    "# lr=1e-6, gas=1, bs=4\n",
    "\n",
    "data = \"\"\"\n",
    "wandb:                test/loss 7.35124\n",
    "wandb:               test/mrr@1 0.02884\n",
    "wandb:              test/mrr@10 0.05845\n",
    "wandb:              test/mrr@20 0.06358\n",
    "wandb:               test/mrr@5 0.05141\n",
    "wandb:              test/mrr@50 0.06716\n",
    "wandb:              test/ndcg@1 0.02884\n",
    "wandb:             test/ndcg@10 0.07924\n",
    "wandb:             test/ndcg@20 0.09814\n",
    "wandb:              test/ndcg@5 0.06193\n",
    "wandb:             test/ndcg@50 0.1204\n",
    "wandb:            test/recall@1 0.02884\n",
    "wandb:           test/recall@10 0.1481\n",
    "wandb:           test/recall@20 0.22321\n",
    "wandb:            test/recall@5 0.09398\n",
    "wandb:           test/recall@50 0.33535\n",
    "wandb:             test/runtime 176.8912\n",
    "\"\"\"\n",
    "\n",
    "extract_metrics(data)"
   ]
  },
  {
   "cell_type": "code",
   "execution_count": 3,
   "metadata": {},
   "outputs": [
    {
     "data": {
      "text/plain": [
       "'0.031, 0.0965, 0.1509, 0.2175, 0.3471, 0.031, 0.0523, 0.0593, 0.064, 0.0681, 0.031, 0.0631, 0.0805, 0.0974, 0.1231'"
      ]
     },
     "execution_count": 3,
     "metadata": {},
     "output_type": "execute_result"
    }
   ],
   "source": [
    "# lr=5e-6, gas=4, bs=4\n",
    "\n",
    "data = \"\"\"\n",
    "wandb:                test/loss 7.29427\n",
    "wandb:               test/mrr@1 0.03097\n",
    "wandb:              test/mrr@10 0.05935\n",
    "wandb:              test/mrr@20 0.06399\n",
    "wandb:               test/mrr@5 0.05228\n",
    "wandb:              test/mrr@50 0.06813\n",
    "wandb:              test/ndcg@1 0.03097\n",
    "wandb:             test/ndcg@10 0.08053\n",
    "wandb:             test/ndcg@20 0.09737\n",
    "wandb:              test/ndcg@5 0.06312\n",
    "wandb:             test/ndcg@50 0.12312\n",
    "wandb:            test/recall@1 0.03097\n",
    "wandb:           test/recall@10 0.15094\n",
    "wandb:           test/recall@20 0.21752\n",
    "wandb:            test/recall@5 0.09648\n",
    "wandb:           test/recall@50 0.3471\n",
    "wandb:             test/runtime 184.2828\n",
    "wandb:  test/samples_per_second 15.243\n",
    "wandb:    test/steps_per_second 1.91\n",
    "wandb:               total_flos 129691563171840.0\n",
    "wandb:              train/epoch 0.99925\n",
    "wandb:        train/global_step 994\n",
    "wandb:          train/grad_norm 22.93519\n",
    "wandb:      train/learning_rate 1e-05\n",
    "wandb:               train/loss 6.127\n",
    "wandb:               train_loss 6.67241\n",
    "wandb:            train_runtime 11764.7224\n",
    "wandb: train_samples_per_second 2.705\n",
    "wandb:   train_steps_per_second 0.084\n",
    "\"\"\"\n",
    "\n",
    "extract_metrics(data)"
   ]
  }
 ],
 "metadata": {
  "kernelspec": {
   "display_name": "mfz_trl",
   "language": "python",
   "name": "python3"
  },
  "language_info": {
   "codemirror_mode": {
    "name": "ipython",
    "version": 3
   },
   "file_extension": ".py",
   "mimetype": "text/x-python",
   "name": "python",
   "nbconvert_exporter": "python",
   "pygments_lexer": "ipython3",
   "version": "3.9.21"
  }
 },
 "nbformat": 4,
 "nbformat_minor": 2
}
