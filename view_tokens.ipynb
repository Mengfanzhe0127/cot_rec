{
 "cells": [
  {
   "cell_type": "code",
   "execution_count": 1,
   "metadata": {},
   "outputs": [],
   "source": [
    "import json"
   ]
  },
  {
   "cell_type": "code",
   "execution_count": 3,
   "metadata": {},
   "outputs": [
    {
     "name": "stdout",
     "output_type": "stream",
     "text": [
      "2048\n"
     ]
    }
   ],
   "source": [
    "from transformers import AutoTokenizer\n",
    "\n",
    "tokenizer = AutoTokenizer.from_pretrained(\"/mnt/wangxiaolei/model/Qwen/gte-Qwen2-7B-instruct\")\n",
    "\n",
    "data = \"\"\"there how are you\\nSystem: I am doing well, thank you\\nUser: I'm great, do you have any movie suggestions\\nUser: Drama\\nSystem: Have you seen Tombstone  (1993)?\\nUser: I've seen that\\nUser: can't really remember it now but have seen it\\nUser: was it with Costner?\\nSystem: No it was with Kurt Russell\\nSystem: What about Forrest Gump (1994)? That's one of my favorites.\\nUser: yeah thats right. I think costner did a movie also about Wyatt Earp\\nUser: Love forest gump, one of my favourites\\nUser: have you seen Good Will Hunting (1997)\\nSystem: Yes Wyatt Earp  (1994) . But I personally think Tombstone is way better\\nUser: okay\\nSystem: Believe it or not, I have not seen that movie.\\nUser: Its kind of gritty but a great drama\\nSystem: The Green Mile  (1999) is another good one\\nUser: seen that. need to watch again though\\nSystem: And of course, there is always Rocky (1976)\\nUser: seen that. I only really liked the first one\\nUser: nice chatting with you. take care\\nSystem: Thanks. Have a good evening.\\n\\n5. Conversation\\nSystem: hi!\\nUser: hi there\\nSystem: What kind of movies do you like? Comedy?\\nUser: do you know any good sci-fi's?\\nSystem: Yes! Have you seen @blade rumm\\nSystem: Blade Runner 2049 (2017) ?\\nUser: seen the old one but will see the new one soon. hope its as good\\nSystem: That is a good movie! Same with Guardians of the Galaxy Vol. 2 (2017)  if your into the superhero one.\\nSystem: It better!!\\nSystem: All the actors in that movie are amazing\\nUser: seen the guardians 2\\nSystem: Logan  (2017) is another great movie with some drama\\nUser: I prefer part one though\\nUser: Love logan\\nUser: one of the best Xmen movies ever\\nSystem: It was! The saddest ending but it was perfect. Flatliners  (2017) with Ellen Page is another good one it came out this year\\nUser: haven't seen that one but saw the first one with Keifer Sutherland\\nUser: saw the trailer though looks quite scary\\nUser: anyways nice chatting with you\\nSystem: I haven't seen the one your talking about but this was was really good and filled with suspense so I would definitely recommend it.\\nSystem: Thank you. Goodbye\\n\\n6. Conversation\\nSystem: hi!\\nUser: hi there\\nSystem: What kind of movies do you like?Romance?comedy?\\nUser: how about comedy\\nSystem: Why Him%3F (2016) with James Franco, Bryan Cranston, and Zoey Deutch is a good funny movie\\nSystem: It kind of runs in the same crowd as Superbad  (2007) and Knocked Up (2007)\\nUser: Yeah I've seen that one. Romance slash comedy\\nUser: seen super bad and knocked up also\\nUser: both quite funny.\\nUser: like Seth Rogan\\nUser: I like him in Pineapple Express  (2008)\\nSystem: what about Sausage Party since you like Seth Rogan?\\nUser: haven't seen that one. Will have to watch it\\nUser: thanks for that\\nSystem: That one has the same people and is hilarious. It has Jonah hill, seth rogen, james franco.Have you seen Forgetting Sarah Marshall (2008) with Mila Kunis that one is also a funny movie.\\nUser: seen it. didn't really like it\\nUser: thanks nice chatting with you\\nSystem: Nice chatting with you, goodbye\\n\\n7. Click\\nThe Last of the Mohicans  (1992)\\nZero Dark Thirty (2012)\\n\\n8. Conversation\\nSystem: Hello, what kind of movie are you looking for?\\nUser: hithere\\nUser: I looking for drama\\nUser: any good suggestions\\nUser: I like Wall Street  (1987)\\nSystem: How about One Hour Photo (2002) with Robin Williams?\\nUser: T\\nUser: sorry\\nUser: I saw that movie\\nSystem: Did you like it?\\nUser: I felt quite depressed afterwards\\nUser: I like The Big Short  (2015)\\nSystem: Yeah it's pretty intense. Have you seen Extremely Loud and Incredibly Close  (2011) ? It's another sad one.\\nUser: No I haven't. Is it any good?\\nSystem: Yes, it has Sandra Bullock and Tom Hanks. It's about a boy that loses his father on 9/11.\\nUser: will have to see that one than.\\nUser: thanks for that\\nSystem: You're welcome. Would you like another suggestion?\\n\\n9. Conversation\\nUser: hi there\\nSystem: Hello, what kind of movie are you looking for?\\nUser: know any good sci-fi's\\nSystem: Do you prefer modern ones or classics?\\nUser: Both really. Some the classics like Blade Runner (1982) is my favourite\\nUser: I also like movies like Interstellar  (2014)\\nSystem: Ok, how about Gravity  (2013)?\\nUser: Seen that. It's sci-fi but more of a great drama/thriller\\nUser: anymore suggestions?\\nSystem: Yeah, I didn't really care for it. How about Invasion of the Body Snatchers (1956)? It's an oldie, but a goodie.\\nUser: I need to see Thor: Ragnarok (2017)\\nUser: yeah I've seen that one also. A classic\\nUser: They also did a remake with nicole kidman\\nSystem: Yep. Ok, what about The Fly  (1958)?\\nUser: haven't seen that. I might have to watch that one.\\nUser: thanks dude\\nSystem: You're welcome\\n\\n10. Conversation\\nSystem: Hello, what kind of movie are you looking for?\\nUser: hi there\\nUser: I'm looking for an action movie\\nSystem: How about War of the Worlds  (2005)\\nUser: seen that one. it was good\\nUser: I kinda like John Wick (2014)\\nUser: The Matrix (1999)\\nSystem: I haven't seen either one of those. What about Indiana Jones and the Temple of Doom (1984) ?\\nUser: thats a classic. Definitely seen all the indiana jones movies\\nUser: what movies do you like?\\nUser: I also like The Gladiator \\nSystem: I haven't seen that one. I prefer classics like Our Vines Have Tender Grapes (1945)\\nUser: you like the oldies. Well thanks for the suggestions.\\nSystem: You're welcome\\n\\n11. Click\\nSeven  (1995)\\nVertigo  (1958)\\n\\n12. Conversation\\nUser: hi there\\nSystem: Hello\\nUser: any good comedy suggestions?\\nSystem: How about Office Christmas Party (2016) ?\\nUser: seen that one. very funny\\nUser: any more?\\nUser: I like Pineapple Express  (2008)\\nSystem: What about Bad Moms (2016) &gt; My wife says it's hilarious.\\nUser: haven't seen that\\nSystem: I personally liked The House  (2017) with Will Ferrel\\nUser: is it any good?\\nUser: seen that one\\nUser: I also like The Big Lebowski\\nUser: what do you like?\\nSystem: That one was good.\\nSystem: I'm more of a mystery and horror kind of guy\\nUser: I do like mysteries also.\\nUser: Nice chatting with you\\nSystem: Likewise! :)\\n\\n13. Conversation\\nUser: hi there\\nSystem: Hello\\nUser: any good sci-fi suggestions?\\nSystem: Have you seen the new Star Wars\\nUser: love star wars, seen them all\\nUser: Also like movies like Apollo 13  (1995)\\nSystem: Yeah that's a good one. Arrival  (2016) was really good too\\nUser: seen arrival, it was okay\\nUser: also like Gravity  (2013)\\nUser: what do you like?\\nSystem: I like Sci-Fi a lot, but the genre has been eh lately. I didn't like the new Alien  (1979) movie too much.\\nSystem: Or Terminator Genisys (2015)\\nUser: yeah me neither, the first one will always be the best to me\\nUser: didn't like that at all\\nUser: T2 is my Fav\\nUser: Terminator 2: Judgment Day (1991)\\nSystem: I agree\\nUser: might have to watch Aliens again.\\nUser: thanks for the suggestions\\nSystem: Yeah you too\\nSystem: Goodbye\\n\\n14. Click\\nDie Hard (1988)\\nMad Max: Fury Road (2015)\\n\\n15. Click\\nThe Silence of the Hams (1994)\\n\\n### User Preferences:\\n\\nThe user prefers dramas that are emotionally engaging and have strong narratives, often centered around human relationships and societal issues. They enjoy films with complex storytelling and character development, as well as those that are intellectually stimulating and have intricate plots. The user also appreciates movies with historical or social contexts that are both emotionally and intellectually engaging.<|endoftext|>\"\"\"\n",
    "\n",
    "tokens = tokenizer.encode(data, add_special_tokens=False)\n",
    "\n",
    "print(len(tokens))"
   ]
  },
  {
   "cell_type": "code",
   "execution_count": 2,
   "metadata": {},
   "outputs": [
    {
     "name": "stdout",
     "output_type": "stream",
     "text": [
      "<|endoftext|>\n",
      "151643\n",
      "<|endoftext|>\n",
      "151643\n"
     ]
    }
   ],
   "source": [
    "from transformers import AutoTokenizer\n",
    "\n",
    "tokenizer = AutoTokenizer.from_pretrained(\"/mnt/wangxiaolei/model/Qwen/gte-Qwen2-7B-instruct\")\n",
    "\n",
    "print(tokenizer.pad_token)\n",
    "print(tokenizer.pad_token_id)\n",
    "print(tokenizer.eos_token)\n",
    "print(tokenizer.eos_token_id)\n"
   ]
  }
 ],
 "metadata": {
  "kernelspec": {
   "display_name": "mfz_trl",
   "language": "python",
   "name": "python3"
  },
  "language_info": {
   "codemirror_mode": {
    "name": "ipython",
    "version": 3
   },
   "file_extension": ".py",
   "mimetype": "text/x-python",
   "name": "python",
   "nbconvert_exporter": "python",
   "pygments_lexer": "ipython3",
   "version": "3.9.21"
  }
 },
 "nbformat": 4,
 "nbformat_minor": 2
}
