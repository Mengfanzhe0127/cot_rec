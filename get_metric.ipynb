{
 "cells": [
  {
   "cell_type": "code",
   "execution_count": 1,
   "metadata": {},
   "outputs": [],
   "source": [
    "import re"
   ]
  },
  {
   "cell_type": "code",
   "execution_count": 2,
   "metadata": {},
   "outputs": [],
   "source": [
    "data = {'eval_loss': 7.196746826171875, 'eval_recall@1': 0.024955436720142603, 'eval_mrr@1': 0.024955436720142603, 'eval_ndcg@1': 0.024955436720142603, 'eval_recall@5': 0.09803921568627451, 'eval_mrr@5': 0.04988116458704694, 'eval_ndcg@5': 0.06177400305910842, 'eval_recall@10': 0.16399286987522282, 'eval_mrr@10': 0.05817559346971112, 'eval_ndcg@10': 0.08259275017680366, 'eval_recall@20': 0.19964349376114082, 'eval_mrr@20': 0.0605428650225094, 'eval_ndcg@20': 0.09147489132019432, 'eval_recall@50': 0.28342245989304815, 'eval_mrr@50': 0.06322492620705053, 'eval_ndcg@50': 0.10811443690717487, 'eval_runtime': 29.3041, 'eval_samples_per_second': 19.144, 'eval_steps_per_second': 4.812, 'epoch': 3.0}"
   ]
  },
  {
   "cell_type": "code",
   "execution_count": 9,
   "metadata": {},
   "outputs": [],
   "source": [
    "data = {'eval_loss': 7.200924873352051, 'eval_recall@1': 0.023172905525846704, 'eval_mrr@1': 0.023172905525846704, 'eval_ndcg@1': 0.023172905525846704, 'eval_recall@5': 0.10160427807486631, 'eval_mrr@5': 0.049881164587046944, 'eval_ndcg@5': 0.06259037213300955, 'eval_recall@10': 0.14616755793226383, 'eval_mrr@10': 0.05636335342217695, 'eval_ndcg@10': 0.07753369131851683, 'eval_recall@20': 0.1889483065953654, 'eval_mrr@20': 0.05938476662864504, 'eval_ndcg@20': 0.08841256005185519, 'eval_recall@50': 0.2887700534759358, 'eval_mrr@50': 0.06246020400593011, 'eval_ndcg@50': 0.10802427650886329, 'eval_runtime': 36.6837, 'eval_samples_per_second': 15.293, 'eval_steps_per_second': 0.136, 'epoch': 2.0}"
   ]
  },
  {
   "cell_type": "code",
   "execution_count": 11,
   "metadata": {},
   "outputs": [],
   "source": [
    "data = {'eval_loss': 7.506350040435791, 'eval_recall@1': 0.0392156862745098, 'eval_mrr@1': 0.0392156862745098, 'eval_ndcg@1': 0.0392156862745098, 'eval_recall@5': 0.1051693404634581, 'eval_mrr@5': 0.06265597147950089, 'eval_ndcg@5': 0.07319686138580696, 'eval_recall@10': 0.1568627450980392, 'eval_mrr@10': 0.0693213649096002, 'eval_ndcg@10': 0.08967950566297421, 'eval_recall@20': 0.20855614973262032, 'eval_mrr@20': 0.07303926889591861, 'eval_ndcg@20': 0.10291334938633477, 'eval_recall@50': 0.28520499108734404, 'eval_mrr@50': 0.07556588582362501, 'eval_ndcg@50': 0.11826786704081536, 'eval_runtime': 34.8921, 'eval_samples_per_second': 16.078, 'eval_steps_per_second': 2.035, 'epoch': 3.0}"
   ]
  },
  {
   "cell_type": "code",
   "execution_count": 13,
   "metadata": {},
   "outputs": [],
   "source": [
    "data = {'eval_loss': 7.2466020584106445, 'eval_recall@1': 0.0374331550802139, 'eval_mrr@1': 0.0374331550802139, 'eval_ndcg@1': 0.0374331550802139, 'eval_recall@5': 0.09090909090909091, 'eval_mrr@5': 0.055407011289364226, 'eval_ndcg@5': 0.0641036330695159, 'eval_recall@10': 0.1408199643493761, 'eval_mrr@10': 0.06164162634750869, 'eval_ndcg@10': 0.07981471762214018, 'eval_recall@20': 0.18716577540106952, 'eval_mrr@20': 0.06487407652185553, 'eval_ndcg@20': 0.09156211421741828, 'eval_recall@50': 0.2905525846702317, 'eval_mrr@50': 0.06800423931574862, 'eval_ndcg@50': 0.11178774356056945, 'eval_runtime': 36.9137, 'eval_samples_per_second': 15.198, 'eval_steps_per_second': 3.82, 'epoch': 3.0}"
   ]
  },
  {
   "cell_type": "code",
   "execution_count": 1,
   "metadata": {},
   "outputs": [],
   "source": [
    "data = {'eval_loss': 7.159536361694336, 'eval_recall@1': 0.023172905525846704, 'eval_mrr@1': 0.023172905525846704, 'eval_ndcg@1': 0.023172905525846704, 'eval_recall@5': 0.0784313725490196, 'eval_mrr@5': 0.04284016636957813, 'eval_ndcg@5': 0.05165121788717486, 'eval_recall@10': 0.13903743315508021, 'eval_mrr@10': 0.05055032113855644, 'eval_ndcg@10': 0.07087270254284311, 'eval_recall@20': 0.1800356506238859, 'eval_mrr@20': 0.053389229316366284, 'eval_ndcg@20': 0.08122776373426083, 'eval_recall@50': 0.2905525846702317, 'eval_mrr@50': 0.056966715404148764, 'eval_ndcg@50': 0.10324613660334558, 'eval_runtime': 39.804, 'eval_samples_per_second': 14.094, 'eval_steps_per_second': 3.542, 'epoch': 6.0}"
   ]
  },
  {
   "cell_type": "code",
   "execution_count": 2,
   "metadata": {},
   "outputs": [
    {
     "name": "stdout",
     "output_type": "stream",
     "text": [
      "0.0232, 0.0784, 0.1390, 0.1800, 0.2906, 0.0232, 0.0428, 0.0506, 0.0534, 0.0570, 0.0232, 0.0517, 0.0709, 0.0812, 0.1032\n"
     ]
    }
   ],
   "source": [
    "# 提取需要的键值对\n",
    "keys = [k for k in data.keys() if k.startswith('eval_') and k not in ['eval_loss', 'eval_runtime', 'eval_samples_per_second', 'eval_steps_per_second', 'epoch']]\n",
    "\n",
    "# 按照recall、mrr、ndcg的顺序排序\n",
    "recall_keys = sorted([k for k in keys if 'recall' in k], key=lambda x: int(x.split('@')[1]))\n",
    "mrr_keys = sorted([k for k in keys if 'mrr' in k], key=lambda x: int(x.split('@')[1]))\n",
    "ndcg_keys = sorted([k for k in keys if 'ndcg' in k], key=lambda x: int(x.split('@')[1]))\n",
    "\n",
    "# 合并所有键\n",
    "sorted_keys = recall_keys + mrr_keys + ndcg_keys\n",
    "\n",
    "# 按照要求格式化输出\n",
    "formatted_data = [f\"{data[key]:.4f}\" for key in sorted_keys]\n",
    "print(', '.join(formatted_data))"
   ]
  }
 ],
 "metadata": {
  "kernelspec": {
   "display_name": "mfz_trl",
   "language": "python",
   "name": "python3"
  },
  "language_info": {
   "codemirror_mode": {
    "name": "ipython",
    "version": 3
   },
   "file_extension": ".py",
   "mimetype": "text/x-python",
   "name": "python",
   "nbconvert_exporter": "python",
   "pygments_lexer": "ipython3",
   "version": "3.9.21"
  }
 },
 "nbformat": 4,
 "nbformat_minor": 2
}
