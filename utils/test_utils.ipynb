{
 "cells": [
  {
   "cell_type": "code",
   "execution_count": 1,
   "metadata": {},
   "outputs": [],
   "source": [
    "import numpy as np"
   ]
  },
  {
   "cell_type": "code",
   "execution_count": 2,
   "metadata": {},
   "outputs": [],
   "source": [
    "def calculate_mrr(predictions: np.ndarray, labels: np.ndarray, k: int) -> float:\n",
    "    \"\"\"\n",
    "    MRR@k\n",
    "    \n",
    "    Args:\n",
    "        predictions: shape=[batch_size, num_items]\n",
    "        labels: shape=[batch_size]\n",
    "        k: top k recommendations\n",
    "        \n",
    "    Returns:\n",
    "        MRR@k\n",
    "    \"\"\"\n",
    "    top_k_preds = predictions[:, :k]\n",
    "    hits = (top_k_preds == labels.reshape(-1, 1))\n",
    "\n",
    "    # 计算排名：找到第一个命中的索引（从1开始）\n",
    "    ranks = np.argmax(hits, axis=1) + 1  # +1 是因为排名从1开始\n",
    "\n",
    "    # 无命中的设为0（MRR 计算时未命中的应为 0）\n",
    "    ranks[~np.any(hits, axis=1)] = 0  \n",
    "\n",
    "    # 计算 Reciprocal Rank：1/排名，对于无命中样本保持为 0\n",
    "    mrr_scores = np.zeros_like(ranks, dtype=float)\n",
    "    valid_mask = ranks > 0\n",
    "    mrr_scores[valid_mask] = 1.0 / ranks[valid_mask]\n",
    "\n",
    "    return np.mean(mrr_scores)"
   ]
  },
  {
   "cell_type": "code",
   "execution_count": 5,
   "metadata": {},
   "outputs": [
    {
     "name": "stdout",
     "output_type": "stream",
     "text": [
      "0.3333333333333333\n"
     ]
    }
   ],
   "source": [
    "predictions = np.array([[0, 1, 2], [2, 1, 0], [1, 2, 0]])\n",
    "labels = np.array([2, 0, 1])\n",
    "k = 2\n",
    "\n",
    "print(calculate_mrr(predictions, labels, k))"
   ]
  },
  {
   "cell_type": "code",
   "execution_count": 6,
   "metadata": {},
   "outputs": [
    {
     "name": "stdout",
     "output_type": "stream",
     "text": [
      "0.5\n"
     ]
    }
   ],
   "source": [
    "predictions = np.array([[1, 2, 0], [0, 2, 1], [2, 0, 1]])\n",
    "labels = np.array([2, 0, 1])\n",
    "k = 2\n",
    "\n",
    "print(calculate_mrr(predictions, labels, k))"
   ]
  }
 ],
 "metadata": {
  "kernelspec": {
   "display_name": "mfz_trl",
   "language": "python",
   "name": "python3"
  },
  "language_info": {
   "codemirror_mode": {
    "name": "ipython",
    "version": 3
   },
   "file_extension": ".py",
   "mimetype": "text/x-python",
   "name": "python",
   "nbconvert_exporter": "python",
   "pygments_lexer": "ipython3",
   "version": "3.9.21"
  }
 },
 "nbformat": 4,
 "nbformat_minor": 2
}
